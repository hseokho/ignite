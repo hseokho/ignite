{
 "cells": [
  {
   "cell_type": "code",
   "execution_count": 2,
   "metadata": {
    "collapsed": true
   },
   "outputs": [],
   "source": [
    "from pyspark.sql import functions as F\n",
    "from pyspark.sql.types import *\n",
    "from pyspark.sql import Row\n",
    "\n",
    "from pyspark.ml.feature import StringIndexer, OneHotEncoder, VectorIndexer, VectorAssembler\n",
    "from pyspark.ml import Pipeline\n",
    "from pyspark.mllib.regression import LabeledPoint\n",
    "from pyspark.mllib.tree import GradientBoostedTrees\n",
    "from pyspark.mllib.tree import RandomForest\n",
    "from pyspark.mllib.classification import SVMWithSGD\n",
    "from pyspark.mllib.classification import LogisticRegressionWithSGD\n",
    "from pyspark.mllib.linalg.distributed import IndexedRow, IndexedRowMatrix\n",
    "from pyspark.mllib.linalg import Vectors, DenseVector, SparseVector\n",
    "from pyspark.ml.regression import GBTRegressor\n",
    "from pyspark.ml.tuning import CrossValidator, ParamGridBuilder\n",
    "from pyspark.ml.evaluation import RegressionEvaluator\n",
    "from pyspark.ml.feature import HashingTF, IDF, Tokenizer\n",
    "\n",
    "import pandas as pd\n",
    "import numpy as np\n",
    "from IPython.display import display\n",
    "\n",
    "import operator\n",
    "from collections import defaultdict, Counter\n",
    "from sklearn import metrics"
   ]
  },
  {
   "cell_type": "code",
   "execution_count": 3,
   "metadata": {
    "collapsed": false
   },
   "outputs": [
    {
     "data": {
      "text/plain": [
       "DataFrame[key: string, value: string]"
      ]
     },
     "execution_count": 3,
     "metadata": {},
     "output_type": "execute_result"
    }
   ],
   "source": [
    "sqlContext.sql(\"set spark.sql.shuffle.partitions=5000\")"
   ]
  },
  {
   "cell_type": "code",
   "execution_count": 4,
   "metadata": {
    "collapsed": true
   },
   "outputs": [],
   "source": [
    "party_values = [\n",
    "    'end_customer_party_ssot_party_id_int_sav_party_id',\n",
    "    'prior_party_ssot_party_id_int_sav_party_id',\n",
    "    'sol_branch_party',\n",
    "    'sol_gu_party',\n",
    "    'sol_hq_party',\n",
    "    'order_level_branch_party',\n",
    "    'order_level_gu_party',\n",
    "    'order_level_hq_party',\n",
    "    'line_level_branch_party',\n",
    "    'line_level_gu_party',\n",
    "    'line_level_hq_party',\n",
    "    'ship_to_branch_party',\n",
    "    'ship_to_gu_party',\n",
    "    'ship_to_hq_party',\n",
    "    'bill_to_branch_party',\n",
    "    'bill_to_gu_party',\n",
    "    'bill_to_hq_party',\n",
    "    'sold_to_branch_party',\n",
    "    'sold_to_gu_party',\n",
    "    'sold_to_hq_party'\n",
    "]\n",
    "\n",
    "address_fields = [\n",
    "    'address1', 'address2', 'address3', 'address4',\n",
    "    'city', 'county', 'state', 'postal_code', 'street_name',\n",
    "    'street_number', 'street_direction', 'street_type'\n",
    "]\n"
   ]
  },
  {
   "cell_type": "code",
   "execution_count": 10,
   "metadata": {
    "collapsed": false
   },
   "outputs": [],
   "source": [
    "savm_parsed = sqlContext.sql(\"select * from ignite.savm_parsed\").repartition(100).cache()\n",
    "#temp because hadoop disk can't keep up...\n",
    "party_expansion = sqlContext.sql(\"select * from ignite.party_expansion_temp\").select(party_values +\n",
    "        [\n",
    "            'id', 'sales_acct_id', 'prior_party_name', 'end_customer_line_fix'\n",
    "        ]).cache()"
   ]
  },
  {
   "cell_type": "code",
   "execution_count": 11,
   "metadata": {
    "collapsed": false
   },
   "outputs": [],
   "source": [
    "# load and assemble all the candidates\n",
    "lsh_candidates = sqlContext.sql('select * from ignite.lsh_savm_candidates_2').withColumn('candidate_party_id', F.col('party_id_candidate'))\n",
    "direct_candidates = sqlContext.sql('select * from ignite.direct_id_candidates').withColumn('candidate_party_id', F.col('candidate_party'))\n",
    "parent_expansion_candidates = sqlContext.sql('select * from ignite.parent_expansion_candidates').withColumn('candidate_party_id', F.col('candidate_party'))\n",
    "columns = ['id', 'candidate_sales_acct_id', 'candidate_party_id']\n",
    "candidate_gen = lsh_candidates.select(columns).unionAll(direct_candidates.select(columns)).unionAll(sqlContext.sql('select * from ignite.bigram_candidates').select(columns))\n",
    "candidate_gen = candidate_gen.unionAll(parent_expansion_candidates.select(columns)).drop_duplicates().cache()"
   ]
  },
  {
   "cell_type": "code",
   "execution_count": 12,
   "metadata": {
    "collapsed": false
   },
   "outputs": [],
   "source": [
    "# load topic modeling data\n",
    "topic_modeling_savm = sqlContext.sql('select * from ignite.topic_modeling_savm_tfidf')\n",
    "topic_modeling_words = sqlContext.sql('select * from ignite.topic_modeling_per_word').cache()\n",
    "cr_parsed = sqlContext.sql(\"select * from ignite.cr_parsed\").repartition(500).cache()"
   ]
  },
  {
   "cell_type": "code",
   "execution_count": 13,
   "metadata": {
    "collapsed": false
   },
   "outputs": [],
   "source": [
    "# thin out whatever we can to conserve memory\n",
    "def drop_columns(df, columns):\n",
    "    return df.select([c for c in df.columns if c not in columns])\n",
    "\n",
    "savm_parsed = drop_columns(savm_parsed, ['geo_valid_status', 'completenes_status', 'cleansed_status', 'start_date', 'end_date',\n",
    "                          'program_id', 'request_id', 'created_by', 'last_updated_by', 'creation_date', 'last_update_date',\n",
    "                          'certified_date', 'site_expl_id', 'conflict_batch_id', 'sa_member_id', 'parent_sa_member_id',\n",
    "                          'link_party_type', 'account_type', 'operation_type'\n",
    "                    ])\n",
    "cr_parsed = drop_columns(cr_parsed, ['geo_valid_status', 'completenes_status', 'cleansed_status', 'start_date', 'end_date',\n",
    "                          'program_id', 'request_id', 'created_by', 'last_updated_by', 'creation_date', 'last_update_date',\n",
    "                          'certified_date'\n",
    "                    ])\n"
   ]
  },
  {
   "cell_type": "code",
   "execution_count": 12,
   "metadata": {
    "collapsed": false
   },
   "outputs": [],
   "source": [
    "# savm will be joined to the feature input--if it is too large then we'll run out of memory\n",
    "builder = savm_parsed.fillna(-1, ['party_id', 'parent_party_id'])\n",
    "builder = builder.fillna(\"\", ['address1', 'address2', 'city', 'state', 'postal_code', 'country_code', 'cleaned_name'])\n",
    "\n",
    "columnized_savm = builder.groupby('sales_acct_id').agg(\n",
    "    F.collect_list('party_id').alias('savm_party_ids'),\n",
    "    F.collect_list('parent_party_id').alias('savm_parent_party_ids'),\n",
    "    F.collect_list('address1').alias('savm_address_1'),\n",
    "    F.collect_list('address2').alias('savm_address_2'),\n",
    "    F.collect_list('city').alias('savm_city'),\n",
    "    F.collect_list('state').alias('savm_state'),\n",
    "    F.collect_list('postal_code').alias('savm_postal_code'),\n",
    "    F.collect_list('country_code').alias('savm_country_code'),\n",
    "    F.collect_list('split_pct').alias('savm_split_pct'),\n",
    "    F.collect_list('cleaned_name').alias('savm_cleaned_name'),\n",
    ")\n",
    "\n",
    "def trim_list(x, k = 100):\n",
    "    if len(x) > k:\n",
    "        return x[:k]\n",
    "    return x\n",
    "\n",
    "def select_columns(columnized_savm):\n",
    "    columns = []\n",
    "    for c in columnized_savm.columns:\n",
    "        if c == 'sales_acct_id':\n",
    "            columns.append(F.col('sales_acct_id').alias('savm_sales_acct_id'))\n",
    "        else:\n",
    "            columns.append(c)\n",
    "    return columns\n",
    "\n",
    "def apply_function(df, fields, function):\n",
    "    for field in fields:\n",
    "        df = df.withColumn(field, function(field))\n",
    "    return df\n",
    "\n",
    "columnized_savm = columnized_savm.select(select_columns(columnized_savm))\n"
   ]
  },
  {
   "cell_type": "code",
   "execution_count": 13,
   "metadata": {
    "collapsed": true
   },
   "outputs": [],
   "source": [
    "\n",
    "columnized_savm = apply_function(columnized_savm, ['savm_party_ids', 'savm_parent_party_ids'], lambda c : F.udf(trim_list, ArrayType(IntegerType()))(F.col(c).cast(ArrayType(IntegerType()))).alias(c))\n",
    "columnized_savm = apply_function(columnized_savm, [\n",
    "        'savm_address_1', 'savm_address_2', 'savm_city', 'savm_state',\n",
    "        'savm_postal_code', 'savm_country_code', \n",
    "        'savm_split_pct', 'savm_cleaned_name'\n",
    "    ], lambda c : F.udf(trim_list, ArrayType(StringType()))(F.col(c)).alias(c))\n",
    "columnized_savm = columnized_savm.repartition(2000, 'savm_sales_acct_id')"
   ]
  },
  {
   "cell_type": "code",
   "execution_count": 66,
   "metadata": {
    "collapsed": true
   },
   "outputs": [
    {
     "data": {
      "text/plain": [
       "[Row(savm_sales_acct_id=203850076.0, savm_party_ids=[43490895, 232764067, 281649435, 280839189, 231861733, 239847484, 122792312, 250486581, 232935868, 244994938, 234635568, 246804156, 44142969, 233580088, 135492702, 254747825, 245749845, 224895319, 204222472, 247309862, 240752903, 246400438, 158016724, 269138341, 235363178, 138559180, 232137898, 234644335, 87536854, 205029960, 258355630, 234622741, 271361593, 256874456, 233674402, 211815965, 249313159, 280809386, 235868837, 244439617, 185479220, 274273679, 247314251, 281395787, 271741272, 269988782, 247551788, 44701422, 246637068, 170671506, 256242944, 253856154, 255665078, 181209640, 158843395, 43490847, 255079090, 45505862, 235367192, 10795311, 9351509, 270906855, 32084038, 232621400, 228900124, 270703843, 111707483, 115418156, 245839334, 269619617, 256103028, 83671198, 248945881, 275003045, 248324373, 255665465, 238165170, 270841034, 9872712, 84884762, 112372717, 4880293, 232396179, 233522272, 222744242, 257903413, 266389002, 236981639, 236071372, 249715649, 273335975, 207196145, 256831699, 115661478, 256628998, 247386808, 277388066, 255672382, 220204603, 246805443], savm_parent_party_ids=[7511692, 7511692, 7511692, 7511692, 7511692, 7511692, 7511692, 7511692, 7511692, 7511692, 7511692, 7511692, 7511692, 7511692, 7511692, 7511692, 7511692, 7511692, 7511692, 7511692, 7511692, 7511692, 7511692, 7511692, 7511692, 7511692, 7511692, 7511692, 7511692, 7511692, 7511692, 7511692, 7511692, 7511692, 7511692, 7511692, 7511692, 7511692, 7511692, 7511692, 7511692, 7511692, 7511692, 7511692, 7511692, 7511692, 7511692, 7511692, 7511692, 7511692, 7511692, 7511692, 7511692, 7511692, 7511692, 7511692, 7511692, 7511692, 7511692, 7511692, 7511692, 7511692, 7511692, 7511692, 7511692, 7511692, 7511692, 7511692, 7511692, 7511692, 7511692, 7511692, 7511692, 7511692, 7511692, 7511692, 7511692, 7511692, 7511692, 7511692, 7511692, -1, 7511692, 7511692, 7511692, 7511692, 7511692, 7511692, 7511692, 7511692, 7511692, 7511692, 7511692, 7511692, 7511692, 7511692, 7511692, 7511692, 7511692, 7511692], savm_address_1=[u'1566 W ALGONQUIN RD', u'2801 LAKESIDE DR', u'ROCK IS', u'2801 LAKESIDE DR FL 3, DEERFIELD, IL 60015 US', u'2801 LAKESIDE DR', u'33 NW IRVING AVE', u'10379 MONARCH RD', u'801 LAKESIDE FL 1', u'2180 LAKESIDE DR', u'2801 LAKESIDE DR', u'2801 LAKESIDE DR', u'2801 LAKESIDE 1ST FLOOR', u'2301 SHERMER RD', u'2801 LAKESIDE DR', u'DISTI DID NOT PROVIDE ADDRESS LINE1', u'2801 LAKESIDE FL 1', u'6744 INDIAN WAY W', u'4337 S PERRYVILLE RD', u'846 SHAGBARK LN', u'3384 COMMERCIAL AVE', u'2301 LAKESIDE DRIVE', u'2801 LAKESIDE DRSTE 125 ', u'860 REMINGTON RD', u'7301 S MEADE AVE', u'111 BARCLAY BLVD', u'500 LAKE COOK RD', u'2801 LAKESIDE FL 1   LJ 4700 FUSER', u'2801 LAKESIDE DR', u'2775 SHERMER RD', u'4337 S PERRYVILLE RD', u'2801 LAKESIDE FL 1', u'2801 LAKESIDE DR STE 125', u'2801 LAKESIDE FL 1', u'4337 S PERRYVILLE RD STE 107', u'2801 LAKESIDE DR', u'PO BOX 1903', u'2801 LAKESIDE 1ST FLOOR', u'170 W TASMAN DR', u'3911 W ADDISON ST', u'495 W BURGUNDY ST', u'200 N MILWAUKEE AVE', u'2801 LAKESIDE DR', u'2801 LAKESIDE 1ST FLOOR', u'8471 BIG BOY DR NE', u'29 E STEPHENSON ST', u'118 DAVID DR', u'2801 LAKESIDE 1ST FLOOR', u'1102 BEED AVE', u'2801 LAKESIDE FL 1   335466 PHONES', u'2801LAKESIDE', u'4337 S PERRYVILLE RD', u'2801 LAKESIDE DR', u'SUBSCRIBER DID NOT PROVIDE ADDRESS LINE1', u'9300 METCALF AVE', u'9000 W COLLEGE PKWY', u'1566 W ALGONQUIN RD', u'2801 LAKESIDE 1ST FLOOR', u'850 CENTRAL AVE', u'6840 32ND ST', u'100 CHICAGO ST.', u'1211 SANCTUARY LN', u'2801 LAKESIDE FL 1', u'2275 HALF DAY RD', u'2801 LAKESIDE DR', u'4337 S PERRYVILLE RD', u'222 MERCHANDISE MART PLZ', u'ATTN BORISLAV MATEEV', u'540 W FRONTAGE RD', u'4337 S PERRYVILLE RD STE 107', u'1331 E BUSINESS CENTER DR', u'2801 LAKESIDE FL 1', u'1619 VINCENT CT', u'400 N EXECUTIVE DR', u'2801 LAKESIDE DR', u'SUBSCRIBER DID NOT PROVIDE ADDRESS LINE1', u'2801 LAKESIDE DR', u'1350 17TH ST', u'2801 LAKESIDE FL 1', u'13200 NETCALF AVENUE', u'139 MIDDLETOWN AVE', u'1601 W ALGONQUIN RD', u'1502 CENTER ST', u'4337 S PERRYVILLE RD', u'4337 S PERRYVILLE RD', u'4337 S PERRYVILLE RD STE 107', u'2801 LAKESIDE FL 1', u'3384 COMMERCIAL AVE', u'2801 LAKESIDE DR', u'4337 S PERRYVILLE RD STE 107', u'2801 LAKESIDE DR STE 125', u'2801 LAKESIDE DR', u'4337 S PERRYVILLE RD', u'2801 LAKESIDE FL 1', u'570 LAKE COOK RD', u'4337 S PERRYVILLE RD STE 107', u'3384 COMMERCIAL AVE', u'2801 LAKESIDE DRIVE STE 125', u'SUBSCRIBER DID NOT PROVIDE ADDRESS LINE1', u'2801 LAKESIDE DR', u'2801 LAKESIDE 1ST FLOOR'], savm_address_2=[u'', u'STE 125', u'', u'', u'STE 125', u'', u'UNIT 4', u'PO  HUC CISCO B200-GORE  0-GORE', u'', u'PO  CIT20141219H-ERLANGEN BAYERN', u'STE 1', u'TFSB 335466 PHONES', u'', u'STE 1', u'', u'PO  TFSB  TIMONIUM CD 2911', u'', u'STE 107', u'APT 301', u'', u'', u'', u'', u'', u'STE 280', u'STE 280', u'PO  FUJI - HUC SONOSITE PHO', u'STE 1', u'', u'STE 107', u'PO  CISCO 7841 FOR MARON HOSTED X4', u'ATTN MARC CASTIGLIONE', u'PO HUC-GWC SWITCHES JOSE MACIEL', u'PO  7TMCREQ14532 - POWER SUPPLIES', u'', u'', u'PO  HUC TFSB 2911X1   TFSB 335092', u'', u'', u'UNIT 932', u'', u'STE 125', u'NCSA 2911 336493', u'', u'', u'', u'PO SERVICEMASTER-HUC', u'', u'PO  TFSB HUC PHONES 8861 8941', u'DR', u'PO  15000551', u'STE 125-HUC', u'', u'', u'', u'UNIT 193', u'PO  FIVE9-ASR-JW', u'', u'', u'', u'', u'PO HUC-GWC SWITCHES', u'STE 300', u'STE 125', u'', u'STE 1212', u'2108 LAKESIDE DR', u'STE 3270', u'PO  153-OAR  1591138O', u'', u'PO  HUC ZORCH-2911-SEC   342636', u'', u'', u'PO CSC115185', u'', u'FL 3', u'STE 200', u'PO PW EMAIL APPROVAL', u'STE 300', u'STE 2', u'', u'STE 102', u'STE 107', u'STE 107', u'PO BOX 3970', u'PO  HUC-GWC SFP S', u'', u'STE 300', u'PO  CIT20141217A', u'PO ASPERALLANEMAIL20150610', u'STE 125', u'STE 107', u'PO  KIRK UCS FOR 2801   DAVE COSTA', u'', u'PO  15000551', u'PO  SIGNED QB EST  4555.1', u'PO CIT20160725D', u'', u'', u'PO ALSIP 3650'], savm_city=[u'HOFFMAN ESTATES', u'DEERFIELD', u'CHICAGO', u'DEERFIELD', u'DEERFIELD', u'BEND', u'ROSCOE', u'DEERFIELD', u'DEERFIELD', u'DEERFIELD', u'DEERFIELD', u'DEERFIELD', u'NORTHBROOK', u'DEERFIELD', u'INDIAN TRAIL ESTATES', u'DEERFIELD', u'MINNEAPOLIS', u'CHERRY VALLEY', u'NORTH AURORA', u'NORTHBROOK', u'DEERFIELD', u'DEERFIELD', u'SCHAUMBURG', u'CHICAGO', u'LINCOLNSHIRE', u'DEERFIELD', u'DEERFIELD', u'DEERFIELD', u'NORTHBROOK', u'CHERRY VALLEY', u'DEERFIELD', u'BANNOCKBURN', u'DEERFIELD', u'CHERRY VALLEY', u'DEERFIELD', u'EVANSTON', u'DEERFIELD', u'SAN JOSE', u'CHICAGO', u'LITTLETON', u'VERNON HILLS', u'DEERFIELD', u'DEERFIELD', u'REMER', u'FREEPORT', u'STREAMWOOD', u'DEERFIELD', u'ELBURN', u'DEERFIELD', u'BROADVIEW', u'CHERRY VALLEY', u'DEERFIELD', u'DEERFIELD', u'OVERLAND PARK', u'PALOS HILLS', u'HOFFMAN ESTATES', u'DEERFIELD', u'HANOVER PARK', u'BERWYN', u'CHICAGO', u'NAPERVILLE', u'DEERFIELD', u'DEERFIELD', u'DEERFIELD', u'CHERRY VALLEY', u'CHICAGO', u'DEERFIELD', u'WINNETKA', u'CHERRY VALLEY', u'MOUNT PROSPECT', u'DEERFIELD', u'NAPERVILLE', u'BROOKFIELD', u'DEERFIELD', u'N/A', u'DEERFIELD', u'DENVER', u'DEERFIELD', u'OVERLAND PARK', u'NORTH HAVEN', u'MOUNT PROSPECT', u'BETHLEHEM', u'CHERRY VALLEY', u'CHERRY VALLEY', u'CHERRY VALLEY', u'DEERFIELD', u'', u'DEERFIELD', u'CHERRY VALLEY', u'DEERFIELD', u'DEERFIELD', u'CHERRY VALLEY', u'DEERFIELD', u'DEERFIELD', u'CHERRY VALLEY', u'NORTHBROOK', u'DEERFIELD', u'DEERFIELD', u'DEERFIELD', u'DEERFIELD'], savm_state=[u'IL', u'IL', u'IL', u'IL', u'IL', u'OR', u'IL', u'IL', u'IL', u'IL', u'IL', u'IL', u'IL', u'IL', u'IL', u'IL', u'MN', u'IL', u'IL', u'IL', u'IL', u'IL', u'IL', u'IL', u'IL', u'IL', u'IL', u'IL', u'IL', u'IL', u'IL', u'IL', u'IL', u'IL', u'IL', u'IL', u'IL', u'CA', u'IL', u'CO', u'IL', u'IL', u'IL', u'MN', u'IL', u'IL', u'IL', u'IL', u'IL', u'IL', u'IL', u'IL', u'IL', u'KS', u'IL', u'IL', u'IL', u'IL', u'IL', u'IL', u'IL', u'IL', u'IL', u'IL', u'IL', u'IL', u'IL', u'IL', u'IL', u'IL', u'IL', u'IL', u'WI', u'IL', u'N/A', u'IL', u'CO', u'IL', u'KS', u'CT', u'IL', u'PA', u'IL', u'IL', u'IL', u'IL', u'', u'IL', u'IL', u'IL', u'IL', u'IL', u'IL', u'IL', u'IL', u'IL', u'IL', u'IL', u'IL', u'IL'], savm_postal_code=[u'60192', u'60015', u'60290', u'60015', u'60015', u'97701', u'61073', u'60015', u'60015', u'60015', u'60015', u'60015', u'60062', u'60015', u'60015', u'60015', u'55439', u'61016', u'60542', u'60062', u'60015', u'60015', u'60173', u'60638', u'60069', u'60015', u'60015', u'60015', u'60062', u'61016', u'60015', u'60015', u'60015', u'61016', u'60015', u'60204', u'60015', u'95134', u'60618', u'80129', u'60061', u'60015', u'60015', u'56672', u'61032', u'60107', u'60015', u'60119', u'60015', u'60155', u'61016', u'60015', u'60015', u'66212', u'60465', u'60192', u'60015', u'60133', u'60402', u'34090', u'60540', u'60015', u'60015', u'60015', u'61016', u'60654', u'60015', u'60093', u'61016', u'60056', u'60015', u'60564', u'53005', u'60015', u'', u'60015', u'80202', u'60015', u'66213', u'06473', u'60056', u'18018', u'61016', u'61016', u'61016', u'60015', u'', u'60015', u'61016', u'60015', u'60015', u'61016', u'60015', u'60015', u'61016', u'60062', u'60015', u'60015', u'60015', u'60015'], savm_country_code=[u'US', u'US', u'US', u'US', u'US', u'US', u'US', u'US', u'US', u'US', u'US', u'US', u'US', u'US', u'US', u'US', u'US', u'US', u'US', u'US', u'US', u'US', u'US', u'US', u'US', u'US', u'US', u'US', u'US', u'US', u'US', u'US', u'US', u'US', u'US', u'US', u'US', u'US', u'US', u'US', u'US', u'US', u'US', u'US', u'US', u'US', u'US', u'US', u'US', u'US', u'US', u'US', u'US', u'US', u'US', u'US', u'US', u'US', u'US', u'US', u'US', u'US', u'US', u'US', u'US', u'US', u'US', u'US', u'US', u'US', u'US', u'US', u'US', u'US', u'US', u'US', u'US', u'US', u'US', u'US', u'US', u'US', u'US', u'US', u'US', u'US', u'US', u'US', u'US', u'US', u'US', u'US', u'US', u'US', u'US', u'US', u'US', u'US', u'US', u'US'], savm_split_pct=[u'100.0', u'100.0', u'100.0', u'100.0', u'100.0', u'100.0', u'100.0', u'100.0', u'100.0', u'100.0', u'100.0', u'100.0', u'100.0', u'100.0', u'100.0', u'100.0', u'100.0', u'100.0', u'100.0', u'100.0', u'100.0', u'100.0', u'100.0', u'100.0', u'100.0', u'100.0', u'100.0', u'100.0', u'100.0', u'100.0', u'100.0', u'100.0', u'100.0', u'100.0', u'100.0', u'100.0', u'100.0', u'100.0', u'100.0', u'100.0', u'100.0', u'100.0', u'100.0', u'100.0', u'100.0', u'100.0', u'100.0', u'100.0', u'100.0', u'100.0', u'100.0', u'100.0', u'100.0', u'100.0', u'100.0', u'100.0', u'100.0', u'100.0', u'100.0', u'100.0', u'100.0', u'100.0', u'100.0', u'100.0', u'100.0', u'100.0', u'100.0', u'100.0', u'100.0', u'100.0', u'100.0', u'100.0', u'100.0', u'100.0', u'100.0', u'100.0', u'100.0', u'100.0', u'100.0', u'100.0', u'100.0', u'100.0', u'100.0', u'100.0', u'100.0', u'100.0', u'100.0', u'100.0', u'100.0', u'100.0', u'100.0', u'100.0', u'100.0', u'100.0', u'100.0', u'100.0', u'100.0', u'100.0', u'100.0', u'100.0'], savm_cleaned_name=[u'atg', u'netrix llc', u'netrix llc', u'netrix llc', u'netrix llc', u'netrix llc', u'netrix llc', u'netrix', u'netrix llc', u'netrix llc', u'netrix', u'netrix', u'netrix llc', u'netrix', u'netrix', u'netrix', u'netrix llc', u'netrix llc', u'netrix llc', u'netrix llc', u'netrix llc', u'netrix llc', u'netrix llc', u'netrix llc', u'u4g', u'netrix llc', u'netrix', u'netrix', u'netrix llc', u'netrix llc', u'netrix', u'u4g netrix', u'netrix', u'netrix llc', u'netrix', u'netrix llc', u'netrix', u'netrix llc', u'netrix llc', u'netrix llc', u'netrix llc', u'netrix re znhq', u'netrix', u'netrix', u'netrix', u'netrix', u'netrix', u'netrix llc', u'netrix', u'netrix llc', u'netrix llc', u'netrix llc', u'netrix llc', u'netrix llc', u'netrix llc', u'alliance technology group llc', u'netrix', u'netrix atg', u'netrix llc', u'netrix llc', u'netrix llc', u'netrix', u'netrix llc', u'netrix llc', u'netrix', u'netrix llc', u'netrix llc', u'netrix llc', u'netrix llc', u'netrix llc', u'netrix', u'netrix llc', u'netrix llc', u'netrix llc', u'netrix llc', u'netrixllc', u'netrix llc', u'netrix', u'alliance technology group llc', u'netrix llc', u'netrix llc', u'netrix inc', u'netrix llc', u'netrix llc', u'netrix llc', u'netrix', u'netrix llc', u'netrix llc', u'netrix llc', u'netrix llc', u'zurich netrix', u'netrixllc', u'netrix', u'netrix', u'netrix llc', u'netrix llc', u'netrix llc', u'netrix llc', u'netrixllc', u'netrix'])]"
      ]
     },
     "execution_count": 66,
     "metadata": {},
     "output_type": "execute_result"
    }
   ],
   "source": [
    "columnized_savm.where(F.col('savm_sales_acct_id') == 203850076.0).take(5)"
   ]
  },
  {
   "cell_type": "code",
   "execution_count": 8,
   "metadata": {
    "collapsed": false
   },
   "outputs": [
    {
     "data": {
      "text/plain": [
       "500019"
      ]
     },
     "execution_count": 8,
     "metadata": {},
     "output_type": "execute_result"
    }
   ],
   "source": [
    "columnized_savm.count()"
   ]
  },
  {
   "cell_type": "code",
   "execution_count": 67,
   "metadata": {
    "collapsed": true
   },
   "outputs": [],
   "source": [
    "columnized_savm.write.saveAsTable('ignite.temp_columnized_savm', mode = 'overwrite')"
   ]
  },
  {
   "cell_type": "code",
   "execution_count": 16,
   "metadata": {
    "collapsed": false
   },
   "outputs": [],
   "source": [
    "columnized_savm = sqlContext.sql('select * from ignite.temp_columnized_savm')"
   ]
  },
  {
   "cell_type": "code",
   "execution_count": 14,
   "metadata": {
    "collapsed": false
   },
   "outputs": [],
   "source": [
    "local_topic_modeling_words = topic_modeling_words.collect()\n",
    "topic_modeling_dict = {}\n",
    "for row in local_topic_modeling_words:\n",
    "    topic_modeling_dict[row.word] = row\n",
    "    \n",
    "topic_modeling_words_broadcast = sc.broadcast(topic_modeling_dict)"
   ]
  },
  {
   "cell_type": "code",
   "execution_count": 32,
   "metadata": {
    "collapsed": false
   },
   "outputs": [
    {
     "data": {
      "text/plain": [
       "Row(index=333, norm_max=0.19117041108616217, min_tfidf=3.9981968494108535e-05, avg_tfidf=0.6507507212780906, max_tfidf=4.069136284938971, count_docs=403, word=u'orange')"
      ]
     },
     "execution_count": 32,
     "metadata": {},
     "output_type": "execute_result"
    }
   ],
   "source": [
    "topic_modeling_words_broadcast.value['orange']"
   ]
  },
  {
   "cell_type": "code",
   "execution_count": 22,
   "metadata": {
    "collapsed": false
   },
   "outputs": [],
   "source": [
    "def tf_reduction(row):\n",
    "    threshold = len(row.words) / 100\n",
    "    word_indices = []\n",
    "    tf = []\n",
    "    idf = []\n",
    "    normalized_tfidf = []\n",
    "    for index in range(len(row.tf.indices)):\n",
    "        if row.tf.values[index] > threshold:\n",
    "            word_indices.append(int(row.tf.indices[index]))\n",
    "            tf.append(float(row.tf.values[index]))\n",
    "            idf.append(float(row.idf.values[index]))\n",
    "            normalized_tfidf.append(float(row.normalized_tfidf.values[index]))\n",
    "    return row.sales_acct_id, word_indices, tf, idf, normalized_tfidf\n",
    "\n",
    "topic_modeling_reduced = topic_modeling_savm.map(tf_reduction) \\\n",
    "                                .toDF(['candidate_sales_acct_id', 'word_indices', 'tf', 'idf', 'normalized_tfidf'])"
   ]
  },
  {
   "cell_type": "code",
   "execution_count": 17,
   "metadata": {
    "collapsed": false
   },
   "outputs": [],
   "source": [
    "# just tie candidates to contest data (cr parties comes later)\n",
    "contest_data_grouped = candidate_gen.select(['id', 'candidate_sales_acct_id']).drop_duplicates().join(party_expansion, on = 'id')\n",
    "candidate_counts = contest_data_grouped.map(lambda x : (x.id, 1)).reduceByKey(lambda x, y : x + y).toDF(['id', 'num_savm_candidates'])\n",
    "contest_data_grouped = contest_data_grouped.join(candidate_counts, on = 'id')"
   ]
  },
  {
   "cell_type": "code",
   "execution_count": 8,
   "metadata": {
    "collapsed": false
   },
   "outputs": [
    {
     "data": {
      "text/plain": [
       "[Row(id=3631, candidate_sales_acct_id=247635579.0, end_customer_party_ssot_party_id_int_sav_party_id=222463235, prior_party_ssot_party_id_int_sav_party_id=89477434, sol_branch_party=222463235, sol_gu_party=161729399, sol_hq_party=161729399, order_level_branch_party=222463235, order_level_gu_party=161729399, order_level_hq_party=161729399, line_level_branch_party=222463235, line_level_gu_party=161729399, line_level_hq_party=161729399, ship_to_branch_party=237608935, ship_to_gu_party=2694011, ship_to_hq_party=2694011, bill_to_branch_party=5934097, bill_to_gu_party=4430285, bill_to_hq_party=4430285, sold_to_branch_party=4430285, sold_to_gu_party=4430285, sold_to_hq_party=4430285, sales_acct_id=203858342.0, prior_party_name=u'branchburg boe', end_customer_line_fix=u'branchburg board of education', num_savm_candidates=6),\n",
       " Row(id=3631, candidate_sales_acct_id=203778512.0, end_customer_party_ssot_party_id_int_sav_party_id=222463235, prior_party_ssot_party_id_int_sav_party_id=89477434, sol_branch_party=222463235, sol_gu_party=161729399, sol_hq_party=161729399, order_level_branch_party=222463235, order_level_gu_party=161729399, order_level_hq_party=161729399, line_level_branch_party=222463235, line_level_gu_party=161729399, line_level_hq_party=161729399, ship_to_branch_party=237608935, ship_to_gu_party=2694011, ship_to_hq_party=2694011, bill_to_branch_party=5934097, bill_to_gu_party=4430285, bill_to_hq_party=4430285, sold_to_branch_party=4430285, sold_to_gu_party=4430285, sold_to_hq_party=4430285, sales_acct_id=203858342.0, prior_party_name=u'branchburg boe', end_customer_line_fix=u'branchburg board of education', num_savm_candidates=6),\n",
       " Row(id=3631, candidate_sales_acct_id=203702127.0, end_customer_party_ssot_party_id_int_sav_party_id=222463235, prior_party_ssot_party_id_int_sav_party_id=89477434, sol_branch_party=222463235, sol_gu_party=161729399, sol_hq_party=161729399, order_level_branch_party=222463235, order_level_gu_party=161729399, order_level_hq_party=161729399, line_level_branch_party=222463235, line_level_gu_party=161729399, line_level_hq_party=161729399, ship_to_branch_party=237608935, ship_to_gu_party=2694011, ship_to_hq_party=2694011, bill_to_branch_party=5934097, bill_to_gu_party=4430285, bill_to_hq_party=4430285, sold_to_branch_party=4430285, sold_to_gu_party=4430285, sold_to_hq_party=4430285, sales_acct_id=203858342.0, prior_party_name=u'branchburg boe', end_customer_line_fix=u'branchburg board of education', num_savm_candidates=6),\n",
       " Row(id=3631, candidate_sales_acct_id=203714839.0, end_customer_party_ssot_party_id_int_sav_party_id=222463235, prior_party_ssot_party_id_int_sav_party_id=89477434, sol_branch_party=222463235, sol_gu_party=161729399, sol_hq_party=161729399, order_level_branch_party=222463235, order_level_gu_party=161729399, order_level_hq_party=161729399, line_level_branch_party=222463235, line_level_gu_party=161729399, line_level_hq_party=161729399, ship_to_branch_party=237608935, ship_to_gu_party=2694011, ship_to_hq_party=2694011, bill_to_branch_party=5934097, bill_to_gu_party=4430285, bill_to_hq_party=4430285, sold_to_branch_party=4430285, sold_to_gu_party=4430285, sold_to_hq_party=4430285, sales_acct_id=203858342.0, prior_party_name=u'branchburg boe', end_customer_line_fix=u'branchburg board of education', num_savm_candidates=6),\n",
       " Row(id=3631, candidate_sales_acct_id=203878534.0, end_customer_party_ssot_party_id_int_sav_party_id=222463235, prior_party_ssot_party_id_int_sav_party_id=89477434, sol_branch_party=222463235, sol_gu_party=161729399, sol_hq_party=161729399, order_level_branch_party=222463235, order_level_gu_party=161729399, order_level_hq_party=161729399, line_level_branch_party=222463235, line_level_gu_party=161729399, line_level_hq_party=161729399, ship_to_branch_party=237608935, ship_to_gu_party=2694011, ship_to_hq_party=2694011, bill_to_branch_party=5934097, bill_to_gu_party=4430285, bill_to_hq_party=4430285, sold_to_branch_party=4430285, sold_to_gu_party=4430285, sold_to_hq_party=4430285, sales_acct_id=203858342.0, prior_party_name=u'branchburg boe', end_customer_line_fix=u'branchburg board of education', num_savm_candidates=6)]"
      ]
     },
     "execution_count": 8,
     "metadata": {},
     "output_type": "execute_result"
    }
   ],
   "source": [
    "contest_data_grouped.take(5)"
   ]
  },
  {
   "cell_type": "code",
   "execution_count": 18,
   "metadata": {
    "collapsed": false
   },
   "outputs": [],
   "source": [
    "candidates_with_cr = candidate_gen.join(cr_parsed, on = F.col('candidate_party_id') == F.col('party_id')).repartition(2000, 'id')\n",
    "candidates_with_cr = candidates_with_cr.fillna(-1, ['party_id', 'parent_party_id'])\n",
    "candidates_with_cr = candidates_with_cr.fillna(\"\", ['address1', 'address2', 'address3', 'address4', 'city', 'state', 'postal_code', 'country_code', 'cleaned_name'])"
   ]
  },
  {
   "cell_type": "code",
   "execution_count": 19,
   "metadata": {
    "collapsed": false
   },
   "outputs": [],
   "source": [
    "columnized_cr = candidates_with_cr.groupby('id', 'candidate_sales_acct_id').agg(\n",
    "    F.collect_list('party_id').alias('cr_party_ids'),\n",
    "    F.collect_list('parent_party_id').alias('cr_parent_party_ids'),\n",
    "    F.collect_list('address1').alias('cr_address1'),\n",
    "    F.collect_list('address2').alias('cr_address2'),\n",
    "    F.collect_list('address3').alias('cr_address3'),\n",
    "    F.collect_list('address4').alias('cr_address4'),\n",
    "    F.collect_list('city').alias('cr_city'),\n",
    "    F.collect_list('state').alias('cr_state'),\n",
    "    F.collect_list('postal_code').alias('cr_postal_code'),\n",
    "    F.collect_list('country_code').alias('cr_country_code'),\n",
    "    F.collect_list('cleaned_name').alias('cr_cleaned_name'),\n",
    ")\n",
    "\n",
    "columnized_cr = columnized_cr.repartition(2000).cache()"
   ]
  },
  {
   "cell_type": "code",
   "execution_count": 14,
   "metadata": {
    "collapsed": false
   },
   "outputs": [
    {
     "data": {
      "text/plain": [
       "DataFrame[id: bigint, candidate_sales_acct_id: double, cr_party_ids: array<double>, cr_parent_party_ids: array<double>, cr_address1: array<string>, cr_address2: array<string>, cr_address3: array<string>, cr_address4: array<string>, cr_city: array<string>, cr_state: array<string>, cr_postal_code: array<string>, cr_country_code: array<string>, cr_cleaned_name: array<string>]"
      ]
     },
     "execution_count": 14,
     "metadata": {},
     "output_type": "execute_result"
    }
   ],
   "source": [
    "columnized_cr"
   ]
  },
  {
   "cell_type": "code",
   "execution_count": 20,
   "metadata": {
    "collapsed": false
   },
   "outputs": [],
   "source": [
    "joined_candidates = columnized_cr.join(contest_data_grouped, on = ['id', 'candidate_sales_acct_id']).cache()\n",
    "joined_candidates = joined_candidates.withColumn('truth_sales_acct_id', F.col('sales_acct_id')).drop('sales_acct_id')"
   ]
  },
  {
   "cell_type": "code",
   "execution_count": 6,
   "metadata": {
    "collapsed": true
   },
   "outputs": [],
   "source": [
    "def add_sparse(vectors):\n",
    "    values = defaultdict(float) # Dictionary with default value 0.0\n",
    "    # Add values from v1\n",
    "    for v in vectors:\n",
    "        for i in range(v.indices.size):\n",
    "            values[v.indices[i]] += v.values[i]\n",
    "    return Vectors.sparse(vectors[0].size, dict(values))\n",
    "\n",
    "def hstack_sparse(sparse_vectors):\n",
    "    values = {}\n",
    "    index = 0\n",
    "    for vector in sparse_vectors:\n",
    "        for i in range(vector.indices.shape[0]):\n",
    "            values[vector.indices[i] + index] = vector.values[i]\n",
    "        index += vector.size\n",
    "    return Vectors.sparse(index, values)\n",
    "\n",
    "def hstack_lists(lists):\n",
    "    index = 0\n",
    "    values = {}\n",
    "    for l in lists:\n",
    "        for elem in l:\n",
    "            values[index] = elem\n",
    "            index += 1\n",
    "    return SparseVector(index, values)\n",
    "\n",
    "def list_to_sparse(dense):\n",
    "    values = {}\n",
    "    for i, v in enumerate(dense):\n",
    "        values[i] = v\n",
    "    return SparseVector(len(dense), values)"
   ]
  },
  {
   "cell_type": "code",
   "execution_count": 7,
   "metadata": {
    "collapsed": false
   },
   "outputs": [],
   "source": [
    "def jaccard(set1, set2):\n",
    "    union_length = len(set1.union(set2))\n",
    "    if union_length == 0:\n",
    "        return 0\n",
    "    return float(len(set1.intersection(set2))) / union_length\n",
    "\n",
    "def set_tokenize(string):\n",
    "    if string == None:\n",
    "        return []\n",
    "    split = string.lower().replace(\".\", \"\").replace(\"-\", \" \").replace(\",\", \"\").split(\" \")\n",
    "    return set(split)\n",
    "\n",
    "def equality_check(str1, str2):\n",
    "    if str1 == None or str2 == None:\n",
    "        return 0.5\n",
    "    if str1 != str2:\n",
    "        return 0\n",
    "    return 1\n",
    "\n",
    "# credits to wikibooks\n",
    "def longest_common_substring(s1, s2):\n",
    "    m = [[0] * (1 + len(s2)) for i in xrange(1 + len(s1))]\n",
    "    longest, x_longest = 0, 0\n",
    "    for x in xrange(1, 1 + len(s1)):\n",
    "        for y in xrange(1, 1 + len(s2)):\n",
    "            if s1[x - 1] == s2[y - 1]:\n",
    "                m[x][y] = m[x - 1][y - 1] + 1\n",
    "                if m[x][y] > longest:\n",
    "                    longest = m[x][y]\n",
    "                    x_longest = x\n",
    "            else:\n",
    "                m[x][y] = 0\n",
    "    return s1[x_longest - longest: x_longest]\n",
    "\n",
    "def savm_topic_score(cleaned_name, full_row, word_index_mapping):\n",
    "    topic_scores = [Vectors.sparse(8, [0], [0])]\n",
    "    \n",
    "    unseen_words = 0\n",
    "    words_not_in_savm = 0\n",
    "    \n",
    "    tokens = set_tokenize(cleaned_name)\n",
    "    \n",
    "    for token in tokens:\n",
    "            \n",
    "        #idk how to fix the out of bounds error\n",
    "        if token in topic_modeling_words_broadcast.value:\n",
    "            word_data = topic_modeling_words_broadcast.value[token]\n",
    "\n",
    "            if word_data['index'] in full_row.word_indices:\n",
    "                straight_vector_index = word_index_mapping[word_data['index']]\n",
    "                topic_vector = [\n",
    "                    word_data['count_docs'],\n",
    "                    full_row.normalized_tfidf[straight_vector_index],\n",
    "                    full_row.tf[straight_vector_index],\n",
    "                    full_row.idf[straight_vector_index],\n",
    "                    word_data['norm_max'],\n",
    "                    word_data['min_tfidf'],\n",
    "                    word_data['avg_tfidf'],\n",
    "                    word_data['max_tfidf'],\n",
    "                ]\n",
    "                topic_scores.append(list_to_sparse(topic_vector))\n",
    "            else:\n",
    "                words_not_in_savm += 1\n",
    "        else:\n",
    "            unseen_words += 1\n",
    "\n",
    "    if len(topic_scores) > 1:\n",
    "        topic_scores = topic_scores[1:] # remove the placeholder\n",
    "        \n",
    "    scored_vectors = [(topic[0], topic) for topic in topic_scores]\n",
    "    scored_vectors.sort(key = lambda x : x[0])\n",
    "    \n",
    "    final_subvector = hstack_sparse([concat_and_pad_vectors(scored_vectors), list_to_sparse([unseen_words, words_not_in_savm, len(tokens)])])\n",
    "    \n",
    "    return [min([point[0] for point in topic_scores]), final_subvector]\n",
    "\n",
    "def best_string_scores(full_row, k = 5):\n",
    "    jaccard_scores = []\n",
    "    longest_run = 0\n",
    "    longest_string = None\n",
    "    \n",
    "    savm_cleaned_names = full_row.savm_cleaned_name\n",
    "    \n",
    "    party_names = full_row.cr_cleaned_name + [full_row.prior_party_name, full_row.end_customer_line_fix]\n",
    "    \n",
    "    party_name_tokens = [set_tokenize(name) for name in party_names]\n",
    "    savm_party_name_tokens = [set_tokenize(name) for name in savm_cleaned_names]\n",
    "    \n",
    "    for i in range(len(party_names)):\n",
    "        for j in range(len(savm_cleaned_names)):\n",
    "            jaccard_scores.append(jaccard(party_name_tokens[i], savm_party_name_tokens[j]))\n",
    "            #lcs = longest_common_substring(party_names[i], savm_names[j]).strip()\n",
    "            #if len(lcs) > longest_run:\n",
    "            #    longest_run = len(lcs)\n",
    "            #    longest_string = lcs\n",
    "    \n",
    "    if len(jaccard_scores) < k:\n",
    "        jaccard_scores = jaccard_scores + [0] * (k - len(jaccard_scores))\n",
    "    \n",
    "    #return list_to_sparse([jaccard_score, longest_run, len(longest_string.split(\" \"))])\n",
    "    return list_to_sparse(jaccard_scores[:k])\n",
    "\n",
    "def address_similarity_score(full_row):\n",
    "    # really basic stuff\n",
    "    matching_zips = 0\n",
    "    matching_addresses = 0\n",
    "    for cr_zip_code in full_row.cr_postal_code:\n",
    "        if cr_zip_code in full_row.savm_postal_code:\n",
    "            matching_zips += 1\n",
    "    \n",
    "    for cr_address_1 in full_row.cr_address1:\n",
    "        if cr_address_1 in full_row.savm_address_1:\n",
    "            matching_addresses += 1\n",
    "            \n",
    "    # locality score to see if zip code even matters\n",
    "    two_digit_counter = Counter()\n",
    "    for savm_zip in full_row.savm_postal_code:\n",
    "        if len(savm_zip) >= 2:\n",
    "            two_digit_counter[savm_zip[:2]] += 1\n",
    "    \n",
    "    locality_score = len(two_digit_counter.keys())\n",
    "    \n",
    "    return list_to_sparse([matching_zips, matching_addresses, locality_score])\n",
    "\n",
    "def limit_vector(v, elem = 0, k = 10):\n",
    "    if len(v) < k:\n",
    "        return v + [elem] * (k - len(v))\n",
    "    return v[:k]\n",
    "    \n",
    "def savm_vector(full_row):\n",
    "    # most frequent tfs, idfs\n",
    "    word_indices = limit_vector(sorted(full_row.word_indices))\n",
    "    tfs = limit_vector(sorted(full_row.tf, reverse = True))\n",
    "    idfs = limit_vector(sorted(full_row.idf))\n",
    "    normalized_tfidfs = limit_vector(sorted(full_row.normalized_tfidf, reverse = True))\n",
    "    return hstack_lists([tfs, idfs, normalized_tfidfs, word_indices, [len(full_row.word_indices)]])\n",
    "            \n",
    "def concat_and_pad_vectors(scored_vectors, k = 10):\n",
    "    empty_vector = Vectors.sparse(len(scored_vectors[0][1]), {})\n",
    "    \n",
    "    combined_pairwise_vectors = []\n",
    "    for i in range(k):\n",
    "        if i < len(scored_vectors):\n",
    "            combined_pairwise_vectors.append(scored_vectors[i][1])\n",
    "        else:\n",
    "            combined_pairwise_vectors.append(empty_vector)\n",
    "    \n",
    "    return hstack_sparse(combined_pairwise_vectors)\n",
    "\n",
    "def featurize_pairwise(full_row, k = 10):\n",
    "\n",
    "    savm_parent_party_ids = full_row.savm_parent_party_ids\n",
    "    \n",
    "    savm_parent_party_id_counter = Counter(savm_parent_party_ids)\n",
    "    \n",
    "    party_match_vector = [0] * len(party_values)\n",
    "    hq_party_match_vector = [0] * len(party_values)\n",
    "    for i, party_value in enumerate(party_values):\n",
    "        party_match_vector[i] = 1 if full_row[party_value] in savm_parent_party_ids else 0\n",
    "        for j, key in enumerate(savm_parent_party_id_counter.keys()):\n",
    "            if key == full_row[party_value] and key != None:\n",
    "                hq_party_match_vector[i] = savm_parent_party_id_counter[key]\n",
    "        \n",
    "    party_match_vector = list_to_sparse(party_match_vector)\n",
    "    hq_party_match_vector = list_to_sparse(hq_party_match_vector)\n",
    "    \n",
    "    # cr_i * savm_i\n",
    "    # count the number of candidates that are direct or hq matching\n",
    "    \n",
    "    num_party_match = 0\n",
    "    num_hq_party_match = 0\n",
    "    \n",
    "    savm_party_ids = full_row.savm_party_ids\n",
    "    savm_party_ids_set = set(savm_party_ids)\n",
    "    \n",
    "    for cr_party in full_row.cr_party_ids:\n",
    "        if cr_party in savm_party_ids_set:\n",
    "            num_party_match += 1\n",
    "        if cr_party in savm_parent_party_id_counter.keys():\n",
    "            num_hq_party_match += 1\n",
    "    \n",
    "    cr_savm_party_match_vector = list_to_sparse([num_party_match, num_hq_party_match])\n",
    "    \n",
    "    # cr_i * savm_(all)\n",
    "    word_index_mapping = {}\n",
    "    for i, index in enumerate(full_row.word_indices):\n",
    "        word_index_mapping[index] = i\n",
    "    \n",
    "    scored_party_vectors = []\n",
    "    for cr_party_cleaned_name in full_row.cr_cleaned_name:\n",
    "        scored_party_vectors.append(savm_topic_score(cr_party_cleaned_name, full_row, word_index_mapping))\n",
    "    \n",
    "    scored_party_vectors.sort(key = lambda x : x[0], reverse = True)\n",
    "    scored_party_vectors = concat_and_pad_vectors(scored_party_vectors, k = 10)\n",
    "    \n",
    "    fuzzy_vector = best_string_scores(full_row)\n",
    "    \n",
    "    # cr_(all) * savm_(all)\n",
    "    address_vector = address_similarity_score(full_row)\n",
    "\n",
    "    # just savm details\n",
    "    savm_topic_vector = savm_vector(full_row)\n",
    "    \n",
    "    other_features = list_to_sparse([\n",
    "        full_row.num_savm_candidates,\n",
    "        len(full_row.cr_party_ids),\n",
    "        len(savm_party_ids)\n",
    "    ])\n",
    "\n",
    "    final_vector_stack = hstack_sparse([\n",
    "            party_match_vector,\n",
    "            hq_party_match_vector,\n",
    "            cr_savm_party_match_vector,\n",
    "            fuzzy_vector,\n",
    "            scored_party_vectors,\n",
    "            address_vector,\n",
    "            savm_topic_vector,\n",
    "            other_features\n",
    "        ])\n",
    "    \n",
    "    return (full_row.id, full_row.candidate_sales_acct_id, full_row.truth_sales_acct_id, final_vector_stack)"
   ]
  },
  {
   "cell_type": "code",
   "execution_count": 23,
   "metadata": {
    "collapsed": false
   },
   "outputs": [],
   "source": [
    "full_joined = joined_candidates.join(topic_modeling_reduced, on = 'candidate_sales_acct_id')\n",
    "full_joined = full_joined.join(columnized_savm, on = F.col('candidate_sales_acct_id') == F.col('savm_sales_acct_id')).repartition(5000)"
   ]
  },
  {
   "cell_type": "code",
   "execution_count": 24,
   "metadata": {
    "collapsed": false
   },
   "outputs": [],
   "source": [
    "# forcing disk resolves some memory issues\n",
    "full_joined.write.saveAsTable('ignite.temp_final_step', mode = 'overwrite')\n",
    "#final_step = sqlContext.sql('select * from ignite.temp_final_step_direct_id')"
   ]
  },
  {
   "cell_type": "code",
   "execution_count": 25,
   "metadata": {
    "collapsed": false
   },
   "outputs": [],
   "source": [
    "final_step = sqlContext.sql('select * from ignite.temp_final_step')"
   ]
  },
  {
   "cell_type": "code",
   "execution_count": 26,
   "metadata": {
    "collapsed": true
   },
   "outputs": [],
   "source": [
    "sample = final_step.sample(False, 0.0001).cache()"
   ]
  },
  {
   "cell_type": "code",
   "execution_count": 27,
   "metadata": {
    "collapsed": false
   },
   "outputs": [
    {
     "data": {
      "text/plain": [
       "[(223338301719,\n",
       "  203692908.0,\n",
       "  203840912.0,\n",
       "  SparseVector(924, {0: 0.0, 1: 0.0, 2: 0.0, 3: 0.0, 4: 0.0, 5: 0.0, 6: 0.0, 7: 0.0, 8: 0.0, 9: 0.0, 10: 0.0, 11: 0.0, 12: 0.0, 13: 0.0, 14: 0.0, 15: 0.0, 16: 0.0, 17: 0.0, 18: 0.0, 19: 0.0, 20: 0.0, 21: 0.0, 22: 0.0, 23: 0.0, 24: 0.0, 25: 0.0, 26: 0.0, 27: 0.0, 28: 0.0, 29: 0.0, 30: 0.0, 31: 0.0, 32: 0.0, 33: 0.0, 34: 0.0, 35: 0.0, 36: 0.0, 37: 0.0, 38: 0.0, 39: 0.0, 40: 1.0, 41: 0.0, 42: 0.4286, 43: 0.4286, 44: 0.6667, 45: 0.6667, 46: 0.4286, 47: 1370.0, 48: 1.4202, 49: 13.0, 50: 76.6884, 51: 0.0819, 52: 0.0001, 53: 0.6023, 54: 2.7227, 55: 2681.0, 56: 1.2586, 57: 13.0, 58: 67.9651, 59: 0.0641, 60: 0.0, 61: 0.5665, 62: 2.5095, 63: 4579.0, 64: 0.0869, 65: 1.0, 66: 4.6929, 67: 0.0466, 68: 0.0, 69: 0.5576, 70: 2.2526, 71: 8191.0, 72: 0.9898, 73: 13.0, 74: 53.4494, 75: 0.0246, 76: 0.0, 77: 0.7749, 78: 2.0079, 79: 14677.0, 80: 0.0653, 81: 1.0, 82: 3.5283, 83: 0.0184, 84: 0.0, 85: 0.6251, 86: 1.5121, 87: 28859.0, 88: 0.3697, 89: 7.0, 90: 19.9653, 91: 0.0168, 92: 0.0, 93: 0.2754, 94: 0.9757, 127: 0.0, 128: 0.0, 129: 6.0, 877: 1.0, 878: 1.0, 879: 1.0, 880: 13.0, 881: 13.0, 882: 13.0, 883: 7.0, 884: 5.0, 885: 1.0, 886: 1.0, 887: 0.0, 888: 0.0, 889: 0.0, 890: 3.5283, 891: 4.6929, 892: 16.2997, 893: 19.9653, 894: 53.4494, 895: 67.9651, 896: 76.6884, 897: 0.0, 898: 0.0, 899: 0.0, 900: 1.4202, 901: 1.2586, 902: 0.9898, 903: 0.3697, 904: 0.3018, 905: 0.0869, 906: 0.0653, 907: 0.0, 908: 0.0, 909: 0.0, 910: 6.0, 911: 16.0, 912: 27.0, 913: 40.0, 914: 70.0, 915: 165.0, 916: 259.0, 917: 0.0, 918: 0.0, 919: 0.0, 920: 7.0, 921: 20.0, 922: 1.0, 923: 13.0})),\n",
       " (309237648776,\n",
       "  203792022.0,\n",
       "  276545026.0,\n",
       "  SparseVector(924, {0: 0.0, 1: 0.0, 2: 0.0, 3: 0.0, 4: 1.0, 5: 0.0, 6: 0.0, 7: 1.0, 8: 0.0, 9: 0.0, 10: 1.0, 11: 0.0, 12: 0.0, 13: 0.0, 14: 0.0, 15: 0.0, 16: 0.0, 17: 0.0, 18: 0.0, 19: 0.0, 20: 0.0, 21: 0.0, 22: 0.0, 23: 0.0, 24: 1.0, 25: 0.0, 26: 0.0, 27: 1.0, 28: 0.0, 29: 0.0, 30: 1.0, 31: 0.0, 32: 0.0, 33: 0.0, 34: 0.0, 35: 0.0, 36: 0.0, 37: 0.0, 38: 0.0, 39: 0.0, 40: 0.0, 41: 1.0, 42: 0.0, 43: 0.5, 44: 0.0, 45: 0.5, 46: 0.0, 47: 33.0, 48: 3.3648, 49: 27.0, 50: 259.0932, 51: 0.4846, 52: 0.0, 53: 1.504, 54: 7.6921, 127: 0.0, 128: 1.0, 129: 2.0, 877: 0.0, 878: 0.0, 879: 7.0, 880: 27.0, 881: 7.0, 882: 5.0, 883: 5.0, 884: 4.0, 885: 4.0, 886: 2.0, 887: 2.0, 888: 2.0, 889: 2.0, 890: 1.9283, 891: 2.0469, 892: 3.9458, 893: 4.0781, 894: 4.4616, 895: 4.6217, 896: 5.0159, 897: 5.4737, 898: 6.163, 899: 6.3807, 900: 3.3648, 901: 0.953, 902: 0.6514, 903: 0.2169, 904: 0.2078, 905: 0.1865, 906: 0.1827, 907: 0.1734, 908: 0.1692, 909: 0.1617, 910: 1.0, 911: 3.0, 912: 4.0, 913: 13.0, 914: 41.0, 915: 47.0, 916: 62.0, 917: 67.0, 918: 86.0, 919: 96.0, 920: 25.0, 921: 60.0, 922: 1.0, 923: 41.0})),\n",
       " (60129547975,\n",
       "  203889086.0,\n",
       "  203793250.0,\n",
       "  SparseVector(924, {0: 0.0, 1: 0.0, 2: 0.0, 3: 0.0, 4: 0.0, 5: 0.0, 6: 0.0, 7: 0.0, 8: 0.0, 9: 0.0, 10: 0.0, 11: 0.0, 12: 0.0, 13: 0.0, 14: 0.0, 15: 0.0, 16: 0.0, 17: 0.0, 18: 0.0, 19: 0.0, 20: 0.0, 21: 0.0, 22: 0.0, 23: 0.0, 24: 0.0, 25: 0.0, 26: 0.0, 27: 0.0, 28: 0.0, 29: 0.0, 30: 0.0, 31: 0.0, 32: 0.0, 33: 0.0, 34: 0.0, 35: 0.0, 36: 0.0, 37: 0.0, 38: 0.0, 39: 0.0, 40: 1.0, 41: 0.0, 42: 1.0, 43: 0.5, 44: 0.5, 45: 0.5, 46: 0.5, 47: 1.0, 48: 7.9547, 49: 16.0, 50: 198.8681, 51: 1.0, 52: 7.9547, 53: 7.9547, 54: 7.9547, 55: 72696.0, 56: 0.4628, 57: 6.0, 58: 11.5701, 59: 0.0104, 60: 0.0001, 61: 0.2881, 62: 0.9511, 127: 0.0, 128: 0.0, 129: 2.0, 877: 1.0, 878: 1.0, 879: 4.0, 880: 16.0, 881: 6.0, 882: 1.0, 883: 1.0, 884: 0.0, 885: 0.0, 886: 0.0, 887: 0.0, 888: 0.0, 889: 0.0, 890: 2.0469, 891: 8.948, 892: 11.5701, 893: 198.8681, 894: 0.0, 895: 0.0, 896: 0.0, 897: 0.0, 898: 0.0, 899: 0.0, 900: 7.9547, 901: 0.4628, 902: 0.3579, 903: 0.0819, 904: 0.0, 905: 0.0, 906: 0.0, 907: 0.0, 908: 0.0, 909: 0.0, 910: 1.0, 911: 13.0, 912: 7061.0, 913: 57681.0, 914: 0.0, 915: 0.0, 916: 0.0, 917: 0.0, 918: 0.0, 919: 0.0, 920: 4.0, 921: 103.0, 922: 1.0, 923: 16.0})),\n",
       " (17179870510,\n",
       "  203859057.0,\n",
       "  203743397.0,\n",
       "  SparseVector(924, {0: 0.0, 1: 0.0, 2: 0.0, 3: 0.0, 4: 0.0, 5: 0.0, 6: 0.0, 7: 0.0, 8: 0.0, 9: 0.0, 10: 0.0, 11: 0.0, 12: 0.0, 13: 0.0, 14: 0.0, 15: 0.0, 16: 0.0, 17: 0.0, 18: 0.0, 19: 0.0, 20: 0.0, 21: 0.0, 22: 0.0, 23: 0.0, 24: 0.0, 25: 0.0, 26: 0.0, 27: 0.0, 28: 0.0, 29: 0.0, 30: 0.0, 31: 0.0, 32: 0.0, 33: 0.0, 34: 0.0, 35: 0.0, 36: 0.0, 37: 0.0, 38: 0.0, 39: 0.0, 40: 0.0, 41: 0.0, 42: 0.0, 43: 0.0, 44: 0.0, 45: 0.0, 46: 0.0, 47: 4512.0, 48: 0.0692, 49: 2758.0, 50: 12983.7979, 51: 0.0397, 52: 0.0, 53: 0.6403, 54: 2.2727, 55: 72696.0, 56: 0.099, 57: 9631.0, 58: 18571.9194, 59: 0.0104, 60: 0.0001, 61: 0.2881, 62: 0.9511, 127: 0.0, 128: 1.0, 129: 3.0, 877: 0.0, 878: 0.0, 879: 54.0, 880: 44079.0, 881: 21113.0, 882: 18364.0, 883: 18240.0, 884: 9631.0, 885: 8289.0, 886: 6613.0, 887: 5053.0, 888: 4918.0, 889: 4037.0, 890: 6438.852, 891: 11864.7641, 892: 12983.7979, 893: 18571.9194, 894: 18674.4431, 895: 23173.9515, 896: 24073.081, 897: 27291.5297, 898: 30810.1852, 899: 35413.6571, 900: 2.0443, 901: 0.6898, 902: 0.5399, 903: 0.3269, 904: 0.2856, 905: 0.2091, 906: 0.1887, 907: 0.1642, 908: 0.1454, 909: 0.1283, 910: 1.0, 911: 2.0, 912: 3.0, 913: 4.0, 914: 7.0, 915: 10.0, 916: 14.0, 917: 18.0, 918: 20.0, 919: 21.0, 920: 16.0, 921: 45.0, 922: 1.0, 923: 100.0})),\n",
       " (68719479792,\n",
       "  203738149.0,\n",
       "  203853382.0,\n",
       "  SparseVector(924, {0: 0.0, 1: 0.0, 2: 0.0, 3: 0.0, 4: 0.0, 5: 0.0, 6: 0.0, 7: 0.0, 8: 0.0, 9: 0.0, 10: 0.0, 11: 0.0, 12: 0.0, 13: 0.0, 14: 0.0, 15: 0.0, 16: 0.0, 17: 0.0, 18: 0.0, 19: 0.0, 20: 0.0, 21: 0.0, 22: 0.0, 23: 0.0, 24: 0.0, 25: 0.0, 26: 0.0, 27: 0.0, 28: 0.0, 29: 0.0, 30: 0.0, 31: 0.0, 32: 0.0, 33: 0.0, 34: 0.0, 35: 0.0, 36: 0.0, 37: 0.0, 38: 0.0, 39: 0.0, 40: 1.0, 41: 0.0, 42: 0.5714, 43: 0.5714, 44: 1.0, 45: 0.375, 46: 0.5714, 47: 245.0, 48: 1.289, 49: 11.0, 50: 83.7878, 51: 0.1315, 52: 0.0002, 53: 1.0227, 54: 2.539, 55: 374.0, 56: 0.1107, 57: 1.0, 58: 7.1955, 59: 0.2559, 60: 0.0, 61: 0.3148, 62: 3.0838, 63: 1390.0, 64: 1.1769, 65: 13.0, 66: 76.5001, 67: 0.0664, 68: 0.0001, 69: 0.92, 70: 2.6293, 71: 2481.0, 72: 1.0611, 73: 13.0, 74: 68.9726, 75: 0.0516, 76: 0.0001, 77: 0.6991, 78: 2.3068, 79: 23813.0, 80: 0.3747, 81: 8.0, 82: 24.355, 83: 0.0187, 84: 0.0001, 85: 0.4463, 86: 1.6606, 87: 28859.0, 88: 0.0439, 89: 1.0, 90: 2.8522, 91: 0.0168, 92: 0.0, 93: 0.2754, 94: 0.9757, 127: 0.0, 128: 0.0, 129: 6.0, 877: 1.0, 878: 1.0, 879: 7.0, 880: 13.0, 881: 13.0, 882: 12.0, 883: 11.0, 884: 8.0, 885: 3.0, 886: 2.0, 887: 1.0, 888: 1.0, 889: 0.0, 890: 2.8522, 891: 7.1955, 892: 10.0226, 893: 24.0476, 894: 24.355, 895: 39.1194, 896: 68.9726, 897: 76.5001, 898: 83.7878, 899: 0.0, 900: 1.289, 901: 1.1769, 902: 1.0611, 903: 0.6018, 904: 0.3747, 905: 0.37, 906: 0.1542, 907: 0.1107, 908: 0.0439, 909: 0.0, 910: 2.0, 911: 4.0, 912: 6.0, 913: 27.0, 914: 91.0, 915: 498.0, 916: 2329.0, 917: 2917.0, 918: 62348.0, 919: 0.0, 920: 9.0, 921: 35.0, 922: 1.0, 923: 13.0})),\n",
       " (51539623697,\n",
       "  278467131.0,\n",
       "  210880412.0,\n",
       "  SparseVector(924, {0: 0.0, 1: 0.0, 2: 0.0, 3: 1.0, 4: 0.0, 5: 0.0, 6: 1.0, 7: 0.0, 8: 0.0, 9: 1.0, 10: 0.0, 11: 0.0, 12: 1.0, 13: 0.0, 14: 0.0, 15: 0.0, 16: 0.0, 17: 0.0, 18: 0.0, 19: 0.0, 20: 0.0, 21: 0.0, 22: 0.0, 23: 1.0, 24: 0.0, 25: 0.0, 26: 1.0, 27: 0.0, 28: 0.0, 29: 1.0, 30: 0.0, 31: 0.0, 32: 1.0, 33: 0.0, 34: 0.0, 35: 0.0, 36: 0.0, 37: 0.0, 38: 0.0, 39: 0.0, 40: 0.0, 41: 1.0, 42: 0.3333, 43: 0.0, 44: 0.0, 45: 0.0, 46: 0.0, 47: 59.0, 48: 0.3224, 49: 1.0, 50: 9.0281, 51: 0.2925, 52: 0.0001, 53: 0.9409, 54: 2.4622, 127: 0.0, 128: 0.0, 129: 1.0, 877: 0.0, 878: 0.0, 879: 5.0, 880: 11.0, 881: 8.0, 882: 3.0, 883: 2.0, 884: 1.0, 885: 1.0, 886: 1.0, 887: 0.0, 888: 0.0, 889: 0.0, 890: 4.8428, 891: 7.8195, 892: 9.0281, 893: 12.0238, 894: 12.4293, 895: 61.2686, 896: 96.1441, 897: 0.0, 898: 0.0, 899: 0.0, 900: 3.4337, 901: 2.1882, 902: 0.4439, 903: 0.4294, 904: 0.3224, 905: 0.2793, 906: 0.173, 907: 0.0, 908: 0.0, 909: 0.0, 910: 9.0, 911: 68.0, 912: 2037.0, 913: 3130.0, 914: 4344.0, 915: 148441.0, 916: 336723.0, 917: 0.0, 918: 0.0, 919: 0.0, 920: 7.0, 921: 98.0, 922: 1.0, 923: 13.0})),\n",
       " (395136998074,\n",
       "  203846863.0,\n",
       "  203837549.0,\n",
       "  SparseVector(924, {0: 0.0, 1: 0.0, 2: 0.0, 3: 0.0, 4: 0.0, 5: 0.0, 6: 0.0, 7: 0.0, 8: 0.0, 9: 0.0, 10: 0.0, 11: 0.0, 12: 0.0, 13: 0.0, 14: 0.0, 15: 0.0, 16: 0.0, 17: 0.0, 18: 0.0, 19: 0.0, 20: 0.0, 21: 0.0, 22: 0.0, 23: 0.0, 24: 0.0, 25: 0.0, 26: 0.0, 27: 0.0, 28: 0.0, 29: 0.0, 30: 0.0, 31: 0.0, 32: 0.0, 33: 0.0, 34: 0.0, 35: 0.0, 36: 0.0, 37: 0.0, 38: 0.0, 39: 0.0, 40: 1.0, 41: 0.0, 42: 1.0, 43: 1.0, 44: 0.0, 45: 0.0, 46: 0.2, 47: 152.0, 48: 1.4906, 49: 7.0, 50: 56.6438, 51: 0.2733, 52: 0.0, 53: 0.6218, 54: 3.468, 55: 4216.0, 56: 0.5027, 57: 4.0, 58: 19.1021, 59: 0.044, 60: 0.0001, 61: 0.5725, 62: 2.2385, 127: 0.0, 128: 0.0, 129: 2.0, 877: 1.0, 878: 1.0, 879: 2.0, 880: 7.0, 881: 4.0, 882: 4.0, 883: 4.0, 884: 4.0, 885: 4.0, 886: 4.0, 887: 3.0, 888: 1.0, 889: 1.0, 890: 1.6143, 891: 1.9283, 892: 8.3184, 893: 10.0226, 894: 19.1021, 895: 19.3506, 896: 20.4138, 897: 20.6233, 898: 35.5532, 899: 40.3115, 900: 1.4906, 901: 1.0608, 902: 0.9356, 903: 0.5427, 904: 0.5372, 905: 0.5092, 906: 0.5027, 907: 0.2638, 908: 0.2189, 909: 0.0507, 910: 1.0, 911: 4.0, 912: 9.0, 913: 11.0, 914: 53.0, 915: 76.0, 916: 141.0, 917: 5239.0, 918: 5788.0, 919: 9555.0, 920: 11.0, 921: 185.0, 922: 1.0, 923: 11.0})),\n",
       " (8589944312,\n",
       "  268972263.0,\n",
       "  203776770.0,\n",
       "  SparseVector(924, {0: 0.0, 1: 0.0, 2: 0.0, 3: 0.0, 4: 0.0, 5: 0.0, 6: 0.0, 7: 0.0, 8: 0.0, 9: 0.0, 10: 0.0, 11: 0.0, 12: 0.0, 13: 0.0, 14: 0.0, 15: 0.0, 16: 0.0, 17: 0.0, 18: 0.0, 19: 0.0, 20: 0.0, 21: 0.0, 22: 0.0, 23: 0.0, 24: 0.0, 25: 0.0, 26: 0.0, 27: 0.0, 28: 0.0, 29: 0.0, 30: 0.0, 31: 0.0, 32: 0.0, 33: 0.0, 34: 0.0, 35: 0.0, 36: 0.0, 37: 0.0, 38: 0.0, 39: 0.0, 40: 1.0, 41: 0.0, 42: 1.0, 43: 1.0, 44: 1.0, 45: 0.0, 46: 0.0, 47: 1.0, 48: 9.3219, 49: 3.0, 50: 37.2878, 51: 1.0, 52: 9.3219, 53: 9.3219, 54: 9.3219, 127: 0.0, 128: 0.0, 129: 1.0, 877: 1.0, 878: 1.0, 879: 1.0, 880: 3.0, 881: 0.0, 882: 0.0, 883: 0.0, 884: 0.0, 885: 0.0, 886: 0.0, 887: 0.0, 888: 0.0, 889: 0.0, 890: 37.2878, 891: 0.0, 892: 0.0, 893: 0.0, 894: 0.0, 895: 0.0, 896: 0.0, 897: 0.0, 898: 0.0, 899: 0.0, 900: 9.3219, 901: 0.0, 902: 0.0, 903: 0.0, 904: 0.0, 905: 0.0, 906: 0.0, 907: 0.0, 908: 0.0, 909: 0.0, 910: 180521.0, 911: 0.0, 912: 0.0, 913: 0.0, 914: 0.0, 915: 0.0, 916: 0.0, 917: 0.0, 918: 0.0, 919: 0.0, 920: 1.0, 921: 111.0, 922: 1.0, 923: 3.0})),\n",
       " (17179871648,\n",
       "  203757578.0,\n",
       "  203835386.0,\n",
       "  SparseVector(924, {0: 0.0, 1: 0.0, 2: 0.0, 3: 1.0, 4: 0.0, 5: 0.0, 6: 1.0, 7: 0.0, 8: 0.0, 9: 1.0, 10: 0.0, 11: 0.0, 12: 1.0, 13: 0.0, 14: 0.0, 15: 0.0, 16: 0.0, 17: 0.0, 18: 0.0, 19: 0.0, 20: 0.0, 21: 0.0, 22: 0.0, 23: 2.0, 24: 0.0, 25: 0.0, 26: 2.0, 27: 0.0, 28: 0.0, 29: 2.0, 30: 0.0, 31: 0.0, 32: 2.0, 33: 0.0, 34: 0.0, 35: 0.0, 36: 0.0, 37: 0.0, 38: 0.0, 39: 0.0, 40: 0.0, 41: 1.0, 42: 0.0, 43: 0.0, 44: 0.0, 45: 0.1111, 46: 0.0, 47: 17476.0, 48: 0.0486, 49: 2.0, 50: 6.7075, 51: 0.0261, 52: 0.0, 53: 0.3567, 54: 1.5651, 55: 47439.0, 56: 0.3072, 57: 18.0, 58: 42.3933, 59: 0.0099, 60: 0.0, 61: 0.3587, 62: 0.8832, 127: 0.0, 128: 2.0, 129: 4.0, 877: 0.0, 878: 0.0, 879: 5.0, 880: 18.0, 881: 16.0, 882: 16.0, 883: 15.0, 884: 13.0, 885: 11.0, 886: 11.0, 887: 5.0, 888: 4.0, 889: 3.0, 890: 6.7075, 891: 9.7798, 892: 10.5808, 893: 14.5577, 894: 16.9125, 895: 17.0965, 896: 17.8072, 897: 17.9057, 898: 37.0785, 899: 42.3933, 900: 0.9907, 901: 0.7384, 902: 0.6883, 903: 0.6334, 904: 0.5934, 905: 0.3072, 906: 0.2687, 907: 0.1298, 908: 0.129, 909: 0.1239, 910: 5.0, 911: 6.0, 912: 17.0, 913: 27.0, 914: 37.0, 915: 64.0, 916: 85.0, 917: 282.0, 918: 322.0, 919: 358.0, 920: 15.0, 921: 187.0, 922: 1.0, 923: 29.0})),\n",
       " (163208764807,\n",
       "  215394434.0,\n",
       "  203786510.0,\n",
       "  SparseVector(924, {0: 0.0, 1: 0.0, 2: 0.0, 3: 0.0, 4: 0.0, 5: 0.0, 6: 0.0, 7: 0.0, 8: 0.0, 9: 0.0, 10: 0.0, 11: 0.0, 12: 0.0, 13: 0.0, 14: 0.0, 15: 0.0, 16: 0.0, 17: 0.0, 18: 0.0, 19: 0.0, 20: 0.0, 21: 0.0, 22: 0.0, 23: 0.0, 24: 0.0, 25: 0.0, 26: 0.0, 27: 0.0, 28: 0.0, 29: 0.0, 30: 0.0, 31: 0.0, 32: 0.0, 33: 0.0, 34: 0.0, 35: 0.0, 36: 0.0, 37: 0.0, 38: 0.0, 39: 0.0, 40: 0.0, 41: 0.0, 42: 0.0, 43: 0.2, 44: 0.2, 45: 0.0, 46: 0.0, 47: 243.0, 48: 1.2856, 49: 95574.0, 50: 728774.2244, 51: 0.3404, 52: 0.0001, 53: 0.357, 54: 3.8126, 127: 0.0, 128: 0.0, 129: 1.0, 877: 0.0, 878: 0.0, 879: 56.0, 880: 95574.0, 881: 51229.0, 882: 40490.0, 883: 39938.0, 884: 35154.0, 885: 33412.0, 886: 33406.0, 887: 32586.0, 888: 30289.0, 889: 18438.0, 890: 35554.88, 891: 41631.3301, 892: 71875.4942, 893: 100265.9415, 894: 101191.2327, 895: 131906.727, 896: 151819.2491, 897: 155960.2589, 898: 159559.812, 899: 191285.0304, 900: 1.2856, 901: 0.3463, 902: 0.3374, 903: 0.2815, 904: 0.2751, 905: 0.2678, 906: 0.2327, 907: 0.1785, 908: 0.1769, 909: 0.1268, 910: 0.0, 911: 1.0, 912: 2.0, 913: 3.0, 914: 4.0, 915: 6.0, 916: 7.0, 917: 8.0, 918: 11.0, 919: 12.0, 920: 12.0, 921: 238.0, 922: 1.0, 923: 100.0}))]"
      ]
     },
     "execution_count": 27,
     "metadata": {},
     "output_type": "execute_result"
    }
   ],
   "source": [
    "sample.map(featurize_pairwise).take(10)"
   ]
  },
  {
   "cell_type": "code",
   "execution_count": 49,
   "metadata": {
    "collapsed": true
   },
   "outputs": [
    {
     "data": {
      "text/plain": [
       "Row(candidate_sales_acct_id=203812847.0, id=171798695096, cr_party_ids=[156689746.0], cr_parent_party_ids=[15501.0], cr_address1=[u'117 SOUTH ST'], cr_address2=[u''], cr_address3=[u''], cr_address4=[u''], cr_city=[u'HOPKINTON'], cr_state=[u'MA'], cr_postal_code=[u'01748'], cr_country_code=[u'US'], cr_cleaned_name=[u'at&t corporation'], end_customer_party_ssot_party_id_int_sav_party_id=90226922, prior_party_ssot_party_id_int_sav_party_id=90226922, sol_branch_party=90226922, sol_gu_party=46375, sol_hq_party=42414, order_level_branch_party=90226922, order_level_gu_party=46375, order_level_hq_party=42414, line_level_branch_party=90226922, line_level_gu_party=46375, line_level_hq_party=42414, ship_to_branch_party=235680406, ship_to_gu_party=4855067, ship_to_hq_party=4855067, bill_to_branch_party=232206135, bill_to_gu_party=4476718, bill_to_hq_party=4476718, sold_to_branch_party=4476718, sold_to_gu_party=4476718, sold_to_hq_party=4476718, prior_party_name=u'emc corporation', end_customer_line_fix=u'emc corporation', truth_sales_acct_id=203760496.0, word_indices=[0, 1, 2, 3, 4, 6, 7, 8, 11, 12, 21, 44], tf=[95582.0, 18441.0, 51229.0, 40490.0, 30289.0, 35154.0, 32586.0, 39941.0, 33412.0, 33409.0, 7708.0, 7535.0], idf=[728835.2262326222, 35560.66508827649, 155960.25893435656, 131906.72701353853, 101191.23266222236, 100265.94154749566, 151819.2490735848, 196320.9671630175, 159559.8119929245, 191302.20857838355, 41631.33012080718, 71875.494241447], normalized_tfidf=[1.2856458898233243, 0.06272806426556352, 0.2751097349001354, 0.2326799464696518, 0.17849863408882374, 0.17686644525419853, 0.26780510401019014, 0.34630494717432203, 0.28145925043997816, 0.3374519909585494, 0.073436555384894, 0.12678645381643916], savm_sales_acct_id=203812847.0, savm_party_ids=[12026363, 169351653, 219089357, 244771638, 42201697, 44530163, 111110693, 159076073, 33712836, 169297682, 38284897, 9809517, 129615115, 35289644, 45968055, 120946115, 277318121, 111151516, 39226664, 269615096, 160179578, 237576579, 169293972, 11647687, 258193360, 160178270, 11801905, 169293879, 113665573, 37727442, 8979521, 122011150, 144096366, 220631887, 42055758, 34337440, 211764192, 33911004, 120246376, 9621258, 42187068, 42679625, 167458054, 169517352, 34321238, 44167913, 121783961, 39024549, 33599933, 160178638, 42062926, 219072841, 170439928, 892575, 4808820, 122039077, 156836140, 42563290, 160178762, 170559149, 185554908, 191149359, 122010574, 170097933, 89713276, 120355451, 33716600, 63247797, 119996555, 219044611, 36013749, 169283503, 156131933, 119938939, 179703312, 138751682, 254658194, 33658153, 83696957, 141431617, 11642471, 227385489, 185620178, 33569974, 161216210, 210747736, 6867279, 211648044, 119671264, 165327097, 270373627, 89483267, 9118890, 170439019, 37738716, 42086887, 219044247, 6351092, 171102497, 166124108], savm_parent_party_ids=[48519, 45471, 15501, 15501, 15501, 15501, 45471, 45471, 15501, 4417464, 8017620, 15501, 45471, 15501, 15501, 4417464, 15501, 15501, 15501, 15501, 45471, 15501, 15501, 16343, 14743, 45471, 218613, 48519, 15501, 15501, 4567931, 4417464, 15501, 175985698, 15501, 15501, 45471, 8135582, 4417464, 47826, 15501, 15501, 45471, 15501, 15501, 15501, 4417464, 15501, 15501, 45471, 45471, 15501, 45471, 45471, 44651, 15501, 8135582, 15501, 45471, 15501, 133673, 15501, 4417464, 4417464, 15501, 4417464, 15501, 15501, 4417464, 16343, 15501, 84751810, 45471, 15501, 45471, 45471, 45471, 15501, 15501, 4417464, 118302496, 7060146, 54523, 15501, 15501, 45471, 14743, 45471, 84751810, 5611388, 45471, 45117, 48519, 45471, 15501, 45471, 16343, 44169, 15501, 15501], savm_address_1=[u'7 BACKUS AVE', u'338 VIRGINIA DR', u'8400 SHILOH ST', u'11830 WEBB CHAPEL RD', u'4 ALLEGHENY CTR', u'2617 N AUSTRALIAN AVE', u'C O LUFTHANSA SYSTEMS INFRATEC GMBH', u'107 N MAIN ST', u'611 SAINT LANDRY ST', u'1504 MACARTHUR RD', u'11001 W MARKHAM ST', u'50 4TH AVE', u'9824 204TH AVE', u'111 W IRENE RD', u'8110 AERO DR', u'2530 E CIDER ST', u'4431 DIXIE HWY', u'16156 DAHLGREN RD', u'362 PARK AVE', u'430 GIBRALTAR DR', u'1980 W FABYAN PKWY - STORE 3758', u'18209 CHISHOLM TRL', u'CFGPHPAQQ ANDORRA', u'3545 ZAFARANO DR', u'615 E PARKER DR', u'700 W VIRGINIA ST - STE 500', u'2019 S STOUGHTON RD', u'511 W ARROW HWY', u'12471 RIVERSIDE DR', u'401 W ADAMS ST', u'1 RAVINIA DR', u'17760 NW 57TH AVE', u'331 S SWIFT RD', u'200 S LAUREL AVE', u'110 MOTOR PKWY', u'8787 TALLYHO RD', u'1472 EDGINER AVE', u'150 FERRAND DR', u'28720 ROADSIDE DR', u'103 S BUSINESS 37', u'402 W BROADWAY', u'735 BATTERY ST - FLOOR 3', u'27W245 N AVE MICHAEL SCHUL', u'OAK FOREST HOSP OF COOK CNTY 345868', u'15100 BUCK LN', u'2436 F RD', u'3300 JET CV', u'3610 N SUTTLE RD', u'2437 TUSCANY ST', u'744 E JOYCE BLVD - STORE 3240', u'STORE NUMBER', u'3529 HERITAGE TRACE PKWY', u'HI PRO FEEDS', u'216 S MAIN ST', u'5445 N FIGUEROA ST', u'943 2ND AVE', u'7530 HOPCOTT RD', u'250 N CANYONS PKWY', u'3620 W QUAIL AVE', u'10218 186TH CT NE', u'3026 LAKEHILL DR', u'3206 SPRINGTOWN', u'540 W PRAIRIE AVE', u'13 S UNIVERSITY PARKS DR', u'12110 SUNSET HILLS RD', u'2112 N 30TH ST', u'7430 GOODMAN RD', u'8107 SPRINGDALE RD', u'4612 FM RD - 2280', u'1158 MILITARY CUTOFF RD', u'211 E TYLER ST', u'8135 UNIVERSITY CITY BLVD', u'C O LAFARGE NORTH AMERICA EVPN HENRY STREET', u'29911 SIX MILE ROAD TELCO - 1', u'5050 W 38TH ST', u'C O BEST BUY', u'4644 S BERKELEY LAKE RD', u'393 W FOOTHILL BLVD', u'435 SANFORD RD', u'750 INDUSTRIAL PARK RD', u'9325 DELEGATES ROW', u'AVENIDA NOSSA SENHORA DA PENHA 1255 S LUCIA', u'6000 AUBURN BLVD', u'5353 HIGHLAND DR', u'11830 N 75TH ST', u'712 E HUNTLAND DR', u'00 HIGHWAY 24', u'95 S ALMADEN AVE', u'2002 MAIN ST', u'ATTN ACCOUNT PAYABLE', u'8301 3RD ST N', u'190 MAIN ST', u'5405 PEARL DR', u'111 W MADISON ST', u'3263 FRANKLIN AVE', u'7765 WADSWORTH BLVD', u'1788 E BROAD AVE', u'315 ALGOMA BLVD', u'8500 ESSINGTON AVE', u'350 COMMERCE PKWY'], savm_address_2=[u'STE 103', u'', u'', u'STE 200', u'', u'', u'TENIENTE GENERAL MORILLAS S/N Y AUT RICCHIERI', u'', u'', u'', u'', u'', u'', u'', u'', u'', u'STE 102', u'', u'', u'', u'', u'STE 110', u'8345 RIDGE AVE - 991', u'STE C', u'', u'', u'', u'', u'', u'', u'', u'', u'', u'', u'', u'', u'', u'SUITE 700', u'STE 354', u'', u'STE 1500', u'', u'', u'15900 CICERO AVE', u'FL 1', u'', u'', u'', u'', u'', u'2232 BDWY - 3680', u'', u'HIGHWAY 283 - MAIN FLOOR', u'', u'', u'', u'', u'', u'TELCO', u'', u'', u'', u'', u'', u'', u'', u'', u'', u'', u'', u'', u'', u'4120 - 39139 HIGHWAY 2A  ', u'', u'', u'200 - 760 ST ALBERT RD ', u'', u'', u'', u'', u'', u'S LUCIA PR CANTO', u'', u'', u'', u'RM 137B', u'', u'', u'', u'PO BOX 7900', u'', u'', u'STE 2', u'', u'', u'', u'STE CC', u'STE 300', u'', u''], savm_city=[u'DANBURY', u'EASTANOLLEE', u'TEXAS CITY', u'DALLAS', u'PITTSBURGH', u'WEST PALM BEACH', u'AEROPUERTO EZEIZA', u'LOCKNEY', u'LAFAYETTE', u'WHITEHALL', u'LITTLE ROCK', u'DAYTON', u'EDMONTON', u'ZACHARY', u'SAN DIEGO', u'WICHITA', u'LOUISVILLE', u'DAHLGREN', u'GLENCOE', u'BOLINGBROOK', u'BATAVIA', u'HOUSTON', u'PHILADELPHIA', u'SANTA FE', u'BOONEVILLE', u'MILWAUKEE', u'MADISON', u'SAN DIMAS', u'MIRA LOMA', u'CRESTON', u'ATLANTA', u'HIALEAH', u'ADDISON', u'MIDDLETOWN', u'HAUPPAUGE', u'HOUSTON', u'TUSTIN', u'NORTH YORK', u'AGOURA HILLS', u'PURDY', u'SAN DIEGO', u'SAN FRANCISCO', u'WEST CHICAGO', u'OAK FOREST', u'UPPER MARLBORO', u'GRAND JUNCTION', u'MEMPHIS', u'PORTLAND', u'CORONA', u'FAYETTEVILLE', u'NEW YORK', u'KELLER', u'CHEYENNE', u'SMITH CENTER', u'LOS ANGELES', u'NEW YORK', u'DELTA', u'LIVERMORE', u'LAS VEGAS', u'REDMOND', u'PEARLAND', u'BLOOMINGTON', u'COEUR D ALENE', u'WACO', u'RESTON', u'TACOMA', u'OLIVE BRANCH', u'AUSTIN', u'CLEBURNE', u'WILMINGTON', u'LONGVIEW', u'CHARLOTTE', u'RED DEER COUNTY', u'LIVONIA', u'INDIANAPOLIS', u'ST ALBERT', u'NORCROSS', u'CLAREMONT', u'LA VERGNE', u'PINEY FLATS', u'INDIANAPOLIS', u'VITORIA', u'CITRUS HEIGHTS', u'JACKSON', u'HYGIENE', u'AUSTIN', u'ANDERSON', u'SAN JOSE', u'LOGANSPORT', u'MOUNT PROSPECT', u'SAINT PAUL', u'HACKENSACK', u'EVANSVILLE', u'ROCHESTER', u'MILLBROOK', u'ARVADA', u'ROCKINGHAM', u'OSHKOSH', u'PHILADELPHIA', u'HODGENVILLE'], savm_state=[u'CT', u'GA', u'TX', u'TX', u'PA', u'FL', u'BUENOS AIRES', u'TX', u'LA', u'PA', u'AR', u'NJ', u' ', u'LA', u'CA', u'KS', u'KY', u'VA', u'IL', u'IL', u'IL', u'TX', u'PA', u'NM', u'MS', u'WI', u'WI', u'CA', u'CA', u'IA', u'GA', u'FL', u'IL', u'NJ', u'NY', u'TX', u'CA', u'ON', u'CA', u'MO', u'CA', u'CA', u'IL', u'IL', u'MD', u'CO', u'TN', u'OR', u'CA', u'AR', u'NY', u'TX', u'OK', u'KS', u'CA', u'NY', u'BC', u'CA', u'NV', u'WA', u'TX', u'IL', u'ID', u'TX', u'VA', u'WA', u'MS', u'TX', u'TX', u'NC', u'TX', u'NC', u'AB', u'MI', u'IN', u'AB', u'GA', u'CA', u'TN', u'TN', u'IN', u'ES', u'CA', u'MS', u'CO', u'TX', u'SC', u'CA', u'LA', u'IL', u'MN', u'NJ', u'IN', u'PA', u'NY', u'CO', u'NC', u'WI', u'PA', u'KY'], savm_postal_code=[u'06810', u'30538', u'77591', u'75234', u'15212', u'33407', u'1802', u'79241', u'70506', u'18052', u'72211', u'08810', u'T5J 2X1', u'70791', u'92123', u'67216', u'40216', u'22448', u'60022', u'60440', u'60510', u'77060', u'19128', u'87507', u'38829', u'53204', u'53716', u'91773', u'91752', u'50801', u'30346', u'33015', u'60101', u'07748', u'11788', u'77061', u'92780', u'M3C 3E5', u'91301', u'65734', u'92101', u'94111', u'60185', u'60452', u'20772', u'81505', u'38118', u'97217', u'92881', u'72703', u'10024', u'76244', u'73628', u'66967', u'90042', u'10022', u'V4G 1J1', u'94551', u'89118', u'98052', u'77584', u'61704', u'83815', u'76701', u'20190', u'98403', u'38654', u'78724', u'76031', u'28405', u'75601', u'28213', u'T4S 2A8', u'48152', u'46254', u'T8N 3P8', u'30071', u'91711', u'37086', u'37686', u'46240', u'29055', u'95621', u'39206', u'80533', u'78752', u'29623', u'95113', u'71049', u'60056', u'55128', u'07601', u'47712', u'15074', u'12545', u'80003', u'28379', u'54901', u'19153', u'42748'], savm_country_code=[u'US', u'US', u'US', u'US', u'US', u'US', u'AR', u'US', u'US', u'US', u'US', u'US', u'CA', u'US', u'US', u'US', u'US', u'US', u'US', u'US', u'US', u'US', u'US', u'US', u'US', u'US', u'US', u'US', u'US', u'US', u'US', u'US', u'US', u'US', u'US', u'US', u'US', u'CA', u'US', u'US', u'US', u'US', u'US', u'US', u'US', u'US', u'US', u'US', u'US', u'US', u'US', u'US', u'US', u'US', u'US', u'US', u'CA', u'US', u'US', u'US', u'US', u'US', u'US', u'US', u'US', u'US', u'US', u'US', u'US', u'US', u'US', u'US', u'CA', u'US', u'US', u'CA', u'US', u'US', u'US', u'US', u'US', u'BR', u'US', u'US', u'US', u'US', u'US', u'US', u'US', u'US', u'US', u'US', u'US', u'US', u'US', u'US', u'US', u'US', u'US', u'US'], savm_split_pct=[u'100.0', u'100.0', u'100.0', u'100.0', u'100.0', u'100.0', u'100.0', u'100.0', u'100.0', u'100.0', u'100.0', u'100.0', u'100.0', u'100.0', u'100.0', u'100.0', u'100.0', u'100.0', u'100.0', u'100.0', u'100.0', u'100.0', u'100.0', u'100.0', u'100.0', u'100.0', u'100.0', u'100.0', u'100.0', u'100.0', u'100.0', u'100.0', u'100.0', u'100.0', u'100.0', u'100.0', u'100.0', u'100.0', u'100.0', u'100.0', u'100.0', u'100.0', u'100.0', u'100.0', u'100.0', u'100.0', u'100.0', u'100.0', u'100.0', u'100.0', u'100.0', u'100.0', u'100.0', u'100.0', u'100.0', u'100.0', u'100.0', u'100.0', u'100.0', u'100.0', u'100.0', u'100.0', u'100.0', u'100.0', u'100.0', u'100.0', u'100.0', u'100.0', u'100.0', u'100.0', u'100.0', u'100.0', u'100.0', u'100.0', u'100.0', u'100.0', u'100.0', u'100.0', u'100.0', u'100.0', u'100.0', u'100.0', u'100.0', u'100.0', u'100.0', u'100.0', u'100.0', u'100.0', u'100.0', u'100.0', u'100.0', u'100.0', u'100.0', u'100.0', u'100.0', u'100.0', u'100.0', u'100.0', u'100.0', u'100.0'], savm_cleaned_name=[u'new cingular wireless services inc', u'at&t', u'at&t corporation', u'at t enhanced network svc', u'at & t networks procurement lp', u'at & t corporation', u'at&t global network services', u'at&t global network services llc', u'at&t corporation', u'at&t', u'sbc services inc', u'at&t corp', u'at & t canada long distance services company', u'at&t corporation', u'at & t corporation', u'at&t global network services llc', u'at&t', u'at & t corporation', u'at&t corporation', u'att', u'at&t networks procurement lp', u'at&t supply i llc', u'at&t', u'alltel corporation', u'bellsouth', u'at&t networks procurement lp', u'a t & t solutions inc', u'at&t', u'at & t corporation', u'at&t corporation', u'sbc telecom inc', u'at&t global network services llc', u'at&t global network services llc', u'cingular supply ii llc', u'at & t corporation', u'at&t corporation', u'att', u'at&t global network services', u'at&t global network services llc', u'alltel communications inc', u'at & t networks procurement lp', u'at & t', u'at&t mobile tel', u'at&t', u'at&t corporation', u'at & t global network services llc', u'at&t global network services llc', u'at&t corporation', u'at&t corporation', u'at&t networks procurement lp', u'at & t corporation', u'at&t corporation', u'at&t', u'southwestern bell telephone l.p.', u'pacific bell', u'at&t global network services llc', u'at&t global network services', u'at&t corporation', u'at&t networks procurement lp', u'at&t', u'at&t', u'at&t corporation', u'at&t global network services llc', u'at&t global network services llc', u'at & t', u'at&t global network services llc', u'at&t corporation', u'at & t corporation', u'at&t global network services llc', u'alltel corporation', u'at&t corporation', u'at&t', u'at&t global network services', u'at&t', u'at&t', u'at&t global network services', u'at&t services inc attsi', u'at&t corporation', u'at & t corporation', u'at&t global network services llc', u'teleport communications', u'at&t global network services brasil ltda', u'cingular supply ii llc', u'at&t corporation', u'at&t corporation', u'at t e 911', u'bellsouth telecommunications inc', u'directv', u'at&t', u'sbc datacomm inc', u'at&t global network services', u'bellsouth information systems', u'new cingular wireless services inc', u'at&t', u'at&t corporation', u'at & t corporation', u'alltel corporation', u'at&t services inc', u'at&t', u'at&t corporation'])"
      ]
     },
     "execution_count": 49,
     "metadata": {},
     "output_type": "execute_result"
    }
   ],
   "source": [
    "sample.take(10)[0]"
   ]
  },
  {
   "cell_type": "code",
   "execution_count": 28,
   "metadata": {
    "collapsed": false
   },
   "outputs": [],
   "source": [
    "featured_pairs = final_step.map(featurize_pairwise).toDF(['id', 'candidate_sales_acct_id', 'truth_sales_acct_id', 'features'])"
   ]
  },
  {
   "cell_type": "code",
   "execution_count": 29,
   "metadata": {
    "collapsed": false
   },
   "outputs": [],
   "source": [
    "featured_pairs.write.saveAsTable('ignite.training_set_all', mode = 'overwrite')"
   ]
  },
  {
   "cell_type": "code",
   "execution_count": 2,
   "metadata": {
    "collapsed": false
   },
   "outputs": [],
   "source": [
    "features = sqlContext.sql(\"select * from ignite.training_set_direct_lsh\")"
   ]
  },
  {
   "cell_type": "code",
   "execution_count": null,
   "metadata": {
    "collapsed": true
   },
   "outputs": [],
   "source": []
  }
 ],
 "metadata": {
  "kernelspec": {
   "display_name": "Python 2",
   "language": "python",
   "name": "python2"
  },
  "language_info": {
   "codemirror_mode": {
    "name": "ipython",
    "version": 2
   },
   "file_extension": ".py",
   "mimetype": "text/x-python",
   "name": "python",
   "nbconvert_exporter": "python",
   "pygments_lexer": "ipython2",
   "version": "2.7.11"
  }
 },
 "nbformat": 4,
 "nbformat_minor": 0
}
