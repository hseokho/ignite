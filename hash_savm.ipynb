{
 "cells": [
  {
   "cell_type": "code",
   "execution_count": 6,
   "metadata": {
    "collapsed": true
   },
   "outputs": [],
   "source": [
    "from pyspark.sql import functions as F\n",
    "from pyspark.sql.types import *\n",
    "from pyspark.ml.feature import HashingTF, IDF, Tokenizer\n",
    "\n",
    "import pandas as pd\n",
    "import numpy as np\n",
    "import nltk"
   ]
  },
  {
   "cell_type": "code",
   "execution_count": 7,
   "metadata": {
    "collapsed": false
   },
   "outputs": [
    {
     "data": {
      "text/plain": [
       "DataFrame[key: string, value: string]"
      ]
     },
     "execution_count": 7,
     "metadata": {},
     "output_type": "execute_result"
    }
   ],
   "source": [
    "sqlContext.sql(\"set spark.sql.shuffle.partitions=50\")"
   ]
  },
  {
   "cell_type": "code",
   "execution_count": 1,
   "metadata": {
    "collapsed": true
   },
   "outputs": [],
   "source": [
    "cr = sqlContext.sql('select * from edso_ignite.contest_savm').repartition(50).cache()"
   ]
  },
  {
   "cell_type": "code",
   "execution_count": 2,
   "metadata": {
    "collapsed": false
   },
   "outputs": [
    {
     "data": {
      "text/plain": [
       "[Row(party_id=10698.0, parent_party_id=146850.0, party_name=u'MARUBENI AMERICA CORPORATION', node_type=u'HQ', address1=u'375 LEXINGTON AVE', address2=None, address3=None, address4=None, city=u'NEW YORK', county=u'NEW YORK', state=u'NY', province=None, postal_code=u'10017', postal_code_extn=u'3914', country_code=u'US', street_name=u'LEXINGTON', street_number=u'375', street_direction=None, street_type=u'AVE', geo_valid_status=u'GEO_VALID', completenes_status=u'COMPLETE', cleansed_status=u'CLEANSED', start_date=u'2002-11-11 22:12:45.0', end_date=u'4712-12-31 00:00:00.0', program_id=46063.0, request_id=103145420.0, created_by=1116.0, last_updated_by=316142.0, creation_date=u'2002-11-11 22:12:45.0', last_update_date=u'2014-02-15 05:43:29.0', certified_date=u'2014-02-15 05:43:29.0', site_expl_id=374542503.0, conflict_batch_id=51527995.0, sa_member_id=922275.0, parent_sa_member_id=-1.0, party_level=1.0, link_party_id=10698.0, link_party_type=u'ORGANIZATION', split_pct=100.0, sales_acct_id=203883053.0, operation_type=u'UPDATE', account_type=u'NAMED_ACCOUNT', account_sub_type=u'DR'),\n",
       " Row(party_id=12423.0, parent_party_id=34851932.0, party_name=u'MTD PRODUCTS INC', node_type=u'HQ', address1=u'5965 GRAFTON RD', address2=None, address3=None, address4=None, city=u'VALLEY CITY', county=u'MEDINA', state=u'OH', province=None, postal_code=u'44280', postal_code_extn=u'9329', country_code=u'US', street_name=u'GRAFTON', street_number=u'5965', street_direction=None, street_type=u'RD', geo_valid_status=u'GEO_VALID', completenes_status=u'COMPLETE', cleansed_status=u'CLEANSED', start_date=u'2002-11-11 22:07:31.0', end_date=u'4712-12-31 00:00:01.0', program_id=None, request_id=None, created_by=1116.0, last_updated_by=332355.0, creation_date=u'2002-11-11 22:07:31.0', last_update_date=u'2014-11-16 13:03:45.0', certified_date=u'2014-02-15 17:10:57.0', site_expl_id=407806569.0, conflict_batch_id=65557531.0, sa_member_id=453616.0, parent_sa_member_id=-1.0, party_level=1.0, link_party_id=12423.0, link_party_type=u'ORGANIZATION', split_pct=100.0, sales_acct_id=203712863.0, operation_type=u'INSERT', account_type=u'NAMED_ACCOUNT', account_sub_type=u'DR'),\n",
       " Row(party_id=14240.0, parent_party_id=40024.0, party_name=u'SCHNEIDER SPECIALIZED CARRIERS, INC', node_type=u'HQ', address1=u'3101 PACKERLAND DR', address2=None, address3=None, address4=None, city=u'GREEN BAY', county=u'BROWN', state=u'WI', province=None, postal_code=u'54313', postal_code_extn=u'6187', country_code=u'US', street_name=u'PACKERLAND', street_number=u'3101', street_direction=None, street_type=u'DR', geo_valid_status=u'GEO_VALID', completenes_status=u'COMPLETE', cleansed_status=u'CLEANSED', start_date=u'2002-11-11 22:12:32.0', end_date=u'4712-12-31 00:00:00.0', program_id=44449.0, request_id=15217527.0, created_by=1116.0, last_updated_by=305153.0, creation_date=u'2002-11-11 22:12:32.0', last_update_date=u'2007-05-05 01:51:10.0', certified_date=u'2007-07-13 20:40:55.0', site_expl_id=482526725.0, conflict_batch_id=87788986.0, sa_member_id=3759470.0, parent_sa_member_id=-1.0, party_level=1.0, link_party_id=14240.0, link_party_type=u'ORGANIZATION', split_pct=100.0, sales_acct_id=203861975.0, operation_type=u'INSERT', account_type=u'NAMED_ACCOUNT', account_sub_type=u'DR'),\n",
       " Row(party_id=15620.0, parent_party_id=None, party_name=u'MAGNA CARTA COMPANIES INC', node_type=u'HQ', address1=u'1 PARK AVE', address2=u'FL 15', address3=None, address4=None, city=u'NEW YORK', county=u'NEW YORK', state=u'NY', province=None, postal_code=u'10016', postal_code_extn=u'5802', country_code=u'US', street_name=u'PARK', street_number=u'1', street_direction=None, street_type=u'AVE', geo_valid_status=u'GEO_VALID', completenes_status=u'COMPLETE', cleansed_status=u'CLEANSED', start_date=u'2002-11-11 22:06:42.0', end_date=None, program_id=None, request_id=None, created_by=1116.0, last_updated_by=332355.0, creation_date=u'2002-11-11 22:06:42.0', last_update_date=u'2014-11-20 01:05:09.0', certified_date=u'2014-11-20 01:05:09.0', site_expl_id=502087208.0, conflict_batch_id=89749194.0, sa_member_id=3033971.0, parent_sa_member_id=-1.0, party_level=1.0, link_party_id=15620.0, link_party_type=u'ORGANIZATION', split_pct=100.0, sales_acct_id=203779097.0, operation_type=u'INSERT', account_type=u'NAMED_ACCOUNT', account_sub_type=u'DR'),\n",
       " Row(party_id=17156.0, parent_party_id=None, party_name=u'BOURNS INC', node_type=u'HQ', address1=u'1200 COLUMBIA AVE', address2=None, address3=None, address4=None, city=u'RIVERSIDE', county=u'RIVERSIDE', state=u'CA', province=None, postal_code=u'92507', postal_code_extn=u'2129', country_code=u'US', street_name=u'COLUMBIA', street_number=u'1200', street_direction=None, street_type=u'AVE', geo_valid_status=u'GEO_VALID', completenes_status=u'COMPLETE', cleansed_status=u'CLEANSED', start_date=u'2002-11-11 22:11:01.0', end_date=None, program_id=46063.0, request_id=110199219.0, created_by=1116.0, last_updated_by=316142.0, creation_date=u'2002-11-11 22:11:01.0', last_update_date=u'2014-05-04 16:11:09.0', certified_date=u'2014-05-04 16:11:09.0', site_expl_id=391680956.0, conflict_batch_id=56154657.0, sa_member_id=840254.0, parent_sa_member_id=-1.0, party_level=1.0, link_party_id=17156.0, link_party_type=u'ORGANIZATION', split_pct=100.0, sales_acct_id=203850290.0, operation_type=u'INSERT', account_type=u'NAMED_ACCOUNT', account_sub_type=u'DR'),\n",
       " Row(party_id=18628.0, parent_party_id=None, party_name=u'OAK HALL PRIVATE SCHOOL INC', node_type=u'HQ', address1=u'8009 SW 14TH AVE', address2=None, address3=None, address4=None, city=u'GAINESVILLE', county=u'ALACHUA', state=u'FL', province=None, postal_code=u'32607', postal_code_extn=u'3326', country_code=u'US', street_name=u'14TH', street_number=u'8009', street_direction=u'SW', street_type=u'AVE', geo_valid_status=u'GEO_VALID', completenes_status=u'COMPLETE', cleansed_status=u'CLEANSED', start_date=u'2002-11-11 22:13:26.0', end_date=None, program_id=None, request_id=None, created_by=1116.0, last_updated_by=332355.0, creation_date=u'2002-11-11 22:13:26.0', last_update_date=u'2014-11-16 13:12:08.0', certified_date=u'2011-11-19 09:40:32.0', site_expl_id=442340892.0, conflict_batch_id=82646466.0, sa_member_id=216797.0, parent_sa_member_id=-1.0, party_level=1.0, link_party_id=18628.0, link_party_type=u'ORGANIZATION', split_pct=100.0, sales_acct_id=203684958.0, operation_type=u'INSERT', account_type=u'NAMED_ACCOUNT', account_sub_type=u'DR'),\n",
       " Row(party_id=21089.0, parent_party_id=27300.0, party_name=u'SPALDING REGIONAL MEDICAL CENTER', node_type=u'HQ', address1=u'601 S 8TH ST', address2=None, address3=None, address4=None, city=u'GRIFFIN', county=u'SPALDING', state=u'GA', province=None, postal_code=u'30224', postal_code_extn=u'4213', country_code=u'US', street_name=u'8TH', street_number=u'601', street_direction=u'S', street_type=u'ST', geo_valid_status=u'GEO_VALID', completenes_status=u'COMPLETE', cleansed_status=u'CLEANSED', start_date=u'2002-11-11 22:52:05.0', end_date=u'4712-12-31 00:00:00.0', program_id=None, request_id=None, created_by=1116.0, last_updated_by=332355.0, creation_date=u'2002-11-11 22:52:05.0', last_update_date=u'2014-11-16 13:13:07.0', certified_date=u'2013-04-18 05:21:21.0', site_expl_id=441868025.0, conflict_batch_id=84027707.0, sa_member_id=2309542.0, parent_sa_member_id=-1.0, party_level=1.0, link_party_id=21089.0, link_party_type=u'ORGANIZATION', split_pct=100.0, sales_acct_id=203862218.0, operation_type=u'UPDATE', account_type=u'NAMED_ACCOUNT', account_sub_type=u'DR'),\n",
       " Row(party_id=23366.0, parent_party_id=136553.0, party_name=u'WABTEC RAILWAY ELECTRONICS', node_type=u'HQ', address1=u'21200 DORSEY MILL RD', address2=None, address3=None, address4=None, city=u'GERMANTOWN', county=u'MONTGOMERY', state=u'MD', province=None, postal_code=u'20876', postal_code_extn=u'6963', country_code=u'US', street_name=u'DORSEY MILL', street_number=u'21200', street_direction=None, street_type=u'RD', geo_valid_status=u'GEO_VALID', completenes_status=u'COMPLETE', cleansed_status=u'CLEANSED', start_date=u'2002-11-11 23:12:24.0', end_date=u'4712-12-31 00:00:00.0', program_id=46063.0, request_id=94566531.0, created_by=1116.0, last_updated_by=316142.0, creation_date=u'2002-11-11 23:12:24.0', last_update_date=u'2013-11-09 03:14:27.0', certified_date=u'2013-11-09 03:14:26.0', site_expl_id=437970128.0, conflict_batch_id=81296279.0, sa_member_id=617136.0, parent_sa_member_id=-1.0, party_level=1.0, link_party_id=23366.0, link_party_type=u'ORGANIZATION', split_pct=100.0, sales_acct_id=203774262.0, operation_type=u'INSERT', account_type=u'NAMED_ACCOUNT', account_sub_type=u'DR'),\n",
       " Row(party_id=25712.0, parent_party_id=8498861.0, party_name=u'RED ROBIN INTERNATIONAL INC', node_type=u'HQ', address1=u'6312 S FIDDLERS GREEN CIR', address2=u'STE 200N', address3=None, address4=None, city=u'ENGLEWOOD', county=u'ARAPAHOE', state=u'CO', province=None, postal_code=u'80111', postal_code_extn=u'3012', country_code=u'US', street_name=u'FIDDLERS GREEN', street_number=u'6312', street_direction=u'S', street_type=u'CIR', geo_valid_status=u'GEO_VALID', completenes_status=u'COMPLETE', cleansed_status=u'CLEANSED', start_date=u'2002-11-11 22:55:35.0', end_date=u'4712-12-31 00:00:01.0', program_id=None, request_id=None, created_by=1116.0, last_updated_by=332355.0, creation_date=u'2002-11-11 22:55:35.0', last_update_date=u'2014-11-16 10:51:44.0', certified_date=u'2014-11-16 10:51:44.0', site_expl_id=393300462.0, conflict_batch_id=57612143.0, sa_member_id=812258.0, parent_sa_member_id=-1.0, party_level=1.0, link_party_id=25712.0, link_party_type=u'ORGANIZATION', split_pct=100.0, sales_acct_id=203841559.0, operation_type=u'UPDATE', account_type=u'NAMED_ACCOUNT', account_sub_type=u'DR'),\n",
       " Row(party_id=27736.0, parent_party_id=None, party_name=u'JF ACQUISITION LLC', node_type=u'HQ', address1=u'1330 SAINT MARYS ST', address2=u'STE 210', address3=None, address4=None, city=u'RALEIGH', county=u'WAKE', state=u'NC', province=None, postal_code=u'27605', postal_code_extn=u'1915', country_code=u'US', street_name=u'SAINT MARYS', street_number=u'1330', street_direction=None, street_type=u'ST', geo_valid_status=u'GEO_VALID', completenes_status=u'COMPLETE', cleansed_status=u'CLEANSED', start_date=u'2002-11-11 23:15:04.0', end_date=None, program_id=None, request_id=None, created_by=1116.0, last_updated_by=332355.0, creation_date=u'2002-11-11 23:15:04.0', last_update_date=u'2014-11-20 01:10:12.0', certified_date=u'2014-11-20 01:10:12.0', site_expl_id=457605925.0, conflict_batch_id=85054743.0, sa_member_id=639159.0, parent_sa_member_id=-1.0, party_level=1.0, link_party_id=27736.0, link_party_type=u'ORGANIZATION', split_pct=100.0, sales_acct_id=203781425.0, operation_type=u'INSERT', account_type=u'NAMED_ACCOUNT', account_sub_type=u'DR')]"
      ]
     },
     "execution_count": 2,
     "metadata": {},
     "output_type": "execute_result"
    }
   ],
   "source": [
    "cr.take(10)"
   ]
  },
  {
   "cell_type": "code",
   "execution_count": 4,
   "metadata": {
    "collapsed": true
   },
   "outputs": [],
   "source": [
    "def apply_function(df, fields, function):\n",
    "    column_objects = []\n",
    "    for column in df.columns:\n",
    "        if column in fields:\n",
    "            column_objects.append(function(column))\n",
    "        else:\n",
    "            column_objects.append(column)\n",
    "    return df.select(column_objects)\n",
    "\n",
    "def tokenize(column):\n",
    "    def parse(d):\n",
    "        if d == None:\n",
    "            return \"\"\n",
    "        elems = d.replace(\"(\", \" \").replace(\")\", \" \").replace(\"-\", \" \").replace(',', ' ').split(\" \")\n",
    "        elems = ' '.join([elem.strip() for elem in elems])\n",
    "        return elems + \" \"\n",
    "    return F.udf(parse, StringType())(F.col(column)).alias(column)\n",
    "\n",
    "def full_concatenation(space_delims):\n",
    "    full_list = []\n",
    "    for elems in space_delims.split(\" \"):\n",
    "        full_list += elems\n",
    "    return full_list"
   ]
  },
  {
   "cell_type": "code",
   "execution_count": 8,
   "metadata": {
    "collapsed": false
   },
   "outputs": [],
   "source": [
    "string_fields = ['party_name', 'address1', 'address2', 'address3', 'address4', 'city', 'county', \n",
    "                              'state', 'postal_code', 'street_name', 'street_number', 'street_direction', 'street_type']\n",
    "builder = apply_function(cr, string_fields, tokenize)"
   ]
  },
  {
   "cell_type": "code",
   "execution_count": 9,
   "metadata": {
    "collapsed": false
   },
   "outputs": [],
   "source": [
    "\n",
    "builder = builder.withColumn(\"concat\", F.concat(\n",
    "            F.col('party_name'), F.col('address1'), F.col('address2'), F.col('address3'), F.col('address4'),\n",
    "            F.col('city'), F.col('county'), F.col('state'), F.col('postal_code'), F.col('street_name'),\n",
    "            F.col('street_number'), F.col('street_direction'), F.col('street_type')\n",
    "        ))"
   ]
  },
  {
   "cell_type": "code",
   "execution_count": 10,
   "metadata": {
    "collapsed": false
   },
   "outputs": [],
   "source": [
    "cleaned = builder"
   ]
  },
  {
   "cell_type": "code",
   "execution_count": 11,
   "metadata": {
    "collapsed": false
   },
   "outputs": [],
   "source": [
    "words = Tokenizer(inputCol = 'concat', outputCol = 'all_tokenized').transform(cleaned)\n",
    "hashed = HashingTF(inputCol = 'all_tokenized', outputCol = 'vector').transform(words)"
   ]
  },
  {
   "cell_type": "code",
   "execution_count": 12,
   "metadata": {
    "collapsed": false
   },
   "outputs": [
    {
     "data": {
      "text/plain": [
       "[Row(party_id=10698.0, parent_party_id=146850.0, party_name=u'MARUBENI AMERICA CORPORATION ', node_type=u'HQ', address1=u'375 LEXINGTON AVE ', address2=u'', address3=u'', address4=u'', city=u'NEW YORK ', county=u'NEW YORK ', state=u'NY ', province=None, postal_code=u'10017 ', postal_code_extn=u'3914', country_code=u'US', street_name=u'LEXINGTON ', street_number=u'375 ', street_direction=u'', street_type=u'AVE ', geo_valid_status=u'GEO_VALID', completenes_status=u'COMPLETE', cleansed_status=u'CLEANSED', start_date=u'2002-11-11 22:12:45.0', end_date=u'4712-12-31 00:00:00.0', program_id=46063.0, request_id=103145420.0, created_by=1116.0, last_updated_by=316142.0, creation_date=u'2002-11-11 22:12:45.0', last_update_date=u'2014-02-15 05:43:29.0', certified_date=u'2014-02-15 05:43:29.0', site_expl_id=374542503.0, conflict_batch_id=51527995.0, sa_member_id=922275.0, parent_sa_member_id=-1.0, party_level=1.0, link_party_id=10698.0, link_party_type=u'ORGANIZATION', split_pct=100.0, sales_acct_id=203883053.0, operation_type=u'UPDATE', account_type=u'NAMED_ACCOUNT', account_sub_type=u'DR', concat=u'MARUBENI AMERICA CORPORATION 375 LEXINGTON AVE NEW YORK NEW YORK NY 10017 LEXINGTON 375 AVE ', all_tokenized=[u'marubeni', u'america', u'corporation', u'375', u'lexington', u'ave', u'new', u'york', u'new', u'york', u'ny', u'10017', u'lexington', u'375', u'ave'], vector=SparseVector(262144, {3531: 1.0, 45007: 2.0, 50769: 2.0, 54544: 2.0, 68567: 1.0, 89614: 1.0, 96976: 2.0, 108960: 2.0, 237576: 1.0, 252053: 1.0}))]"
      ]
     },
     "execution_count": 12,
     "metadata": {},
     "output_type": "execute_result"
    }
   ],
   "source": [
    "hashed.take(1)"
   ]
  },
  {
   "cell_type": "code",
   "execution_count": 13,
   "metadata": {
    "collapsed": true
   },
   "outputs": [],
   "source": [
    "hashed.select(['party_id', 'vector']).write.saveAsTable(\"ignite.savm_hashed\")"
   ]
  },
  {
   "cell_type": "code",
   "execution_count": null,
   "metadata": {
    "collapsed": true
   },
   "outputs": [],
   "source": []
  }
 ],
 "metadata": {
  "kernelspec": {
   "display_name": "Python 2",
   "language": "python",
   "name": "python2"
  },
  "language_info": {
   "codemirror_mode": {
    "name": "ipython",
    "version": 2
   },
   "file_extension": ".py",
   "mimetype": "text/x-python",
   "name": "python",
   "nbconvert_exporter": "python",
   "pygments_lexer": "ipython2",
   "version": "2.7.11"
  }
 },
 "nbformat": 4,
 "nbformat_minor": 0
}
