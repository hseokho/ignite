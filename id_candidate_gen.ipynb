{
 "cells": [
  {
   "cell_type": "code",
   "execution_count": 2,
   "metadata": {
    "collapsed": true
   },
   "outputs": [],
   "source": [
    "from pyspark.sql import functions as F\n",
    "\n",
    "import pandas as pd\n",
    "import numpy as np"
   ]
  },
  {
   "cell_type": "code",
   "execution_count": 2,
   "metadata": {
    "collapsed": false
   },
   "outputs": [
    {
     "data": {
      "text/plain": [
       "DataFrame[key: string, value: string]"
      ]
     },
     "execution_count": 2,
     "metadata": {},
     "output_type": "execute_result"
    }
   ],
   "source": [
    "sqlContext.sql(\"set spark.sql.shuffle.partitions=500\")"
   ]
  },
  {
   "cell_type": "code",
   "execution_count": 3,
   "metadata": {
    "collapsed": false
   },
   "outputs": [],
   "source": [
    "contest_data = sqlContext.sql(\"select * from ignite.contest_data_stamped\").repartition(200).cache()\n",
    "so_end_customer = sqlContext.sql('select * from edso_ignite.contest_so_end_customer').repartition(200).cache()\n",
    "sol_end_customer = sqlContext.sql('select * from edso_ignite.contest_sol_end_customer').repartition(200).cache()\n",
    "party_info = sqlContext.sql(\"select * from edso_ignite.contest_party_info\").repartition(200).cache()\n",
    "end_customer = sqlContext.sql('select * from edso_ignite.contest_end_customer').repartition(200).cache()\n",
    "cr_parsed = sqlContext.sql('select * from ignite.cr_parsed').repartition(200).cache()\n",
    "savm_parsed = sqlContext.sql(\"select * from ignite.savm_parsed\").repartition(500, 'creation_date').cache()"
   ]
  },
  {
   "cell_type": "code",
   "execution_count": 4,
   "metadata": {
    "collapsed": true
   },
   "outputs": [],
   "source": [
    "def drop_columns(df, columns):\n",
    "    return df.select([c for c in df.columns if c not in columns])"
   ]
  },
  {
   "cell_type": "code",
   "execution_count": 5,
   "metadata": {
    "collapsed": true
   },
   "outputs": [],
   "source": [
    "party_values = [\n",
    "    'end_customer_party_ssot_party_id_int_sav_party_id',\n",
    "    'prior_party_ssot_party_id_int_sav_party_id',\n",
    "    'sol_branch_party',\n",
    "    'sol_gu_party',\n",
    "    'sol_hq_party',\n",
    "    'order_level_branch_party',\n",
    "    'order_level_gu_party',\n",
    "    'order_level_hq_party',\n",
    "    'line_level_branch_party',\n",
    "    'line_level_gu_party',\n",
    "    'line_level_hq_party',\n",
    "    'ship_to_branch_party',\n",
    "    'ship_to_gu_party',\n",
    "    'ship_to_hq_party',\n",
    "    'bill_to_branch_party',\n",
    "    'bill_to_gu_party',\n",
    "    'bill_to_hq_party',\n",
    "    'sold_to_branch_party',\n",
    "    'sold_to_gu_party',\n",
    "    'sold_to_hq_party'\n",
    "]"
   ]
  },
  {
   "cell_type": "code",
   "execution_count": 10,
   "metadata": {
    "collapsed": false
   },
   "outputs": [],
   "source": [
    "party_expansion = sqlContext.sql(\"select * from ignite.party_expansion\")"
   ]
  },
  {
   "cell_type": "code",
   "execution_count": 7,
   "metadata": {
    "collapsed": false
   },
   "outputs": [],
   "source": [
    "flattened_parties = party_expansion.map(lambda x : (x.id, \n",
    "                                                  list(set([\n",
    "            x.end_customer_party_ssot_party_id_int_sav_party_id,\n",
    "            x.prior_party_ssot_party_id_int_sav_party_id,\n",
    "            x.pppk_party,\n",
    "            x.sol_branch_party,\n",
    "            x.sol_gu_party,\n",
    "            x.sol_hq_party,\n",
    "            x.order_level_branch_party,\n",
    "            x.order_level_gu_party,\n",
    "            x.order_level_hq_party,\n",
    "            x.line_level_branch_party,\n",
    "            x.line_level_gu_party,\n",
    "            x.line_level_hq_party,\n",
    "            x.ship_to_branch_party,\n",
    "            x.ship_to_gu_party,\n",
    "            x.ship_to_hq_party,\n",
    "            x.bill_to_branch_party,\n",
    "            x.bill_to_gu_party,\n",
    "            x.bill_to_hq_party,\n",
    "            x.sold_to_branch_party,\n",
    "            x.sold_to_gu_party,\n",
    "            x.sold_to_hq_party\n",
    "        ])))).flatMapValues(lambda x : x).toDF(['id', 'candidate_party']).drop_duplicates()"
   ]
  },
  {
   "cell_type": "code",
   "execution_count": 8,
   "metadata": {
    "collapsed": true
   },
   "outputs": [],
   "source": [
    "all_sales_accts = flattened_parties.repartition(500, 'id').join(party_expansion.repartition(500, 'id').select(['id', 'decision_date_time']), on = 'id').cache()"
   ]
  },
  {
   "cell_type": "code",
   "execution_count": 20,
   "metadata": {
    "collapsed": false
   },
   "outputs": [
    {
     "data": {
      "text/plain": [
       "DataFrame[id: bigint, candidate_party: bigint, candidate_sales_acct_id: double]"
      ]
     },
     "execution_count": 20,
     "metadata": {},
     "output_type": "execute_result"
    }
   ],
   "source": [
    "joining_savm_party = savm_parsed.select(['party_id', 'creation_date', F.col('sales_acct_id').alias('candidate_sales_acct_id')]).drop_duplicates()\n",
    "builder_party = all_sales_accts.join(joining_savm_party, on = (F.col('party_id') == F.col('candidate_party')))\n",
    "#builder_party = builder_party.where(F.col('creation_date') < F.col('decision_date_time')).drop_duplicates()\n",
    "builder_party = builder_party.select(['id', 'candidate_party', 'candidate_sales_acct_id'])\n",
    "builder_party.cache()"
   ]
  },
  {
   "cell_type": "code",
   "execution_count": 13,
   "metadata": {
    "collapsed": false
   },
   "outputs": [
    {
     "data": {
      "text/plain": [
       "DataFrame[id: bigint, candidate_party: bigint, decision_date_time: date, parent_party_id: double, candidate_sales_acct_id: double]"
      ]
     },
     "execution_count": 13,
     "metadata": {},
     "output_type": "execute_result"
    }
   ],
   "source": [
    "joining_savm_party = savm_parsed.select(['parent_party_id', F.col('sales_acct_id').alias('candidate_sales_acct_id')]).drop_duplicates()\n",
    "parent_party_candidates = all_sales_accts.join(joining_savm_party, on = (F.col('parent_party_id') == F.col('candidate_party')))\n",
    "parent_party_candidates = parent_party_candidates.drop_duplicates()\n",
    "parent_party_candidates.cache()"
   ]
  },
  {
   "cell_type": "code",
   "execution_count": 16,
   "metadata": {
    "collapsed": false
   },
   "outputs": [
    {
     "data": {
      "text/plain": [
       "12190957"
      ]
     },
     "execution_count": 16,
     "metadata": {},
     "output_type": "execute_result"
    }
   ],
   "source": [
    "joining_savm_party.count()"
   ]
  },
  {
   "cell_type": "code",
   "execution_count": 17,
   "metadata": {
    "collapsed": false
   },
   "outputs": [
    {
     "data": {
      "text/plain": [
       "10525554"
      ]
     },
     "execution_count": 17,
     "metadata": {},
     "output_type": "execute_result"
    }
   ],
   "source": [
    "builder_party.count()"
   ]
  },
  {
   "cell_type": "code",
   "execution_count": 14,
   "metadata": {
    "collapsed": false
   },
   "outputs": [
    {
     "data": {
      "text/plain": [
       "34548921"
      ]
     },
     "execution_count": 14,
     "metadata": {},
     "output_type": "execute_result"
    }
   ],
   "source": [
    "parent_party_candidates.count()"
   ]
  },
  {
   "cell_type": "code",
   "execution_count": 8,
   "metadata": {
    "collapsed": false
   },
   "outputs": [
    {
     "ename": "NameError",
     "evalue": "name 'builder_party' is not defined",
     "output_type": "error",
     "traceback": [
      "\u001b[1;31m---------------------------------------------------------------------------\u001b[0m",
      "\u001b[1;31mNameError\u001b[0m                                 Traceback (most recent call last)",
      "\u001b[1;32m<ipython-input-8-f7b1a60e2259>\u001b[0m in \u001b[0;36m<module>\u001b[1;34m()\u001b[0m\n\u001b[1;32m----> 1\u001b[1;33m \u001b[0mbuilder_party\u001b[0m\u001b[1;33m.\u001b[0m\u001b[0mwrite\u001b[0m\u001b[1;33m.\u001b[0m\u001b[0msaveAsTable\u001b[0m\u001b[1;33m(\u001b[0m\u001b[1;34m'ignite.direct_id_candidates'\u001b[0m\u001b[1;33m)\u001b[0m\u001b[1;33m\u001b[0m\u001b[0m\n\u001b[0m",
      "\u001b[1;31mNameError\u001b[0m: name 'builder_party' is not defined"
     ]
    }
   ],
   "source": [
    "builder_party.write.saveAsTable('ignite.direct_id_candidates')"
   ]
  },
  {
   "cell_type": "code",
   "execution_count": null,
   "metadata": {
    "collapsed": true
   },
   "outputs": [],
   "source": [
    "parent_party_candidates.write.saveAsTable('ignite.parent_expansion_candidates')"
   ]
  },
  {
   "cell_type": "code",
   "execution_count": 11,
   "metadata": {
    "collapsed": false
   },
   "outputs": [],
   "source": [
    "id_candidates = builder_party.unionAll(parent_party_candidates)"
   ]
  },
  {
   "cell_type": "code",
   "execution_count": 23,
   "metadata": {
    "collapsed": false
   },
   "outputs": [
    {
     "data": {
      "text/plain": [
       "45220456"
      ]
     },
     "execution_count": 23,
     "metadata": {},
     "output_type": "execute_result"
    }
   ],
   "source": [
    "id_candidates.count()"
   ]
  },
  {
   "cell_type": "code",
   "execution_count": 21,
   "metadata": {
    "collapsed": false,
    "scrolled": false
   },
   "outputs": [],
   "source": [
    "joining_contest_data = contest_data.select([F.col('sales_acct_id').alias('truth_sales_acct_id'), 'id'])\n",
    "correct_candidates = joining_contest_data.join(builder_party, on = 'id').where(F.col('truth_sales_acct_id') == F.col('candidate_sales_acct_id'))\n",
    "distinct_candidates = correct_candidates.select(['id']).distinct()\n",
    "unmatched_ids = distinct_candidates.select([F.col('id').alias('generated_id'), 'id']).join(contest_data.select(['id']), on = 'id', how = 'right').where(F.col('generated_id').isNull())"
   ]
  },
  {
   "cell_type": "code",
   "execution_count": 22,
   "metadata": {
    "collapsed": false
   },
   "outputs": [
    {
     "data": {
      "text/plain": [
       "674906"
      ]
     },
     "execution_count": 22,
     "metadata": {},
     "output_type": "execute_result"
    }
   ],
   "source": [
    "correct_candidates.select(['id']).distinct().count()"
   ]
  },
  {
   "cell_type": "code",
   "execution_count": 30,
   "metadata": {
    "collapsed": false
   },
   "outputs": [],
   "source": [
    "def correct_candidates(candidate_set):\n",
    "    joining_contest_data = contest_data.select([F.col('sales_acct_id').alias('truth_sales_acct_id'), 'id'])\n",
    "    correct_candidates = joining_contest_data.join(candidate_set, on = 'id').where(F.col('truth_sales_acct_id') == F.col('candidate_sales_acct_id'))\n",
    "    return correct_candidates.select(['id']).distinct()"
   ]
  },
  {
   "cell_type": "code",
   "execution_count": 7,
   "metadata": {
    "collapsed": false
   },
   "outputs": [],
   "source": [
    "id_candidates = sqlContext.sql('select * from ignite.direct_id_candidates').unionAll(sqlContext.sql('select * from ignite.parent_expansion_candidates')).repartition(200).cache()"
   ]
  },
  {
   "cell_type": "code",
   "execution_count": 7,
   "metadata": {
    "collapsed": false
   },
   "outputs": [
    {
     "data": {
      "text/plain": [
       "[Row(endcustomerlinefixed=u'LOH SERVICES GMBH & CO. KG', pppk=5270081, fppk=106855484, decision_date_time=u'2016-03-16 06:44:50.0', days_from_create_to_final_decision=20.291666, end_customer_party_ssot_party_id_int_sav_party_id=41313822, prior_party_ssot_party_id_int_sav_party_id=41313822, final_party_ssot_party_id_int_sav_party_id=174568531, type=u'Reviewed_and_modified', priorpartyname=u'LOH SERVICES GMBH & CO. KG', finalpartyname=u'LOH SERVICES', sales_order_key=25309434, sales_order_line_key=254830200, so_number_int=101993209, end_customer_key_line_level=69154289, end_customer_key_order_level=69154289, dd_end_customer_type_order_level=u'ACCOUNT_LOCATION                                  ', purchase_order_type_code=u'Resale', purchase_order_number=u'6550170144', order_datetime=u'2016-02-24 23:46:56.0', oracle_book_datetime=u'2016-02-25 01:25:47.0', transactional_currency_code=u'USD            ', customer_service_rep_name=u'null', cust_svc_rep_team_name=u'null', conversion_type_code=u'Corporate', original_system_reference_code=u'66825753', submitted_on_web_by_name=u'deteline-xml', deal_id=u'22431200', price_list_name=u'Global Price List - EMEA', so_source_name=u'EC CCC', order_type_name=u'Standard Cisco - UKH', so_src_crt_datetime=u'2016-02-24 23:47:45.0', sales_channel_code=u'SP-PTT', sales_channel_source_type=u'ERP             ', sales_order_category_type=u'ORDER ', ship_to_customer_key=69154016, bill_to_customer_key=58871703, sold_to_customer_key=58758751, ss_code=u'CG      ', end_ssp_date=u'3500-01-01 00:00:00.0', ru_bk_orig_sales_order_key=-9999, so_created_by_erp_user_name=u'CCWADM', so_modified_by_erp_user_name=u'BISMOHAN', sk_sales_order_header_id_int=606694263, sales_order_program_type_name=u'Standard', sales_acct_id=213297969.0, id=14431)]"
      ]
     },
     "execution_count": 7,
     "metadata": {},
     "output_type": "execute_result"
    }
   ],
   "source": [
    "contest_data.where(F.col('id') == 14431).take(1)"
   ]
  },
  {
   "cell_type": "code",
   "execution_count": 11,
   "metadata": {
    "collapsed": false
   },
   "outputs": [
    {
     "data": {
      "text/plain": [
       "[Row(sold_to_customer_key=58758751, bill_to_customer_key=58869428, ship_to_customer_key=69182435, end_customer_key_line_level=69154289, end_customer_key_order_level=69154289, sales_order_line_key=254976245, sales_order_key=25320374, endcustomerlinefixed=u'LOH SERVICES GMBH & CO. KG', pppk=5270081, fppk=106855484, decision_date_time=datetime.date(2016, 3, 16), days_from_create_to_final_decision=19.041666, end_customer_party_ssot_party_id_int_sav_party_id=41313822, prior_party_ssot_party_id_int_sav_party_id=41313822, final_party_ssot_party_id_int_sav_party_id=174568531, type=u'Reviewed_and_modified', priorpartyname=u'LOH SERVICES GMBH & CO. KG', finalpartyname=u'LOH SERVICES', so_number_int=102003525, dd_end_customer_type_order_level=u'ACCOUNT_LOCATION                                  ', purchase_order_type_code=u'Service Provision Use', purchase_order_number=u'6550170722', order_datetime=u'2016-02-26 05:29:43.0', oracle_book_datetime=u'2016-02-26 12:23:18.0', transactional_currency_code=u'USD            ', customer_service_rep_name=u'null', cust_svc_rep_team_name=u'null', conversion_type_code=u'Corporate', original_system_reference_code=u'66833729', submitted_on_web_by_name=u'deteline-xml', deal_id=u'22431062', price_list_name=u'Global Price List - EMEA', so_source_name=u'EC CCC', order_type_name=u'Standard Cisco - UKH', so_src_crt_datetime=u'2016-02-26 05:29:55.0', sales_channel_code=u'SP-PTT', sales_channel_source_type=u'ERP             ', sales_order_category_type=u'ORDER ', ss_code=u'CG      ', end_ssp_date=u'3500-01-01 00:00:00.0', ru_bk_orig_sales_order_key=-9999, so_created_by_erp_user_name=u'CCWADM', so_modified_by_erp_user_name=u'BISMOHAN', sk_sales_order_header_id_int=606709663, sales_order_program_type_name=u'Standard', sales_acct_id=213297969.0, id=14427, end_customer_line_fix=u'loh services gmbh & co kg', prior_party_name=u'loh services gmbh & co kg', pppk_party_key=5270081, pppk_party=41313822, end_customer_key_so_party=69154289, so_branch_party=41313822, so_gu_party=7420532, so_hq_party=7420532, end_customer_key_sol_party=69154289, sol_branch_party=41313822, sol_gu_party=7420532, sol_hq_party=7420532, order_level_branch_party=41313822, order_level_gu_party=7420532, order_level_hq_party=7420532, line_level_branch_party=41313822, line_level_gu_party=7420532, line_level_hq_party=7420532, ship_to_branch_party=268592676, ship_to_gu_party=7420532, ship_to_hq_party=41313822, bill_to_branch_party=276097776, bill_to_gu_party=97073, bill_to_hq_party=91935, sold_to_branch_party=91935, sold_to_gu_party=97073, sold_to_hq_party=97073),\n",
       " Row(sold_to_customer_key=58758751, bill_to_customer_key=58869428, ship_to_customer_key=69182435, end_customer_key_line_level=69154289, end_customer_key_order_level=69154289, sales_order_line_key=254976248, sales_order_key=25320374, endcustomerlinefixed=u'LOH SERVICES GMBH & CO. KG', pppk=5270081, fppk=106855484, decision_date_time=datetime.date(2016, 3, 16), days_from_create_to_final_decision=19.041666, end_customer_party_ssot_party_id_int_sav_party_id=41313822, prior_party_ssot_party_id_int_sav_party_id=41313822, final_party_ssot_party_id_int_sav_party_id=174568531, type=u'Reviewed_and_modified', priorpartyname=u'LOH SERVICES GMBH & CO. KG', finalpartyname=u'LOH SERVICES', so_number_int=102003525, dd_end_customer_type_order_level=u'ACCOUNT_LOCATION                                  ', purchase_order_type_code=u'Service Provision Use', purchase_order_number=u'6550170722', order_datetime=u'2016-02-26 05:29:43.0', oracle_book_datetime=u'2016-02-26 12:23:18.0', transactional_currency_code=u'USD            ', customer_service_rep_name=u'null', cust_svc_rep_team_name=u'null', conversion_type_code=u'Corporate', original_system_reference_code=u'66833729', submitted_on_web_by_name=u'deteline-xml', deal_id=u'22431062', price_list_name=u'Global Price List - EMEA', so_source_name=u'EC CCC', order_type_name=u'Standard Cisco - UKH', so_src_crt_datetime=u'2016-02-26 05:29:55.0', sales_channel_code=u'SP-PTT', sales_channel_source_type=u'ERP             ', sales_order_category_type=u'ORDER ', ss_code=u'CG      ', end_ssp_date=u'3500-01-01 00:00:00.0', ru_bk_orig_sales_order_key=-9999, so_created_by_erp_user_name=u'CCWADM', so_modified_by_erp_user_name=u'BISMOHAN', sk_sales_order_header_id_int=606709663, sales_order_program_type_name=u'Standard', sales_acct_id=213297969.0, id=14450, end_customer_line_fix=u'loh services gmbh & co kg', prior_party_name=u'loh services gmbh & co kg', pppk_party_key=5270081, pppk_party=41313822, end_customer_key_so_party=69154289, so_branch_party=41313822, so_gu_party=7420532, so_hq_party=7420532, end_customer_key_sol_party=69154289, sol_branch_party=41313822, sol_gu_party=7420532, sol_hq_party=7420532, order_level_branch_party=41313822, order_level_gu_party=7420532, order_level_hq_party=7420532, line_level_branch_party=41313822, line_level_gu_party=7420532, line_level_hq_party=7420532, ship_to_branch_party=268592676, ship_to_gu_party=7420532, ship_to_hq_party=41313822, bill_to_branch_party=276097776, bill_to_gu_party=97073, bill_to_hq_party=91935, sold_to_branch_party=91935, sold_to_gu_party=97073, sold_to_hq_party=97073),\n",
       " Row(sold_to_customer_key=58758751, bill_to_customer_key=58869428, ship_to_customer_key=69182435, end_customer_key_line_level=69154289, end_customer_key_order_level=69154289, sales_order_line_key=254976250, sales_order_key=25320374, endcustomerlinefixed=u'LOH SERVICES GMBH & CO. KG', pppk=5270081, fppk=106855484, decision_date_time=datetime.date(2016, 3, 16), days_from_create_to_final_decision=19.041666, end_customer_party_ssot_party_id_int_sav_party_id=41313822, prior_party_ssot_party_id_int_sav_party_id=41313822, final_party_ssot_party_id_int_sav_party_id=174568531, type=u'Reviewed_and_modified', priorpartyname=u'LOH SERVICES GMBH & CO. KG', finalpartyname=u'LOH SERVICES', so_number_int=102003525, dd_end_customer_type_order_level=u'ACCOUNT_LOCATION                                  ', purchase_order_type_code=u'Service Provision Use', purchase_order_number=u'6550170722', order_datetime=u'2016-02-26 05:29:43.0', oracle_book_datetime=u'2016-02-26 12:23:18.0', transactional_currency_code=u'USD            ', customer_service_rep_name=u'null', cust_svc_rep_team_name=u'null', conversion_type_code=u'Corporate', original_system_reference_code=u'66833729', submitted_on_web_by_name=u'deteline-xml', deal_id=u'22431062', price_list_name=u'Global Price List - EMEA', so_source_name=u'EC CCC', order_type_name=u'Standard Cisco - UKH', so_src_crt_datetime=u'2016-02-26 05:29:55.0', sales_channel_code=u'SP-PTT', sales_channel_source_type=u'ERP             ', sales_order_category_type=u'ORDER ', ss_code=u'CG      ', end_ssp_date=u'3500-01-01 00:00:00.0', ru_bk_orig_sales_order_key=-9999, so_created_by_erp_user_name=u'CCWADM', so_modified_by_erp_user_name=u'BISMOHAN', sk_sales_order_header_id_int=606709663, sales_order_program_type_name=u'Standard', sales_acct_id=213297969.0, id=14507, end_customer_line_fix=u'loh services gmbh & co kg', prior_party_name=u'loh services gmbh & co kg', pppk_party_key=5270081, pppk_party=41313822, end_customer_key_so_party=69154289, so_branch_party=41313822, so_gu_party=7420532, so_hq_party=7420532, end_customer_key_sol_party=69154289, sol_branch_party=41313822, sol_gu_party=7420532, sol_hq_party=7420532, order_level_branch_party=41313822, order_level_gu_party=7420532, order_level_hq_party=7420532, line_level_branch_party=41313822, line_level_gu_party=7420532, line_level_hq_party=7420532, ship_to_branch_party=268592676, ship_to_gu_party=7420532, ship_to_hq_party=41313822, bill_to_branch_party=276097776, bill_to_gu_party=97073, bill_to_hq_party=91935, sold_to_branch_party=91935, sold_to_gu_party=97073, sold_to_hq_party=97073),\n",
       " Row(sold_to_customer_key=58758751, bill_to_customer_key=58869428, ship_to_customer_key=69182435, end_customer_key_line_level=69154289, end_customer_key_order_level=69154289, sales_order_line_key=254976253, sales_order_key=25320374, endcustomerlinefixed=u'LOH SERVICES GMBH & CO. KG', pppk=5270081, fppk=106855484, decision_date_time=datetime.date(2016, 3, 16), days_from_create_to_final_decision=19.041666, end_customer_party_ssot_party_id_int_sav_party_id=41313822, prior_party_ssot_party_id_int_sav_party_id=41313822, final_party_ssot_party_id_int_sav_party_id=174568531, type=u'Reviewed_and_modified', priorpartyname=u'LOH SERVICES GMBH & CO. KG', finalpartyname=u'LOH SERVICES', so_number_int=102003525, dd_end_customer_type_order_level=u'ACCOUNT_LOCATION                                  ', purchase_order_type_code=u'Service Provision Use', purchase_order_number=u'6550170722', order_datetime=u'2016-02-26 05:29:43.0', oracle_book_datetime=u'2016-02-26 12:23:18.0', transactional_currency_code=u'USD            ', customer_service_rep_name=u'null', cust_svc_rep_team_name=u'null', conversion_type_code=u'Corporate', original_system_reference_code=u'66833729', submitted_on_web_by_name=u'deteline-xml', deal_id=u'22431062', price_list_name=u'Global Price List - EMEA', so_source_name=u'EC CCC', order_type_name=u'Standard Cisco - UKH', so_src_crt_datetime=u'2016-02-26 05:29:55.0', sales_channel_code=u'SP-PTT', sales_channel_source_type=u'ERP             ', sales_order_category_type=u'ORDER ', ss_code=u'CG      ', end_ssp_date=u'3500-01-01 00:00:00.0', ru_bk_orig_sales_order_key=-9999, so_created_by_erp_user_name=u'CCWADM', so_modified_by_erp_user_name=u'BISMOHAN', sk_sales_order_header_id_int=606709663, sales_order_program_type_name=u'Standard', sales_acct_id=213297969.0, id=14452, end_customer_line_fix=u'loh services gmbh & co kg', prior_party_name=u'loh services gmbh & co kg', pppk_party_key=5270081, pppk_party=41313822, end_customer_key_so_party=69154289, so_branch_party=41313822, so_gu_party=7420532, so_hq_party=7420532, end_customer_key_sol_party=69154289, sol_branch_party=41313822, sol_gu_party=7420532, sol_hq_party=7420532, order_level_branch_party=41313822, order_level_gu_party=7420532, order_level_hq_party=7420532, line_level_branch_party=41313822, line_level_gu_party=7420532, line_level_hq_party=7420532, ship_to_branch_party=268592676, ship_to_gu_party=7420532, ship_to_hq_party=41313822, bill_to_branch_party=276097776, bill_to_gu_party=97073, bill_to_hq_party=91935, sold_to_branch_party=91935, sold_to_gu_party=97073, sold_to_hq_party=97073),\n",
       " Row(sold_to_customer_key=58758751, bill_to_customer_key=58869428, ship_to_customer_key=69182435, end_customer_key_line_level=69154289, end_customer_key_order_level=69154289, sales_order_line_key=254976256, sales_order_key=25320374, endcustomerlinefixed=u'LOH SERVICES GMBH & CO. KG', pppk=5270081, fppk=106855484, decision_date_time=datetime.date(2016, 3, 16), days_from_create_to_final_decision=19.041666, end_customer_party_ssot_party_id_int_sav_party_id=41313822, prior_party_ssot_party_id_int_sav_party_id=41313822, final_party_ssot_party_id_int_sav_party_id=174568531, type=u'Reviewed_and_modified', priorpartyname=u'LOH SERVICES GMBH & CO. KG', finalpartyname=u'LOH SERVICES', so_number_int=102003525, dd_end_customer_type_order_level=u'ACCOUNT_LOCATION                                  ', purchase_order_type_code=u'Service Provision Use', purchase_order_number=u'6550170722', order_datetime=u'2016-02-26 05:29:43.0', oracle_book_datetime=u'2016-02-26 12:23:18.0', transactional_currency_code=u'USD            ', customer_service_rep_name=u'null', cust_svc_rep_team_name=u'null', conversion_type_code=u'Corporate', original_system_reference_code=u'66833729', submitted_on_web_by_name=u'deteline-xml', deal_id=u'22431062', price_list_name=u'Global Price List - EMEA', so_source_name=u'EC CCC', order_type_name=u'Standard Cisco - UKH', so_src_crt_datetime=u'2016-02-26 05:29:55.0', sales_channel_code=u'SP-PTT', sales_channel_source_type=u'ERP             ', sales_order_category_type=u'ORDER ', ss_code=u'CG      ', end_ssp_date=u'3500-01-01 00:00:00.0', ru_bk_orig_sales_order_key=-9999, so_created_by_erp_user_name=u'CCWADM', so_modified_by_erp_user_name=u'BISMOHAN', sk_sales_order_header_id_int=606709663, sales_order_program_type_name=u'Standard', sales_acct_id=213297969.0, id=14422, end_customer_line_fix=u'loh services gmbh & co kg', prior_party_name=u'loh services gmbh & co kg', pppk_party_key=5270081, pppk_party=41313822, end_customer_key_so_party=69154289, so_branch_party=41313822, so_gu_party=7420532, so_hq_party=7420532, end_customer_key_sol_party=69154289, sol_branch_party=41313822, sol_gu_party=7420532, sol_hq_party=7420532, order_level_branch_party=41313822, order_level_gu_party=7420532, order_level_hq_party=7420532, line_level_branch_party=41313822, line_level_gu_party=7420532, line_level_hq_party=7420532, ship_to_branch_party=268592676, ship_to_gu_party=7420532, ship_to_hq_party=41313822, bill_to_branch_party=276097776, bill_to_gu_party=97073, bill_to_hq_party=91935, sold_to_branch_party=91935, sold_to_gu_party=97073, sold_to_hq_party=97073)]"
      ]
     },
     "execution_count": 11,
     "metadata": {},
     "output_type": "execute_result"
    }
   ],
   "source": [
    "party_expansion.where(F.col('sales_acct_id') == 213297969.0).take(5)"
   ]
  },
  {
   "cell_type": "code",
   "execution_count": 12,
   "metadata": {
    "collapsed": false
   },
   "outputs": [
    {
     "data": {
      "text/plain": [
       "[Row(party_id=46056212.0, parent_party_id=45471.0, party_name=u'AT & T GLOBAL NETWORK SERVICES', node_type=u'BR', address1=u'C O SENSIENT TECHNOLOGIES', address2=u'100 VULCAN ST', address3=None, address4=None, city=u'TORONTO', county=None, state=u'ON', province=None, postal_code=u'M9W 1L2', postal_code_extn=None, country_code=u'CA', street_name=u'VULCAN', street_number=u'100', street_direction=None, street_type=u'ST', geo_valid_status=u'GEO_VALID', completenes_status=u'COMPLETE', cleansed_status=u'CLEANSED', start_date=u'2007-04-28 08:08:38.0', end_date=u'4712-12-31 00:00:01.0', program_id=None, request_id=None, created_by=307958.0, last_updated_by=307958.0, creation_date=datetime.date(2007, 4, 28), last_update_date=datetime.date(2007, 4, 28), certified_date=u'2014-09-23 12:31:55.0', site_expl_id=423377878.0, conflict_batch_id=75350641.0, sa_member_id=3348946.0, parent_sa_member_id=-1.0, party_level=2.0, link_party_id=45471.0, link_party_type=u'ORGANIZATION', split_pct=100.0, sales_acct_id=215248249.0, operation_type=u'INSERT', account_type=u'NAMED_ACCOUNT', account_sub_type=u'DR', cleaned_name=u'at & t global network services', tokenized_name=[u'at', u'&', u't', u'global', u'network', u'services']),\n",
       " Row(party_id=46058584.0, parent_party_id=45471.0, party_name=u'AT & T GLOBAL NETWORK SERVICES', node_type=u'BR', address1=u'FRANCISCO I MADERO ESQ FELIPE GELES ', address2=None, address3=None, address4=None, city=u'LOS REYES LA PAZ', county=None, state=None, province=None, postal_code=u'54600', postal_code_extn=None, country_code=u'MX', street_name=None, street_number=None, street_direction=None, street_type=None, geo_valid_status=u'GEO_INVALID', completenes_status=u'INCOMPLETE', cleansed_status=u'CLEANSED', start_date=u'2007-04-28 13:26:53.0', end_date=u'4712-12-31 00:00:01.0', program_id=None, request_id=None, created_by=307958.0, last_updated_by=307958.0, creation_date=datetime.date(2007, 4, 28), last_update_date=datetime.date(2007, 4, 28), certified_date=u'2014-09-23 12:37:41.0', site_expl_id=423414919.0, conflict_batch_id=75350701.0, sa_member_id=3348946.0, parent_sa_member_id=-1.0, party_level=2.0, link_party_id=45471.0, link_party_type=u'ORGANIZATION', split_pct=100.0, sales_acct_id=215248249.0, operation_type=u'INSERT', account_type=u'NAMED_ACCOUNT', account_sub_type=u'DR', cleaned_name=u'at & t global network services', tokenized_name=[u'at', u'&', u't', u'global', u'network', u'services']),\n",
       " Row(party_id=46056102.0, parent_party_id=8135582.0, party_name=u'AT & T GLOBAL NETWORK SERVICES', node_type=u'BR', address1=u'100 VALLEYBROOK DR', address2=None, address3=None, address4=None, city=u'NORTH YORK', county=None, state=u'ON', province=None, postal_code=u'M3B 2S9', postal_code_extn=None, country_code=u'CA', street_name=u'VALLEYBROOK', street_number=u'100', street_direction=None, street_type=u'DR', geo_valid_status=u'GEO_VALID', completenes_status=u'COMPLETE', cleansed_status=u'NOTCLEANSED', start_date=u'2007-04-28 07:17:24.0', end_date=u'4712-12-31 00:00:01.0', program_id=None, request_id=None, created_by=307958.0, last_updated_by=332355.0, creation_date=datetime.date(2007, 4, 28), last_update_date=datetime.date(2014, 11, 19), certified_date=u'2014-11-19 05:49:50.0', site_expl_id=423926578.0, conflict_batch_id=75350730.0, sa_member_id=3348946.0, parent_sa_member_id=-1.0, party_level=5.0, link_party_id=45471.0, link_party_type=u'ORGANIZATION', split_pct=100.0, sales_acct_id=215248249.0, operation_type=u'INSERT', account_type=u'NAMED_ACCOUNT', account_sub_type=u'DR', cleaned_name=u'at & t global network services', tokenized_name=[u'at', u'&', u't', u'global', u'network', u'services']),\n",
       " Row(party_id=46059638.0, parent_party_id=8135582.0, party_name=u'AT & T GLOBAL NETWORK SERVICES', node_type=u'BR', address1=u'BOUL PIE-IX 8577', address2=None, address3=None, address4=None, city=u'MONTREAL', county=None, state=u'QC', province=None, postal_code=u'H1Z 3T9', postal_code_extn=None, country_code=u'CA', street_name=u'PIE-IX', street_number=u'8577', street_direction=None, street_type=u'BOUL', geo_valid_status=u'GEO_VALID', completenes_status=u'COMPLETE', cleansed_status=u'NOTCLEANSED', start_date=u'2007-04-28 20:18:53.0', end_date=u'4712-12-31 00:00:01.0', program_id=None, request_id=None, created_by=307958.0, last_updated_by=332355.0, creation_date=datetime.date(2007, 4, 28), last_update_date=datetime.date(2014, 11, 19), certified_date=u'2014-11-19 05:41:12.0', site_expl_id=425113585.0, conflict_batch_id=75350873.0, sa_member_id=3348946.0, parent_sa_member_id=-1.0, party_level=5.0, link_party_id=45471.0, link_party_type=u'ORGANIZATION', split_pct=100.0, sales_acct_id=215248249.0, operation_type=u'INSERT', account_type=u'NAMED_ACCOUNT', account_sub_type=u'DR', cleaned_name=u'at & t global network services', tokenized_name=[u'at', u'&', u't', u'global', u'network', u'services']),\n",
       " Row(party_id=46058724.0, parent_party_id=45471.0, party_name=u'AT & T GLOBAL NETWORK SERVICES', node_type=u'BR', address1=u'DESP 1 BLVD AGUA CALIENTE NO 10440 COL REVOLUCION', address2=None, address3=None, address4=None, city=u'BENITO JUAREZ', county=None, state=u'DF', province=None, postal_code=u'03100', postal_code_extn=None, country_code=u'MX', street_name=u'DESP 1 BLVD AGUA CALIENTE NO 10440 COL REVOLUCION', street_number=None, street_direction=None, street_type=None, geo_valid_status=u'GEO_VALID', completenes_status=u'COMPLETE', cleansed_status=u'CLEANSED', start_date=u'2007-04-28 14:45:19.0', end_date=u'4712-12-31 00:00:01.0', program_id=None, request_id=None, created_by=307958.0, last_updated_by=332355.0, creation_date=datetime.date(2007, 4, 28), last_update_date=datetime.date(2015, 3, 13), certified_date=u'2015-03-13 17:36:58.0', site_expl_id=424537888.0, conflict_batch_id=75350796.0, sa_member_id=3348946.0, parent_sa_member_id=-1.0, party_level=2.0, link_party_id=45471.0, link_party_type=u'ORGANIZATION', split_pct=100.0, sales_acct_id=215248249.0, operation_type=u'INSERT', account_type=u'NAMED_ACCOUNT', account_sub_type=u'DR', cleaned_name=u'at & t global network services', tokenized_name=[u'at', u'&', u't', u'global', u'network', u'services'])]"
      ]
     },
     "execution_count": 12,
     "metadata": {},
     "output_type": "execute_result"
    }
   ],
   "source": [
    "savm_parsed.where(F.col('sales_acct_id') == 215248249.0).take(5)"
   ]
  },
  {
   "cell_type": "code",
   "execution_count": null,
   "metadata": {
    "collapsed": true
   },
   "outputs": [],
   "source": []
  }
 ],
 "metadata": {
  "kernelspec": {
   "display_name": "Python 2",
   "language": "python",
   "name": "python2"
  }
 },
 "nbformat": 4,
 "nbformat_minor": 0
}
