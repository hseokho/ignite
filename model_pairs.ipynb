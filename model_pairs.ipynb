{
 "cells": [
  {
   "cell_type": "code",
   "execution_count": 1,
   "metadata": {
    "collapsed": true
   },
   "outputs": [],
   "source": [
    "from pyspark.sql import functions as F\n",
    "from pyspark.sql.types import *\n",
    "from pyspark.sql import Row\n",
    "\n",
    "from pyspark.ml.feature import StringIndexer, OneHotEncoder, VectorIndexer, VectorAssembler\n",
    "from pyspark.ml import Pipeline\n",
    "from pyspark.mllib.regression import LabeledPoint\n",
    "from pyspark.mllib.linalg.distributed import IndexedRow, IndexedRowMatrix\n",
    "from pyspark.mllib.linalg import Vectors, DenseVector, SparseVector, VectorUDT\n",
    "from pyspark.ml.regression import GBTRegressor\n",
    "from pyspark.ml.tuning import CrossValidator, ParamGridBuilder\n",
    "from pyspark.ml.evaluation import RegressionEvaluator\n",
    "from pyspark.ml.feature import HashingTF, IDF, Tokenizer\n",
    "from pyspark.ml.evaluation import BinaryClassificationEvaluator\n",
    "from pyspark.ml.classification import RandomForestClassifier\n",
    "\n",
    "import pandas as pd\n",
    "import numpy as np\n",
    "from IPython.display import display\n",
    "\n",
    "import operator\n",
    "from collections import defaultdict, Counter\n",
    "from sklearn import metrics"
   ]
  },
  {
   "cell_type": "code",
   "execution_count": 2,
   "metadata": {
    "collapsed": false
   },
   "outputs": [
    {
     "data": {
      "text/plain": [
       "DataFrame[key: string, value: string]"
      ]
     },
     "execution_count": 2,
     "metadata": {},
     "output_type": "execute_result"
    }
   ],
   "source": [
    "sqlContext.sql('set spark.sql.shuffle.partitions=300')"
   ]
  },
  {
   "cell_type": "code",
   "execution_count": 3,
   "metadata": {
    "collapsed": false
   },
   "outputs": [],
   "source": [
    "data_set = sqlContext.sql(\"select * from ignite.training_set_all\")\n",
    "data_set = data_set.withColumn('double_label', F.when(F.col('candidate_sales_acct_id') == F.col('truth_sales_acct_id'), 1.0).otherwise(0.0))\n",
    "data_set = data_set.repartition(300)"
   ]
  },
  {
   "cell_type": "code",
   "execution_count": 4,
   "metadata": {
    "collapsed": false
   },
   "outputs": [
    {
     "data": {
      "text/plain": [
       "760365"
      ]
     },
     "execution_count": 4,
     "metadata": {},
     "output_type": "execute_result"
    }
   ],
   "source": [
    "data_set.groupby('id').agg({'double_label' :  'sum'}).where(F.col('sum(double_label)') > 0).count()"
   ]
  },
  {
   "cell_type": "code",
   "execution_count": 5,
   "metadata": {
    "collapsed": false
   },
   "outputs": [],
   "source": [
    "training_ids, testing_ids = data_set.select(['id']).distinct().randomSplit([0.7, 0.3])\n",
    "training_set = data_set.join(training_ids, on = 'id').cache()\n",
    "testing_set = data_set.join(testing_ids, on = 'id')"
   ]
  },
  {
   "cell_type": "code",
   "execution_count": 6,
   "metadata": {
    "collapsed": false
   },
   "outputs": [],
   "source": [
    "gbt = GBTRegressor(maxIter=100, maxDepth=15, labelCol = 'double_label')#, cacheNodeIds = True)\n",
    "gbt_model = gbt.fit(training_set)\n"
   ]
  },
  {
   "cell_type": "code",
   "execution_count": 9,
   "metadata": {
    "collapsed": true
   },
   "outputs": [],
   "source": [
    "predicted = gbt_model.transform(testing_set).cache()"
   ]
  },
  {
   "cell_type": "code",
   "execution_count": 24,
   "metadata": {
    "collapsed": false
   },
   "outputs": [
    {
     "ename": "AttributeError",
     "evalue": "'GBTRegressionModel' object has no attribute 'save'",
     "output_type": "error",
     "traceback": [
      "\u001b[1;31m---------------------------------------------------------------------------\u001b[0m",
      "\u001b[1;31mAttributeError\u001b[0m                            Traceback (most recent call last)",
      "\u001b[1;32m<ipython-input-24-92a9ed99f174>\u001b[0m in \u001b[0;36m<module>\u001b[1;34m()\u001b[0m\n\u001b[1;32m----> 1\u001b[1;33m \u001b[0mgbt_model\u001b[0m\u001b[1;33m.\u001b[0m\u001b[0msave\u001b[0m\u001b[1;33m(\u001b[0m\u001b[0msc\u001b[0m\u001b[1;33m,\u001b[0m \u001b[1;34m\"gbt-100-15-924.model\"\u001b[0m\u001b[1;33m)\u001b[0m\u001b[1;33m\u001b[0m\u001b[0m\n\u001b[0m",
      "\u001b[1;31mAttributeError\u001b[0m: 'GBTRegressionModel' object has no attribute 'save'"
     ]
    }
   ],
   "source": [
    "gbt_model.save(sc, \"gbt-100-15-924.model\")"
   ]
  },
  {
   "cell_type": "code",
   "execution_count": 21,
   "metadata": {
    "collapsed": true
   },
   "outputs": [],
   "source": [
    "predicted.write.saveAsTable('ignite.some_predictions')"
   ]
  },
  {
   "cell_type": "code",
   "execution_count": 21,
   "metadata": {
    "collapsed": false
   },
   "outputs": [
    {
     "data": {
      "text/plain": [
       "[Row(id=17179881600, candidate_sales_acct_id=203685055.0, truth_sales_acct_id=203785565.0, features=SparseVector(924, {0: 0.0, 1: 0.0, 2: 0.0, 3: 1.0, 4: 1.0, 5: 0.0, 6: 1.0, 7: 1.0, 8: 0.0, 9: 1.0, 10: 1.0, 11: 0.0, 12: 1.0, 13: 1.0, 14: 0.0, 15: 0.0, 16: 0.0, 17: 0.0, 18: 0.0, 19: 0.0, 20: 0.0, 21: 0.0, 22: 0.0, 23: 27.0, 24: 30.0, 25: 0.0, 26: 27.0, 27: 30.0, 28: 0.0, 29: 27.0, 30: 30.0, 31: 0.0, 32: 27.0, 33: 30.0, 34: 0.0, 35: 0.0, 36: 0.0, 37: 0.0, 38: 0.0, 39: 0.0, 40: 0.0, 41: 3.0, 42: 0.4, 43: 0.2, 44: 0.3333, 45: 0.0, 46: 0.3333, 47: 41.0, 48: 2.3138, 49: 4376.0, 50: 41067.5949, 51: 0.5489, 52: 0.0002, 53: 0.5257, 54: 3.7842, 55: 56.0, 56: 2.1868, 57: 4275.0, 58: 38814.2303, 59: 0.539, 60: 0.0001, 61: 0.3706, 62: 3.5146, 63: 72696.0, 64: 0.1107, 65: 1019.0, 66: 1964.9866, 67: 0.0104, 68: 0.0001, 69: 0.2881, 70: 0.9511, 127: 0.0, 128: 1.0, 129: 4.0, 130: 41.0, 131: 2.3138, 132: 4376.0, 133: 41067.5949, 134: 0.5489, 135: 0.0002, 136: 0.5257, 137: 3.7842, 138: 56.0, 139: 2.1868, 140: 4275.0, 141: 38814.2303, 142: 0.539, 143: 0.0001, 144: 0.3706, 145: 3.5146, 210: 0.0, 211: 1.0, 212: 3.0, 213: 41.0, 214: 2.3138, 215: 4376.0, 216: 41067.5949, 217: 0.5489, 218: 0.0002, 219: 0.5257, 220: 3.7842, 221: 56.0, 222: 2.1868, 223: 4275.0, 224: 38814.2303, 225: 0.539, 226: 0.0001, 227: 0.3706, 228: 3.5146, 229: 9642.0, 230: 0.2821, 231: 1268.0, 232: 5006.5913, 233: 0.03, 234: 0.0001, 235: 0.4712, 236: 1.8581, 237: 23813.0, 238: 0.224, 239: 1306.0, 240: 3975.953, 241: 0.0187, 242: 0.0001, 243: 0.4463, 244: 1.6606, 293: 0.0, 294: 0.0, 295: 4.0, 296: 41.0, 297: 2.3138, 298: 4376.0, 299: 41067.5949, 300: 0.5489, 301: 0.0002, 302: 0.5257, 303: 3.7842, 304: 56.0, 305: 2.1868, 306: 4275.0, 307: 38814.2303, 308: 0.539, 309: 0.0001, 310: 0.3706, 311: 3.5146, 312: 23813.0, 313: 0.224, 314: 1306.0, 315: 3975.953, 316: 0.0187, 317: 0.0001, 318: 0.4463, 319: 1.6606, 376: 0.0, 377: 0.0, 378: 3.0, 379: 41.0, 380: 2.3138, 381: 4376.0, 382: 41067.5949, 383: 0.5489, 384: 0.0002, 385: 0.5257, 386: 3.7842, 387: 56.0, 388: 2.1868, 389: 4275.0, 390: 38814.2303, 391: 0.539, 392: 0.0001, 393: 0.3706, 394: 3.5146, 395: 23813.0, 396: 0.224, 397: 1306.0, 398: 3975.953, 399: 0.0187, 400: 0.0001, 401: 0.4463, 402: 1.6606, 459: 0.0, 460: 0.0, 461: 3.0, 462: 41.0, 463: 2.3138, 464: 4376.0, 465: 41067.5949, 466: 0.5489, 467: 0.0002, 468: 0.5257, 469: 3.7842, 470: 56.0, 471: 2.1868, 472: 4275.0, 473: 38814.2303, 474: 0.539, 475: 0.0001, 476: 0.3706, 477: 3.5146, 478: 9642.0, 479: 0.2821, 480: 1268.0, 481: 5006.5913, 482: 0.03, 483: 0.0001, 484: 0.4712, 485: 1.8581, 486: 23813.0, 487: 0.224, 488: 1306.0, 489: 3975.953, 490: 0.0187, 491: 0.0001, 492: 0.4463, 493: 1.6606, 542: 0.0, 543: 0.0, 544: 4.0, 545: 41.0, 546: 2.3138, 547: 4376.0, 548: 41067.5949, 549: 0.5489, 550: 0.0002, 551: 0.5257, 552: 3.7842, 553: 56.0, 554: 2.1868, 555: 4275.0, 556: 38814.2303, 557: 0.539, 558: 0.0001, 559: 0.3706, 560: 3.5146, 561: 9642.0, 562: 0.2821, 563: 1268.0, 564: 5006.5913, 565: 0.03, 566: 0.0001, 567: 0.4712, 568: 1.8581, 569: 23813.0, 570: 0.224, 571: 1306.0, 572: 3975.953, 573: 0.0187, 574: 0.0001, 575: 0.4463, 576: 1.6606, 625: 0.0, 626: 0.0, 627: 4.0, 628: 41.0, 629: 2.3138, 630: 4376.0, 631: 41067.5949, 632: 0.5489, 633: 0.0002, 634: 0.5257, 635: 3.7842, 636: 56.0, 637: 2.1868, 638: 4275.0, 639: 38814.2303, 640: 0.539, 641: 0.0001, 642: 0.3706, 643: 3.5146, 644: 9642.0, 645: 0.2821, 646: 1268.0, 647: 5006.5913, 648: 0.03, 649: 0.0001, 650: 0.4712, 651: 1.8581, 652: 23813.0, 653: 0.224, 654: 1306.0, 655: 3975.953, 656: 0.0187, 657: 0.0001, 658: 0.4463, 659: 1.6606, 708: 0.0, 709: 0.0, 710: 4.0, 711: 41.0, 712: 2.3138, 713: 4376.0, 714: 41067.5949, 715: 0.5489, 716: 0.0002, 717: 0.5257, 718: 3.7842, 719: 56.0, 720: 2.1868, 721: 4275.0, 722: 38814.2303, 723: 0.539, 724: 0.0001, 725: 0.3706, 726: 3.5146, 727: 511.0, 728: 0.1303, 729: 336.0, 730: 2313.0505, 731: 0.1604, 732: 0.0, 733: 0.484, 734: 3.0596, 735: 9642.0, 736: 0.2821, 737: 1268.0, 738: 5006.5913, 739: 0.03, 740: 0.0001, 741: 0.4712, 742: 1.8581, 743: 72696.0, 744: 0.1107, 745: 1019.0, 746: 1964.9866, 747: 0.0104, 748: 0.0001, 749: 0.2881, 750: 0.9511, 791: 0.0, 792: 0.0, 793: 5.0, 877: 3.0, 878: 0.0, 879: 38.0, 880: 4376.0, 881: 4275.0, 882: 1306.0, 883: 1268.0, 884: 1019.0, 885: 492.0, 886: 398.0, 887: 336.0, 888: 307.0, 889: 290.0, 890: 1332.4717, 891: 1346.2327, 892: 1390.5966, 893: 1964.9866, 894: 2190.2869, 895: 2313.0505, 896: 3141.2337, 897: 3975.953, 898: 5006.5913, 899: 38814.2303, 900: 2.3138, 901: 2.1868, 902: 0.2821, 903: 0.224, 904: 0.177, 905: 0.1303, 906: 0.1234, 907: 0.1107, 908: 0.0783, 909: 0.0758, 910: 1.0, 911: 2.0, 912: 24.0, 913: 64.0, 914: 85.0, 915: 150.0, 916: 166.0, 917: 604.0, 918: 619.0, 919: 1584.0, 920: 11.0, 921: 86.0, 922: 9.0, 923: 100.0}), double_label=0.0, prediction=0.320204387196503),\n",
       " Row(id=17179881600, candidate_sales_acct_id=203785565.0, truth_sales_acct_id=203785565.0, features=SparseVector(924, {0: 0.0, 1: 0.0, 2: 0.0, 3: 0.0, 4: 1.0, 5: 0.0, 6: 0.0, 7: 1.0, 8: 0.0, 9: 0.0, 10: 1.0, 11: 0.0, 12: 0.0, 13: 1.0, 14: 0.0, 15: 0.0, 16: 0.0, 17: 0.0, 18: 0.0, 19: 0.0, 20: 0.0, 21: 0.0, 22: 0.0, 23: 0.0, 24: 15.0, 25: 0.0, 26: 0.0, 27: 15.0, 28: 0.0, 29: 0.0, 30: 15.0, 31: 0.0, 32: 0.0, 33: 15.0, 34: 0.0, 35: 0.0, 36: 0.0, 37: 0.0, 38: 0.0, 39: 0.0, 40: 0.0, 41: 1.0, 42: 0.0, 43: 0.0, 44: 0.0, 45: 0.0, 46: 0.0, 47: 41.0, 48: 0.461, 49: 76.0, 50: 713.2398, 51: 0.5489, 52: 0.0002, 53: 0.5257, 54: 3.7842, 55: 56.0, 56: 0.4284, 57: 73.0, 58: 662.7927, 59: 0.539, 60: 0.0001, 61: 0.3706, 62: 3.5146, 63: 9642.0, 64: 0.1149, 65: 45.0, 66: 177.6787, 67: 0.03, 68: 0.0001, 69: 0.4712, 70: 1.8581, 71: 23813.0, 72: 0.0708, 73: 36.0, 74: 109.5975, 75: 0.0187, 76: 0.0001, 77: 0.4463, 78: 1.6606, 127: 0.0, 128: 0.0, 129: 4.0, 130: 41.0, 131: 0.461, 132: 76.0, 133: 713.2398, 134: 0.5489, 135: 0.0002, 136: 0.5257, 137: 3.7842, 138: 56.0, 139: 0.4284, 140: 73.0, 141: 662.7927, 142: 0.539, 143: 0.0001, 144: 0.3706, 145: 3.5146, 146: 9642.0, 147: 0.1149, 148: 45.0, 149: 177.6787, 150: 0.03, 151: 0.0001, 152: 0.4712, 153: 1.8581, 154: 23813.0, 155: 0.0708, 156: 36.0, 157: 109.5975, 158: 0.0187, 159: 0.0001, 160: 0.4463, 161: 1.6606, 210: 0.0, 211: 0.0, 212: 4.0, 213: 41.0, 214: 0.461, 215: 76.0, 216: 713.2398, 217: 0.5489, 218: 0.0002, 219: 0.5257, 220: 3.7842, 221: 56.0, 222: 0.4284, 223: 73.0, 224: 662.7927, 225: 0.539, 226: 0.0001, 227: 0.3706, 228: 3.5146, 229: 23813.0, 230: 0.0708, 231: 36.0, 232: 109.5975, 233: 0.0187, 234: 0.0001, 235: 0.4463, 236: 1.6606, 293: 0.0, 294: 0.0, 295: 3.0, 877: 0.0, 878: 0.0, 879: 30.0, 880: 233.0, 881: 209.0, 882: 176.0, 883: 76.0, 884: 73.0, 885: 62.0, 886: 45.0, 887: 44.0, 888: 44.0, 889: 36.0, 890: 58.5398, 891: 78.138, 892: 84.8473, 893: 89.9366, 894: 103.628, 895: 109.5975, 896: 156.8985, 897: 177.6787, 898: 180.5749, 899: 181.8718, 900: 1.022, 901: 0.9927, 902: 0.6261, 903: 0.461, 904: 0.4284, 905: 0.3418, 906: 0.1176, 907: 0.1167, 908: 0.1149, 909: 0.1014, 910: 1.0, 911: 2.0, 912: 5.0, 913: 24.0, 914: 26.0, 915: 37.0, 916: 66.0, 917: 105.0, 918: 176.0, 919: 192.0, 920: 16.0, 921: 86.0, 922: 3.0, 923: 100.0}), double_label=1.0, prediction=0.10249747506277704),\n",
       " Row(id=17179881600, candidate_sales_acct_id=203688687.0, truth_sales_acct_id=203785565.0, features=SparseVector(924, {0: 0.0, 1: 0.0, 2: 0.0, 3: 0.0, 4: 0.0, 5: 0.0, 6: 0.0, 7: 0.0, 8: 0.0, 9: 0.0, 10: 0.0, 11: 0.0, 12: 0.0, 13: 0.0, 14: 0.0, 15: 0.0, 16: 0.0, 17: 0.0, 18: 0.0, 19: 0.0, 20: 0.0, 21: 0.0, 22: 0.0, 23: 0.0, 24: 0.0, 25: 0.0, 26: 0.0, 27: 0.0, 28: 0.0, 29: 0.0, 30: 0.0, 31: 0.0, 32: 0.0, 33: 0.0, 34: 0.0, 35: 0.0, 36: 0.0, 37: 0.0, 38: 0.0, 39: 0.0, 40: 0.0, 41: 0.0, 42: 0.4286, 43: 0.0, 44: 0.0, 45: 0.0, 46: 0.0, 47: 41.0, 48: 0.3968, 49: 806.0, 50: 7564.0954, 51: 0.5489, 52: 0.0002, 53: 0.5257, 54: 3.7842, 55: 56.0, 56: 0.3696, 57: 776.0, 58: 7045.5772, 59: 0.539, 60: 0.0001, 61: 0.3706, 62: 3.5146, 63: 9642.0, 64: 0.1553, 65: 750.0, 66: 2961.3119, 67: 0.03, 68: 0.0001, 69: 0.4712, 70: 1.8581, 127: 0.0, 128: 0.0, 129: 3.0, 130: 41.0, 131: 0.3968, 132: 806.0, 133: 7564.0954, 134: 0.5489, 135: 0.0002, 136: 0.5257, 137: 3.7842, 138: 56.0, 139: 0.3696, 140: 776.0, 141: 7045.5772, 142: 0.539, 143: 0.0001, 144: 0.3706, 145: 3.5146, 146: 23813.0, 147: 0.2118, 148: 1326.0, 149: 4036.8405, 150: 0.0187, 151: 0.0001, 152: 0.4463, 153: 1.6606, 210: 0.0, 211: 0.0, 212: 3.0, 877: 0.0, 878: 0.0, 879: 42.0, 880: 1326.0, 881: 1268.0, 882: 1106.0, 883: 1098.0, 884: 1090.0, 885: 986.0, 886: 923.0, 887: 883.0, 888: 806.0, 889: 776.0, 890: 871.5637, 891: 1173.5686, 892: 1428.9059, 893: 1627.3864, 894: 1657.4263, 895: 2176.2221, 896: 2669.6873, 897: 2961.3119, 898: 3522.5427, 899: 3880.4011, 900: 0.534, 901: 0.4994, 902: 0.4521, 903: 0.3968, 904: 0.3696, 905: 0.3489, 906: 0.3347, 907: 0.3093, 908: 0.2118, 909: 0.2083, 910: 1.0, 911: 2.0, 912: 6.0, 913: 24.0, 914: 35.0, 915: 47.0, 916: 65.0, 917: 95.0, 918: 372.0, 919: 554.0, 920: 20.0, 921: 86.0, 922: 2.0, 923: 100.0}), double_label=0.0, prediction=0.013897907398013826)]"
      ]
     },
     "execution_count": 21,
     "metadata": {},
     "output_type": "execute_result"
    }
   ],
   "source": [
    "predicted.where(F.col('id') == 17179881600).where(F.col('prediction') > 0.01).take(10)"
   ]
  },
  {
   "cell_type": "code",
   "execution_count": 10,
   "metadata": {
    "collapsed": false
   },
   "outputs": [
    {
     "data": {
      "text/plain": [
       "0.993247715536339"
      ]
     },
     "execution_count": 10,
     "metadata": {},
     "output_type": "execute_result"
    }
   ],
   "source": [
    "def make_vector(prediction):\n",
    "    return Vectors.dense([1 - prediction, prediction])\n",
    "\n",
    "predicted_format = predicted.withColumn('raw_prediction', F.udf(make_vector, VectorUDT())(F.col('prediction')))\n",
    "BinaryClassificationEvaluator(rawPredictionCol = 'raw_prediction', labelCol = 'double_label').evaluate(predicted_format)"
   ]
  },
  {
   "cell_type": "code",
   "execution_count": null,
   "metadata": {
    "collapsed": false
   },
   "outputs": [],
   "source": [
    "predicted_format.take(1)"
   ]
  },
  {
   "cell_type": "code",
   "execution_count": 11,
   "metadata": {
    "collapsed": false
   },
   "outputs": [],
   "source": [
    "def k_highest(row_id, candidate_pairs, k = 5):\n",
    "    candidate_pairs.sort(key = lambda x : x[0], reverse = True)\n",
    "    num_candidates = len(candidate_pairs)\n",
    "    \n",
    "    correct_index = k\n",
    "    for i, pair in enumerate(candidate_pairs):\n",
    "        if pair[1] == 1:\n",
    "            correct_index = i\n",
    "    \n",
    "    if correct_index >= k:\n",
    "        correct_index = k\n",
    "    \n",
    "    for i in range(k):\n",
    "        candidate_pairs.append([0, 0])\n",
    "        \n",
    "    elems = []\n",
    "    for tup in candidate_pairs[:k]:\n",
    "        elems.append(tup[0])\n",
    "    \n",
    "    features = Vectors.dense(elems + [num_candidates])\n",
    "    label = correct_index\n",
    "    \n",
    "    return Row(id = row_id, features = features, label = float(label))\n",
    "\n",
    "max_ent_final = predicted.map(lambda x : (x.id, [(x.prediction, x.double_label)])).reduceByKey(lambda x, y : x + y).map(lambda x : k_highest(x[0], x[1])).toDF().cache()"
   ]
  },
  {
   "cell_type": "code",
   "execution_count": 12,
   "metadata": {
    "collapsed": true
   },
   "outputs": [],
   "source": [
    "label_indexer = StringIndexer(inputCol = 'label', outputCol = 'indexed_label').fit(max_ent_final)\n",
    "max_ent_indexed = label_indexer.transform(max_ent_final)"
   ]
  },
  {
   "cell_type": "code",
   "execution_count": 25,
   "metadata": {
    "collapsed": false
   },
   "outputs": [
    {
     "data": {
      "text/plain": [
       "[Row(features=DenseVector([0.0745, 0.0728, 0.072, 0.0716, 0.0707, 55.0]), id=180388634700, label=2.0, indexed_label=3.0),\n",
       " Row(features=DenseVector([0.5331, 0.2128, 0.1804, 0.1681, 0.1057, 18.0]), id=309237647700, label=3.0, indexed_label=4.0),\n",
       " Row(features=DenseVector([0.084, 0.084, 0.0814, 0.0767, 0.0677, 73.0]), id=214748381400, label=2.0, indexed_label=3.0),\n",
       " Row(features=DenseVector([0.0575, 0.0435, 0.019, 0.019, 0.0114, 324.0]), id=326417521800, label=1.0, indexed_label=2.0),\n",
       " Row(features=DenseVector([0.3202, 0.3049, 0.1806, 0.1759, 0.1436, 20.0]), id=352187322600, label=3.0, indexed_label=4.0),\n",
       " Row(features=DenseVector([0.1095, 0.1032, 0.0787, 0.0779, 0.0706, 68.0]), id=146028901200, label=4.0, indexed_label=5.0),\n",
       " Row(features=DenseVector([0.5728, 0.3371, 0.0116, 0.0036, 0.003, 16.0]), id=171798708900, label=1.0, indexed_label=2.0),\n",
       " Row(features=DenseVector([0.4635, 0.107, 0.101, 0.082, 0.0551, 61.0]), id=68719486500, label=1.0, indexed_label=2.0),\n",
       " Row(features=DenseVector([0.2685, 0.0766, 0.0762, 0.0753, 0.0735, 24.0]), id=335007453600, label=2.0, indexed_label=3.0),\n",
       " Row(features=DenseVector([0.3259, 0.3171, 0.0012, 0.0, 0.0, 3.0]), id=274877921700, label=1.0, indexed_label=2.0),\n",
       " Row(features=DenseVector([0.0747, 0.0615, 0.0442, 0.0439, 0.0423, 310.0]), id=292057778700, label=2.0, indexed_label=3.0),\n",
       " Row(features=DenseVector([0.5705, 0.5349, 0.0, 0.0, 0.0, 2.0]), id=17179874400, label=1.0, indexed_label=2.0),\n",
       " Row(features=DenseVector([0.0761, 0.0718, 0.0692, 0.0688, 0.0667, 239.0]), id=120259092900, label=3.0, indexed_label=4.0),\n",
       " Row(features=DenseVector([0.0818, 0.0681, 0.0681, 0.068, 0.068, 33.0]), id=292057787400, label=3.0, indexed_label=4.0),\n",
       " Row(features=DenseVector([0.1519, 0.0114, 0.005, 0.0017, 0.0011, 5.0]), id=188978574000, label=3.0, indexed_label=4.0),\n",
       " Row(features=DenseVector([0.274, 0.2486, 0.2111, 0.1946, 0.0309, 90.0]), id=335007459000, label=2.0, indexed_label=3.0),\n",
       " Row(features=DenseVector([0.0729, 0.0685, 0.0682, 0.0682, 0.0674, 68.0]), id=34359751800, label=2.0, indexed_label=3.0),\n",
       " Row(features=DenseVector([0.2081, 0.2048, 0.1982, 0.1948, 0.1687, 309.0]), id=154618837800, label=2.0, indexed_label=3.0),\n",
       " Row(features=DenseVector([0.2198, 0.2105, 0.2053, 0.2002, 0.1627, 83.0]), id=197568509400, label=4.0, indexed_label=5.0),\n",
       " Row(features=DenseVector([0.7309, 0.3761, 0.0543, 0.0206, 0.0051, 128.0]), id=257698052700, label=1.0, indexed_label=2.0),\n",
       " Row(features=DenseVector([0.5163, 0.3473, 0.0158, 0.0068, 0.0067, 40.0]), id=292057779000, label=1.0, indexed_label=2.0),\n",
       " Row(features=DenseVector([0.219, 0.2135, 0.2097, 0.1949, 0.1912, 27.0]), id=68719478400, label=3.0, indexed_label=4.0),\n",
       " Row(features=DenseVector([0.087, 0.0676, 0.0621, 0.0461, 0.0452, 32.0]), id=68719491900, label=3.0, indexed_label=4.0),\n",
       " Row(features=DenseVector([0.2153, 0.1192, 0.1184, 0.1073, 0.0959, 65.0]), id=292057781100, label=4.0, indexed_label=5.0),\n",
       " Row(features=DenseVector([0.5754, 0.3735, 0.0041, 0.0016, 0.0015, 38.0]), id=214748378400, label=1.0, indexed_label=2.0),\n",
       " Row(features=DenseVector([0.0636, 0.0502, 0.0481, 0.0461, 0.0396, 305.0]), id=240518175600, label=1.0, indexed_label=2.0),\n",
       " Row(features=DenseVector([0.2046, 0.1441, 0.077, 0.0746, 0.0731, 55.0]), id=386547071400, label=2.0, indexed_label=3.0),\n",
       " Row(features=DenseVector([0.0696, 0.0693, 0.067, 0.0668, 0.0661, 68.0]), id=34359743400, label=4.0, indexed_label=5.0),\n",
       " Row(features=DenseVector([0.0077, 0.0018, 0.0012, 0.0, 0.0, 3.0]), id=386547062400, label=1.0, indexed_label=2.0),\n",
       " Row(features=DenseVector([0.0893, 0.0829, 0.0804, 0.0795, 0.076, 68.0]), id=146028895200, label=4.0, indexed_label=5.0),\n",
       " Row(features=DenseVector([0.3904, 0.248, 0.2124, 0.2079, 0.165, 299.0]), id=352187331600, label=3.0, indexed_label=4.0),\n",
       " Row(features=DenseVector([1.2193, 0.889, 0.0098, 0.0028, 0.0026, 64.0]), id=94489288800, label=1.0, indexed_label=2.0),\n",
       " Row(features=DenseVector([0.2387, 0.2305, 0.2084, 0.1882, 0.1762, 20.0]), id=154618838100, label=2.0, indexed_label=3.0),\n",
       " Row(features=DenseVector([0.434, 0.2159, 0.1985, 0.1184, 0.0759, 24.0]), id=403726929000, label=2.0, indexed_label=3.0),\n",
       " Row(features=DenseVector([0.3455, 0.3179, 0.1977, 0.0085, 0.0054, 24.0]), id=128849028300, label=1.0, indexed_label=2.0),\n",
       " Row(features=DenseVector([0.0902, 0.0822, 0.0789, 0.0781, 0.0759, 29.0]), id=146028893400, label=1.0, indexed_label=2.0),\n",
       " Row(features=DenseVector([0.025, 0.0238, 0.0225, 0.0216, 0.0204, 96.0]), id=412316871900, label=3.0, indexed_label=4.0),\n",
       " Row(features=DenseVector([0.8223, 0.3145, 0.0962, 0.0784, 0.0621, 14.0]), id=377957133600, label=1.0, indexed_label=2.0),\n",
       " Row(features=DenseVector([0.1812, 0.0335, 0.0333, 0.0308, 0.0269, 47.0]), id=25769813400, label=4.0, indexed_label=5.0),\n",
       " Row(features=DenseVector([0.1048, 0.0903, 0.0877, 0.0877, 0.0877, 52.0]), id=15600, label=3.0, indexed_label=4.0),\n",
       " Row(features=DenseVector([0.0699, 0.0691, 0.0637, 0.0623, 0.0592, 239.0]), id=120259087800, label=2.0, indexed_label=3.0),\n",
       " Row(features=DenseVector([0.3137, 0.2897, 0.2025, 0.1975, 0.0183, 185.0]), id=395136996900, label=1.0, indexed_label=2.0),\n",
       " Row(features=DenseVector([0.2138, 0.1459, 0.1444, 0.1428, 0.1426, 18.0]), id=128849022900, label=4.0, indexed_label=5.0),\n",
       " Row(features=DenseVector([0.4944, 0.1925, 0.1742, 0.1364, 0.1351, 55.0]), id=231928238700, label=2.0, indexed_label=3.0),\n",
       " Row(features=DenseVector([0.6463, 0.2493, 0.1228, 0.0086, 0.0012, 19.0]), id=120259094100, label=1.0, indexed_label=2.0),\n",
       " Row(features=DenseVector([0.0068, 0.0067, 0.0066, 0.0066, 0.0066, 29.0]), id=188978577000, label=3.0, indexed_label=4.0),\n",
       " Row(features=DenseVector([0.0855, 0.0841, 0.0776, 0.0749, 0.0703, 25.0]), id=335007455100, label=2.0, indexed_label=3.0),\n",
       " Row(features=DenseVector([0.0872, 0.0762, 0.0363, 0.0293, 0.0261, 18.0]), id=206158449600, label=4.0, indexed_label=5.0),\n",
       " Row(features=DenseVector([0.8972, 0.2633, 0.1175, 0.0046, 0.0042, 30.0]), id=197568505500, label=1.0, indexed_label=2.0),\n",
       " Row(features=DenseVector([0.6103, 0.3031, 0.0077, 0.0042, 0.004, 123.0]), id=257698047600, label=1.0, indexed_label=2.0)]"
      ]
     },
     "execution_count": 25,
     "metadata": {},
     "output_type": "execute_result"
    }
   ],
   "source": [
    "max_ent_indexed.where(F.col('label') > 0).where(F.col('label') < 5).take(50)"
   ]
  },
  {
   "cell_type": "code",
   "execution_count": 13,
   "metadata": {
    "collapsed": false
   },
   "outputs": [],
   "source": [
    "final_train, final_test = max_ent_indexed.randomSplit([0.7, 0.3])"
   ]
  },
  {
   "cell_type": "code",
   "execution_count": null,
   "metadata": {
    "collapsed": false
   },
   "outputs": [],
   "source": [
    "final_train.take(1)"
   ]
  },
  {
   "cell_type": "code",
   "execution_count": 14,
   "metadata": {
    "collapsed": false
   },
   "outputs": [],
   "source": [
    "output = RandomForestClassifier(featuresCol = 'features', labelCol = 'indexed_label').fit(final_train).transform(final_test).cache()"
   ]
  },
  {
   "cell_type": "code",
   "execution_count": null,
   "metadata": {
    "collapsed": false
   },
   "outputs": [],
   "source": [
    "output.take(5)"
   ]
  },
  {
   "cell_type": "code",
   "execution_count": 15,
   "metadata": {
    "collapsed": false
   },
   "outputs": [
    {
     "data": {
      "text/plain": [
       "74894"
      ]
     },
     "execution_count": 15,
     "metadata": {},
     "output_type": "execute_result"
    }
   ],
   "source": [
    "output.count()"
   ]
  },
  {
   "cell_type": "code",
   "execution_count": 16,
   "metadata": {
    "collapsed": false
   },
   "outputs": [
    {
     "data": {
      "text/plain": [
       "15161"
      ]
     },
     "execution_count": 16,
     "metadata": {},
     "output_type": "execute_result"
    }
   ],
   "source": [
    "manual_label = output.where(F.col('prediction') == 1).cache()\n",
    "manual_label.count()"
   ]
  },
  {
   "cell_type": "code",
   "execution_count": 17,
   "metadata": {
    "collapsed": false
   },
   "outputs": [
    {
     "data": {
      "text/plain": [
       "55952"
      ]
     },
     "execution_count": 17,
     "metadata": {},
     "output_type": "execute_result"
    }
   ],
   "source": [
    "attempt = output.where(F.col('prediction') != 1)\n",
    "attempt.where(F.col('prediction') == F.col('indexed_label')).count()"
   ]
  },
  {
   "cell_type": "code",
   "execution_count": 18,
   "metadata": {
    "collapsed": false
   },
   "outputs": [
    {
     "data": {
      "text/plain": [
       "3781"
      ]
     },
     "execution_count": 18,
     "metadata": {},
     "output_type": "execute_result"
    }
   ],
   "source": [
    "attempt.where(F.col('prediction') != F.col('indexed_label')).count()"
   ]
  },
  {
   "cell_type": "code",
   "execution_count": 21,
   "metadata": {
    "collapsed": false
   },
   "outputs": [
    {
     "data": {
      "text/plain": [
       "0.20958164099676949"
      ]
     },
     "execution_count": 21,
     "metadata": {},
     "output_type": "execute_result"
    }
   ],
   "source": [
    "15635. / 74601"
   ]
  },
  {
   "cell_type": "code",
   "execution_count": 22,
   "metadata": {
    "collapsed": false
   },
   "outputs": [
    {
     "data": {
      "text/plain": [
       "0.7385155694963874"
      ]
     },
     "execution_count": 22,
     "metadata": {},
     "output_type": "execute_result"
    }
   ],
   "source": [
    "55094.0 / 74601"
   ]
  },
  {
   "cell_type": "code",
   "execution_count": 24,
   "metadata": {
    "collapsed": false
   },
   "outputs": [
    {
     "data": {
      "text/plain": [
       "0.05265344968566105"
      ]
     },
     "execution_count": 24,
     "metadata": {},
     "output_type": "execute_result"
    }
   ],
   "source": [
    "3928.0 / 74601"
   ]
  },
  {
   "cell_type": "code",
   "execution_count": 20,
   "metadata": {
    "collapsed": false
   },
   "outputs": [
    {
     "data": {
      "text/plain": [
       "0.7470825433279035"
      ]
     },
     "execution_count": 20,
     "metadata": {},
     "output_type": "execute_result"
    }
   ],
   "source": [
    "55952.0/74894"
   ]
  },
  {
   "cell_type": "code",
   "execution_count": null,
   "metadata": {
    "collapsed": true
   },
   "outputs": [],
   "source": []
  }
 ],
 "metadata": {
  "kernelspec": {
   "display_name": "Python 2",
   "language": "python",
   "name": "python2"
  },
  "language_info": {
   "codemirror_mode": {
    "name": "ipython",
    "version": 2
   },
   "file_extension": ".py",
   "mimetype": "text/x-python",
   "name": "python",
   "nbconvert_exporter": "python",
   "pygments_lexer": "ipython2",
   "version": "2.7.11"
  }
 },
 "nbformat": 4,
 "nbformat_minor": 0
}
