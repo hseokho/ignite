{
 "cells": [
  {
   "cell_type": "code",
   "execution_count": 1,
   "metadata": {
    "collapsed": true
   },
   "outputs": [],
   "source": [
    "from pyspark.sql import functions as F\n",
    "from pyspark.sql.types import *\n",
    "from pyspark.ml.feature import HashingTF, IDF, Tokenizer\n",
    "\n",
    "import pandas as pd\n",
    "import numpy as np\n",
    "import nltk"
   ]
  },
  {
   "cell_type": "code",
   "execution_count": 2,
   "metadata": {
    "collapsed": false
   },
   "outputs": [
    {
     "data": {
      "text/plain": [
       "DataFrame[key: string, value: string]"
      ]
     },
     "execution_count": 2,
     "metadata": {},
     "output_type": "execute_result"
    }
   ],
   "source": [
    "sqlContext.sql(\"set spark.sql.shuffle.partitions=50\")"
   ]
  },
  {
   "cell_type": "code",
   "execution_count": 32,
   "metadata": {
    "collapsed": false
   },
   "outputs": [],
   "source": [
    "cr = sqlContext.sql('select * from ignite.cr_parsed').repartition(50).cache()\n",
    "savm = sqlContext.sql('select * from ignite.savm_parsed').repartition(100).cache()"
   ]
  },
  {
   "cell_type": "code",
   "execution_count": 4,
   "metadata": {
    "collapsed": false
   },
   "outputs": [
    {
     "data": {
      "text/plain": [
       "[Row(party_id=192656253.0, parent_party_id=146753444.0, party_name=u'OSK SECURITIES THAILAND PCL', node_type=u'BR', address1=u'10TH FLOOR', address2=None, address3=None, address4=None, city=u'BANGKOK', county=None, state=u'BANGKOK', province=None, postal_code=u'10500', postal_code_extn=None, country_code=u'TH', street_name=None, street_number=None, street_direction=None, street_type=None, geo_valid_status=u'GEO_UNCERTIFIED_COUNTRY', completenes_status=u'COMPLETE', cleansed_status=u'CLEANSED', start_date=u'2012-07-19 01:30:58.0', end_date=u'4712-12-31 00:00:01.0', program_id=None, request_id=None, created_by=307958.0, last_updated_by=307958.0, creation_date=u'2012-07-19 01:30:58.0', last_update_date=u'2012-07-19 01:36:57.0', certified_date=u'2012-07-19 01:30:58.0', cleaned_name=u'OSK SECURITIES THAILAND PCL', tokenized_name=[u'osk', u'securities', u'thailand', u'pcl'])]"
      ]
     },
     "execution_count": 4,
     "metadata": {},
     "output_type": "execute_result"
    }
   ],
   "source": [
    "cr.take(1)"
   ]
  },
  {
   "cell_type": "code",
   "execution_count": 22,
   "metadata": {
    "collapsed": true
   },
   "outputs": [],
   "source": [
    "def apply_function(df, fields, function):\n",
    "    column_objects = []\n",
    "    for column in df.columns:\n",
    "        if column in fields:\n",
    "            column_objects.append(function(column))\n",
    "        else:\n",
    "            column_objects.append(column)\n",
    "    return df.select(column_objects)\n",
    "\n",
    "def clean_name(name):\n",
    "    if name == None:\n",
    "        return \"\"\n",
    "    name = name.replace(\"-\", \" \").replace(\",\", \" \").replace(\"-\", \" \").replace(\"/\", \" \").replace(\"(\", \" \").replace(\")\", \" \")\n",
    "    name = name.replace('. ', \" \").lower()\n",
    "    return ' '.join(name.split())\n",
    "\n",
    "def tokenize(column):\n",
    "    return F.udf(clean_name, StringType())(F.col(column)).alias(column)\n",
    "\n",
    "def remove_extra_spaces(column):\n",
    "    return F.udf(lambda x : ' '.join(x.split()), StringType())(F.col(column)).alias(column)\n",
    "\n",
    "def full_concatenation(space_delims):\n",
    "    full_list = []\n",
    "    for elems in space_delims.split(\" \"):\n",
    "        full_list += elems\n",
    "    return full_list"
   ]
  },
  {
   "cell_type": "code",
   "execution_count": 15,
   "metadata": {
    "collapsed": false
   },
   "outputs": [],
   "source": [
    "string_fields = ['party_name', 'address1', 'address2', 'address3', 'address4', 'city', 'county', \n",
    "                              'state', 'postal_code', 'street_name', 'street_number', 'street_direction', 'street_type']\n"
   ]
  },
  {
   "cell_type": "code",
   "execution_count": 23,
   "metadata": {
    "collapsed": false
   },
   "outputs": [],
   "source": [
    "builder = apply_function(cr, string_fields, tokenize)\n",
    "builder = builder.withColumn(\"concat\", F.concat(\n",
    "            F.col('party_name'), F.lit(\" \"), F.col('address1'), F.lit(\" \"), F.col('address2'), F.lit(\" \"), \n",
    "            F.col('address3'), F.lit(\" \"), F.col('address4'), F.lit(\" \"), \n",
    "            F.col('city'), F.lit(\" \"), F.col('county'), F.lit(\" \"), F.col('state'), F.lit(\" \"), F.col('postal_code'), \n",
    "            F.col('street_name'),F.lit(\" \"), \n",
    "            F.col('street_number'), F.lit(\" \"), F.col('street_direction'), F.lit(\" \"), F.col('street_type')\n",
    "        ))\n",
    "builder = apply_function(builder, 'concat', remove_extra_spaces)"
   ]
  },
  {
   "cell_type": "code",
   "execution_count": 24,
   "metadata": {
    "collapsed": false
   },
   "outputs": [],
   "source": [
    "cleaned = builder\n",
    "words = Tokenizer(inputCol = 'concat', outputCol = 'all_tokenized').transform(cleaned)\n",
    "hashed = HashingTF(inputCol = 'all_tokenized', outputCol = 'vector').transform(words)"
   ]
  },
  {
   "cell_type": "code",
   "execution_count": 26,
   "metadata": {
    "collapsed": false
   },
   "outputs": [
    {
     "data": {
      "text/plain": [
       "[Row(party_id=192656253.0, parent_party_id=146753444.0, party_name=u'osk securities thailand pcl', node_type=u'BR', address1=u'10th floor', address2=u'', address3=u'', address4=u'', city=u'bangkok', county=u'', state=u'bangkok', province=None, postal_code=u'10500', postal_code_extn=None, country_code=u'TH', street_name=u'', street_number=u'', street_direction=u'', street_type=u'', geo_valid_status=u'GEO_UNCERTIFIED_COUNTRY', completenes_status=u'COMPLETE', cleansed_status=u'CLEANSED', start_date=u'2012-07-19 01:30:58.0', end_date=u'4712-12-31 00:00:01.0', program_id=None, request_id=None, created_by=307958.0, last_updated_by=307958.0, creation_date=u'2012-07-19 01:30:58.0', last_update_date=u'2012-07-19 01:36:57.0', certified_date=u'2012-07-19 01:30:58.0', cleaned_name=u'OSK SECURITIES THAILAND PCL', tokenized_name=[u'osk', u'securities', u'thailand', u'pcl'], concat=u'osk securities thailand pcl 10th floor bangkok bangkok 10500', all_tokenized=[u'osk', u'securities', u'thailand', u'pcl', u'10th', u'floor', u'bangkok', u'bangkok', u'10500'], vector=SparseVector(262144, {9228: 1.0, 45447: 1.0, 73334: 1.0, 96222: 1.0, 110343: 1.0, 110809: 1.0, 198867: 1.0, 216655: 2.0}))]"
      ]
     },
     "execution_count": 26,
     "metadata": {},
     "output_type": "execute_result"
    }
   ],
   "source": [
    "hashed.take(1)"
   ]
  },
  {
   "cell_type": "code",
   "execution_count": 28,
   "metadata": {
    "collapsed": false
   },
   "outputs": [],
   "source": [
    "hashed.select(['party_id', 'vector']).write.saveAsTable(\"ignite.cr_hashed\", mode = 'overwrite')"
   ]
  },
  {
   "cell_type": "code",
   "execution_count": 33,
   "metadata": {
    "collapsed": false
   },
   "outputs": [],
   "source": [
    "builder = apply_function(savm, string_fields, tokenize)\n",
    "builder = builder.withColumn(\"concat\", F.concat(\n",
    "            F.col('party_name'), F.lit(\" \"), F.col('address1'), F.lit(\" \"), F.col('address2'), F.lit(\" \"), \n",
    "            F.col('address3'), F.lit(\" \"), F.col('address4'), F.lit(\" \"), \n",
    "            F.col('city'), F.lit(\" \"), F.col('county'), F.lit(\" \"), F.col('state'), F.lit(\" \"), F.col('postal_code'), \n",
    "            F.col('street_name'),F.lit(\" \"), \n",
    "            F.col('street_number'), F.lit(\" \"), F.col('street_direction'), F.lit(\" \"), F.col('street_type')\n",
    "        ))\n",
    "builder = apply_function(builder, 'concat', remove_extra_spaces)"
   ]
  },
  {
   "cell_type": "code",
   "execution_count": 34,
   "metadata": {
    "collapsed": true
   },
   "outputs": [],
   "source": [
    "cleaned = builder\n",
    "words = Tokenizer(inputCol = 'concat', outputCol = 'all_tokenized').transform(cleaned)\n",
    "hashed = HashingTF(inputCol = 'all_tokenized', outputCol = 'vector').transform(words)"
   ]
  },
  {
   "cell_type": "code",
   "execution_count": 35,
   "metadata": {
    "collapsed": true
   },
   "outputs": [],
   "source": [
    "hashed.select(['party_id', 'vector']).write.saveAsTable(\"ignite.savm_hashed\", mode = 'overwrite')"
   ]
  },
  {
   "cell_type": "code",
   "execution_count": null,
   "metadata": {
    "collapsed": true
   },
   "outputs": [],
   "source": []
  }
 ],
 "metadata": {
  "kernelspec": {
   "display_name": "Python 2",
   "language": "python",
   "name": "python2"
  },
  "language_info": {
   "codemirror_mode": {
    "name": "ipython",
    "version": 2
   },
   "file_extension": ".py",
   "mimetype": "text/x-python",
   "name": "python",
   "nbconvert_exporter": "python",
   "pygments_lexer": "ipython2",
   "version": "2.7.11"
  }
 },
 "nbformat": 4,
 "nbformat_minor": 0
}
