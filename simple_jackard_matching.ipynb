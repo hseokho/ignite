{
 "cells": [
  {
   "cell_type": "code",
   "execution_count": 1,
   "metadata": {
    "collapsed": true
   },
   "outputs": [],
   "source": [
    "from pyspark.sql import functions as F\n",
    "from pyspark.sql import types\n",
    "from pyspark.sql import Row"
   ]
  },
  {
   "cell_type": "code",
   "execution_count": 2,
   "metadata": {
    "collapsed": true
   },
   "outputs": [],
   "source": [
    "contest_data_sample = sqlContext.sql(\"select * from edso_ignite.contest_data\").sample(False,0.01).repartition(100).cache()\n",
    "contest_savm = sqlContext.sql(\"select * from edso_ignite.contest_savm\").repartition(200).cache()\n",
    "contest_cr = sqlContext.sql(\"select * from edso_ignite.contest_cr\").repartition(200).cache()"
   ]
  },
  {
   "cell_type": "code",
   "execution_count": 213,
   "metadata": {
    "collapsed": false
   },
   "outputs": [],
   "source": [
    "from math import *\n",
    "import string\n",
    "import re\n",
    "\n",
    "def jaccard_similarity(x,y):\n",
    "    intersection_cardinality = len(set.intersection(*[set(x), set(y)]))\n",
    "    union_cardinality = len(set.union(*[set(x), set(y)]))\n",
    "    if float(union_cardinality) != 0:\n",
    "        return intersection_cardinality/float(union_cardinality)\n",
    "    else:\n",
    "        return 0\n",
    "    \n",
    "stop_words = ['GROUP','LLC','INC','LTD','LIMITED','MEDIA','COUNTY','LLP','&','AND','AGENCY','LP','CORPORATION','COMPANY','DEPT','DEPTT','USA','CORP','COMMUNICATIONS','AMERICA','NORTH AMERICA', 'SYSTEMS', \n",
    "'FORUM', 'LOGISTICS', 'DEPT', 'SERVICES', 'OF', 'THE', 'NA', 'BRANDS', 'STATE','CORP','ST', 'SELECT', 'INTERNATIONAL','COMMERCIAL','HOLDINGS','HOLDING','ENTERPRISE']\n",
    "org_identifying_words = ['ATT','VERIZON','ARMY','NAV']\n",
    "\n",
    "def treat_names(name):\n",
    "    name = ''.join(ch for ch in name if ch not in string.punctuation)#.split('OFFICE OF')[0].split('ATT')[0].split('VERIZON')[0].split('PO')[0].split('CO')[0] # fastest way to remove punctutation\n",
    "    resultwords  = [word for word in name.split() if word not in stop_words]\n",
    "    return ' '.join(resultwords)\n",
    "\n",
    "def name_matching(a,b):\n",
    "    if ((\"NAV\" in a and 'NAV' in b) or (\"ARMY\" in a and 'ARMY' in b)):\n",
    "        return 1.0\n",
    "    else:\n",
    "        return jaccard_similarity(treat_names(a),treat_names(b))\n",
    "#################\n",
    "def treat_namesXXX(name):\n",
    "    return name in org_identifying_words\n",
    "\n",
    "    "
   ]
  },
  {
   "cell_type": "code",
   "execution_count": 214,
   "metadata": {
    "collapsed": false
   },
   "outputs": [
    {
     "data": {
      "text/plain": [
       "1.0"
      ]
     },
     "execution_count": 214,
     "metadata": {},
     "output_type": "execute_result"
    }
   ],
   "source": [
    "#name_matching('ATT-TELEPRESENCE','ATT INC')\n",
    "treat_namesXXX('ATT')\n",
    "#treat_names('ATT INC')\n",
    "name_matching('US ARMY AVIATION & MISSILE COMMAND','US ARMY SMDC')"
   ]
  },
  {
   "cell_type": "code",
   "execution_count": 215,
   "metadata": {
    "collapsed": false
   },
   "outputs": [],
   "source": [
    "smpl_join = F.broadcast(contest_data_sample).join(contest_cr, F.col('end_customer_party_ssot_party_id_int_sav_party_id')==F.col('party_id'))#.select('party_id','decision_date_time','party_name','postal_code','address1','street_name','sales_acct_id').cache()"
   ]
  },
  {
   "cell_type": "code",
   "execution_count": 216,
   "metadata": {
    "collapsed": false
   },
   "outputs": [],
   "source": [
    "smpl_join_r = smpl_join.select(*(F.col(x).alias(x + '_orig') for x in smpl_join.columns))\n",
    "join_a = F.broadcast(smpl_join_r).join(contest_savm,F.col('postal_code_orig')==F.col('postal_code')).where(F.col('decision_date_time_orig')<=F.col('start_date'))"
   ]
  },
  {
   "cell_type": "code",
   "execution_count": 217,
   "metadata": {
    "collapsed": true
   },
   "outputs": [],
   "source": [
    "join_a = join_a.na.fill('a',[\"party_name_orig\",\"address1_orig\",\"street_name_orig\"])\n",
    "join_a = join_a.na.fill('z',[\"party_name\",\"address1\",\"street_name\"])"
   ]
  },
  {
   "cell_type": "code",
   "execution_count": 218,
   "metadata": {
    "collapsed": true
   },
   "outputs": [],
   "source": [
    "jaccard_udf = F.udf(jaccard_similarity,types.DoubleType())\n",
    "name_matching_udf = F.udf(name_matching,types.DoubleType())\n",
    "join_b = join_a.withColumn(\"name_similairity\", name_matching_udf(join_a[\"party_name_orig\"],join_a[\"party_name\"]))\n",
    "join_b = join_b.withColumn(\"address_similairity\", jaccard_udf(join_a[\"address1_orig\"],join_a[\"address1\"]))\n",
    "join_b = join_b.withColumn(\"st_name_similairity\", jaccard_udf(join_a[\"street_name_orig\"],join_a[\"street_name\"]))"
   ]
  },
  {
   "cell_type": "code",
   "execution_count": 219,
   "metadata": {
    "collapsed": true
   },
   "outputs": [],
   "source": [
    "def find_prediction(savm_id,data_id):\n",
    "    return 1 if savm_id==data_id else 0\n",
    "\n",
    "find_prediction_udf = F.udf(find_prediction,types.IntegerType())\n",
    "join_b = join_b.withColumn(\"predicted\", find_prediction_udf(join_b[\"sales_acct_id_orig\"],join_b[\"sales_acct_id\"]))#.select(['endcustomerlinefixed_data','predicted'])"
   ]
  },
  {
   "cell_type": "code",
   "execution_count": 220,
   "metadata": {
    "collapsed": true
   },
   "outputs": [],
   "source": [
    "join_b = join_b.na.fill('a',[\"name_similairity\",\"address_similairity\",\"st_name_similairity\"])"
   ]
  },
  {
   "cell_type": "code",
   "execution_count": 221,
   "metadata": {
    "collapsed": false
   },
   "outputs": [],
   "source": [
    "builder = join_b.withColumn(\"name_similarity\", F.when(F.col(\"name_similairity\").isNull(), 0).otherwise(F.col(\"name_similairity\")))\n",
    "builder = builder.withColumn(\"address_similarity\", F.when(F.col(\"address_similairity\").isNull(), 0).otherwise(F.col(\"address_similairity\")))\n",
    "builder = builder.withColumn(\"st_name_similarity\", F.when(F.col(\"st_name_similairity\").isNull(), 0).otherwise(F.col(\"st_name_similairity\")))"
   ]
  },
  {
   "cell_type": "code",
   "execution_count": 222,
   "metadata": {
    "collapsed": false
   },
   "outputs": [],
   "source": [
    "def aggregated_prediction(name,adr,st):\n",
    "        #return (4.3*name + 1.2*adr+ 0.8*st)\n",
    "        return name\n",
    "\n",
    "aggregated_prediction_udf = F.udf(aggregated_prediction,types.DoubleType())\n",
    "join_c = builder.withColumn(\"aggregated_prediction\", aggregated_prediction_udf(builder['name_similarity'],builder['address_similarity'],builder['st_name_similarity']))#.select(['endcustomerlinefixed_data','predicted'])"
   ]
  },
  {
   "cell_type": "code",
   "execution_count": 223,
   "metadata": {
    "collapsed": true
   },
   "outputs": [],
   "source": [
    "#In join_c table, if find duplicate party_id_orig, select the value where aggregated_prediction value is the highest\n",
    "join_c.registerTempTable(\"x\")\n",
    "predictions_table = sqlContext.sql(\"SELECT party_id_orig,aggregated_prediction,predicted  FROM( SELECT *, ROW_NUMBER()OVER(PARTITION BY party_id_orig ORDER BY aggregated_prediction DESC) rn FROM x) y WHERE rn = 1\").cache()"
   ]
  },
  {
   "cell_type": "code",
   "execution_count": 224,
   "metadata": {
    "collapsed": false
   },
   "outputs": [
    {
     "data": {
      "text/plain": [
       "4237"
      ]
     },
     "execution_count": 224,
     "metadata": {},
     "output_type": "execute_result"
    }
   ],
   "source": [
    "predictions_table.count()"
   ]
  },
  {
   "cell_type": "code",
   "execution_count": 225,
   "metadata": {
    "collapsed": false,
    "scrolled": true
   },
   "outputs": [
    {
     "data": {
      "text/plain": [
       "1366"
      ]
     },
     "execution_count": 225,
     "metadata": {},
     "output_type": "execute_result"
    }
   ],
   "source": [
    "predictions_table.where(F.col('predicted')==1).count()"
   ]
  },
  {
   "cell_type": "markdown",
   "metadata": {},
   "source": [
    "Out of 569 unique party_ids, 212 were correctly predicted. That's accuracy of 37.2%\n",
    "\n",
    "\n",
    "Out of 4324 unique party_ids, 1426 were correctly predicted. That's accuracy of 32.9%\n",
    "\n",
    "Out of 4237 unique party_ids, 1328 were correctly predicted. With only name matching"
   ]
  },
  {
   "cell_type": "markdown",
   "metadata": {},
   "source": [
    "# Exploratory Analysis"
   ]
  },
  {
   "cell_type": "code",
   "execution_count": 226,
   "metadata": {
    "collapsed": false
   },
   "outputs": [
    {
     "name": "stdout",
     "output_type": "stream",
     "text": [
      "+---------+--------------------------+--------------------------+--------------------------+\n",
      "|predicted|min(aggregated_prediction)|avg(aggregated_prediction)|max(aggregated_prediction)|\n",
      "+---------+--------------------------+--------------------------+--------------------------+\n",
      "|        0|                       0.0|        0.3969497573801709|                       1.0|\n",
      "|        1|                       0.0|         0.748574793554742|                       1.0|\n",
      "+---------+--------------------------+--------------------------+--------------------------+\n",
      "\n"
     ]
    }
   ],
   "source": [
    "join_c.groupby(\"predicted\").agg(F.min(\"aggregated_prediction\"),F.avg(\"aggregated_prediction\"),F.max(\"aggregated_prediction\")).show()"
   ]
  },
  {
   "cell_type": "code",
   "execution_count": 227,
   "metadata": {
    "collapsed": false
   },
   "outputs": [
    {
     "name": "stdout",
     "output_type": "stream",
     "text": [
      "+---------------------------------------------------------+-----------------------------------------------+------------------+---------------------+\n",
      "|party_name_orig                                          |party_name                                     |name_similarity   |aggregated_prediction|\n",
      "+---------------------------------------------------------+-----------------------------------------------+------------------+---------------------+\n",
      "|YOUNG MEN'S CHRISTIAN ASSOCIATION OF HONOLULU            |THE RESORT GROUP LLC                           |0.3125            |0.3125               |\n",
      "|TELCOBUYCOM LLC                                          |AT&T SERVICES INC                              |0.1               |0.1                  |\n",
      "|DISNEY WORLDWIDE SERVICES INC                            |WALT DISNEY IMAGINEERING                       |0.6666666666666666|0.6666666666666666   |\n",
      "|RENTA DE EQUIPO SA DE CV                                 |TELEFONOS DE MEXICO SAB DE CV                  |0.55              |0.55                 |\n",
      "|TELSTRA CORPORATION                                      |TELSTRA IVISION                                |0.5454545454545454|0.5454545454545454   |\n",
      "|RENTA DE EQUIPO SA DE CV                                 |TELMEX                                         |0.1111111111111111|0.1111111111111111   |\n",
      "|AUTODESK SPS   COMPANY EQUINI                            |XACTLY CORPORATION C O EQUINIX DC3             |0.5555555555555556|0.5555555555555556   |\n",
      "|DIRECTV INC                                              |AT&T INTERNAL-CA-EL SEG-2240EIMPERIAL-LA4 12150|0.25              |0.25                 |\n",
      "|NYC DEPT OF INFORMATION TECHNOLOGY AND TELECOMMUNICATIONS|NEW YORK CITY DOITT                            |0.45              |0.45                 |\n",
      "|SPRINT NEXTEL                                            |SPRINT CORPORATION                             |0.6               |0.6                  |\n",
      "+---------------------------------------------------------+-----------------------------------------------+------------------+---------------------+\n",
      "only showing top 10 rows\n",
      "\n"
     ]
    }
   ],
   "source": [
    "expl = join_c.where((F.col('predicted')==1) & (F.col('aggregated_prediction')<0.7)).sample(False,0.1)\n",
    "expl.select('party_name_orig','party_name','name_similarity','aggregated_prediction').show(10,False)#.groupby(\"predicted\").agg(F.avg(\"aggregated_prediction\")).show()"
   ]
  },
  {
   "cell_type": "code",
   "execution_count": 153,
   "metadata": {
    "collapsed": false
   },
   "outputs": [
    {
     "name": "stdout",
     "output_type": "stream",
     "text": [
      "+--------------------------+-------------------------------+-------------------+---------------------+---------+\n",
      "|address1_orig             |address1                       |address_similairity|aggregated_prediction|predicted|\n",
      "+--------------------------+-------------------------------+-------------------+---------------------+---------+\n",
      "|HEALTH CARE FACILITY      |JUNCTION STATE RD 371 & ROUTE 9|0.3181818181818182 |3.0373737373737373   |1        |\n",
      "|13101 COLUMBIA PIKE FDC II|13101 COLUMBIA PIKE            |0.8823529411764706 |3.397216386554622    |1        |\n",
      "|6820 S HARL AVE           |1900 WEST LOOP S STE 1600      |0.3333333333333333 |3.553333333333333    |1        |\n",
      "|6820 S HARL AVE           |1900 WEST LOOP S STE 1600      |0.3333333333333333 |3.553333333333333    |1        |\n",
      "|20 VIADUCT HARBOUR AVENUE |SHORTLAND STREET               |0.5                |3.2                  |1        |\n",
      "|200 N MILWAUKEE AVE       |1140 T ST                      |0.11764705882352941|3.366176470588235    |1        |\n",
      "|6820 S HARL AVE           |4911 COMMERCE CT               |0.15789473684210525|3.4428070175438594   |1        |\n",
      "|1 SCHWARZKOPF DR          |PO BOX113                      |0.23529411764705882|1.1554621848739495   |1        |\n",
      "|6820 S HARL AVE           |1100 E WILLOW ST               |0.29411764705882354|3.6205602240896355   |1        |\n",
      "|N69255 COMMANDING OFFICER |4297 PACIFIC HWY               |0.3181818181818182 |3.144976076555024    |1        |\n",
      "+--------------------------+-------------------------------+-------------------+---------------------+---------+\n",
      "only showing top 10 rows\n",
      "\n"
     ]
    }
   ],
   "source": [
    "expl.select('address1_orig','address1','address_similairity','aggregated_prediction','predicted').show(10,False)#.groupby(\"predicted\").agg(F.avg(\"aggregated_prediction\")).show()"
   ]
  },
  {
   "cell_type": "code",
   "execution_count": 154,
   "metadata": {
    "collapsed": false,
    "scrolled": true
   },
   "outputs": [
    {
     "name": "stdout",
     "output_type": "stream",
     "text": [
      "+----------------------+-------------------------------+-------------------+---------------------+---------+\n",
      "|street_name_orig      |street_name                    |st_name_similairity|aggregated_prediction|predicted|\n",
      "+----------------------+-------------------------------+-------------------+---------------------+---------+\n",
      "|HIGHWAY 191 HOSPITAL  |JUNCTION STATE RD 371 & ROUTE 9|0.3333333333333333 |3.0373737373737373   |1        |\n",
      "|COLUMBIA PIKE FDC II  |COLUMBIA                       |0.5714285714285714 |3.397216386554622    |1        |\n",
      "|HARL                  |WEST                           |0.0                |3.553333333333333    |1        |\n",
      "|HARL                  |WEST                           |0.0                |3.553333333333333    |1        |\n",
      "|VIADUCT HARBOUR AVENUE|SHORTLAND STREET               |0.5625             |3.2                  |1        |\n",
      "|MILWAUKEE             |T                              |0.0                |3.366176470588235    |1        |\n",
      "|HARL                  |COMMERCE                       |0.125              |3.4428070175438594   |1        |\n",
      "|SCHWARZKOPF           |PO BOX                         |0.14285714285714285|1.1554621848739495   |1        |\n",
      "|HARL                  |WILLOW                         |0.14285714285714285|3.6205602240896355   |1        |\n",
      "|PACIFIC OTC           |PACIFIC                        |0.625              |3.144976076555024    |1        |\n",
      "+----------------------+-------------------------------+-------------------+---------------------+---------+\n",
      "only showing top 10 rows\n",
      "\n"
     ]
    }
   ],
   "source": [
    "expl.select('street_name_orig','street_name','st_name_similairity','aggregated_prediction','predicted').show(10,False)#.groupby(\"predicted\").agg(F.avg(\"aggregated_prediction\")).show()"
   ]
  },
  {
   "cell_type": "code",
   "execution_count": 238,
   "metadata": {
    "collapsed": true
   },
   "outputs": [],
   "source": [
    "def name_matching(a,b):\n",
    "    if ((\"NAV\" in a and 'NAV' in b) or (\"ARMY\" in a and 'ARMY' in b)):\n",
    "        return 1\n",
    "    else:\n",
    "        return jaccard_similarity(treat_names(a),treat_names(b))"
   ]
  },
  {
   "cell_type": "code",
   "execution_count": 239,
   "metadata": {
    "collapsed": true
   },
   "outputs": [],
   "source": [
    "stop_words = ['GROUP','LLC','INC','LTD','MEDIA','COUNTY','LLP','&','AND','AGENCY','LP','CORPORATION','COMPANY','DEPT','DEPTT','USA','CORP','COMMUNICATIONS','AMERICA','NORTH AMERICA', 'SYSTEMS', \n",
    "'FORUM', 'LOGISTICS', 'DEPT', 'SERVICES', 'OF', 'THE', 'NA', 'BRANDS', 'STATE','CORP','ST', 'SELECT', 'INTERNATIONAL']\n",
    "import string\n",
    "def treat_names(name):\n",
    "    name = ''.join(ch for ch in name if ch not in string.punctuation).split('OFFICE OF')[0].split('PO')[0].split('CO')[0] # fastest way to remove punctutation\n",
    "    resultwords  = [word for word in name.split() if word not in stop_words]\n",
    "    return ' '.join(resultwords)\n",
    "    #return name"
   ]
  },
  {
   "cell_type": "code",
   "execution_count": 51,
   "metadata": {
    "collapsed": false
   },
   "outputs": [
    {
     "data": {
      "text/plain": [
       "0.5555555555555556"
      ]
     },
     "execution_count": 51,
     "metadata": {},
     "output_type": "execute_result"
    }
   ],
   "source": [
    "name_matching('HONDA OF AMERICA MFG INC','HONDA OF AMERICA')"
   ]
  },
  {
   "cell_type": "code",
   "execution_count": 61,
   "metadata": {
    "collapsed": false
   },
   "outputs": [
    {
     "data": {
      "text/plain": [
       "0.625"
      ]
     },
     "execution_count": 61,
     "metadata": {},
     "output_type": "execute_result"
    }
   ],
   "source": [
    "jaccard_similarity('USDOTMARAD','DOTUS')"
   ]
  },
  {
   "cell_type": "code",
   "execution_count": 52,
   "metadata": {
    "collapsed": false
   },
   "outputs": [
    {
     "data": {
      "text/plain": [
       "'HONDA MFG'"
      ]
     },
     "execution_count": 52,
     "metadata": {},
     "output_type": "execute_result"
    }
   ],
   "source": [
    "treat_names('HONDA OF AMERICA MFG INC')"
   ]
  },
  {
   "cell_type": "code",
   "execution_count": 229,
   "metadata": {
    "collapsed": false
   },
   "outputs": [
    {
     "data": {
      "text/plain": [
       "3"
      ]
     },
     "execution_count": 229,
     "metadata": {},
     "output_type": "execute_result"
    }
   ],
   "source": []
  },
  {
   "cell_type": "code",
   "execution_count": null,
   "metadata": {
    "collapsed": true
   },
   "outputs": [],
   "source": []
  }
 ],
 "metadata": {
  "kernelspec": {
   "display_name": "Python 2",
   "language": "python",
   "name": "python2"
  },
  "language_info": {
   "codemirror_mode": {
    "name": "ipython",
    "version": 2
   },
   "file_extension": ".py",
   "mimetype": "text/x-python",
   "name": "python",
   "nbconvert_exporter": "python",
   "pygments_lexer": "ipython2",
   "version": "2.7.11"
  }
 },
 "nbformat": 4,
 "nbformat_minor": 0
}
