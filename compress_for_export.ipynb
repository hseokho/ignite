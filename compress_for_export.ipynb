{
 "cells": [
  {
   "cell_type": "code",
   "execution_count": 1,
   "metadata": {
    "collapsed": true
   },
   "outputs": [],
   "source": [
    "from pyspark.sql import functions as F\n",
    "from pyspark.sql.types import *\n",
    "import json"
   ]
  },
  {
   "cell_type": "code",
   "execution_count": 39,
   "metadata": {
    "collapsed": true
   },
   "outputs": [
    {
     "data": {
      "text/plain": [
       "['party_id',\n",
       " 'parent_party_id',\n",
       " 'party_name',\n",
       " 'node_type',\n",
       " 'address1',\n",
       " 'address2',\n",
       " 'address3',\n",
       " 'address4',\n",
       " 'city',\n",
       " 'county',\n",
       " 'state',\n",
       " 'province',\n",
       " 'postal_code',\n",
       " 'postal_code_extn',\n",
       " 'country_code',\n",
       " 'street_name',\n",
       " 'street_number',\n",
       " 'street_direction',\n",
       " 'street_type',\n",
       " 'geo_valid_status',\n",
       " 'completenes_status',\n",
       " 'cleansed_status',\n",
       " 'start_date',\n",
       " 'end_date',\n",
       " 'program_id',\n",
       " 'request_id',\n",
       " 'created_by',\n",
       " 'last_updated_by',\n",
       " 'creation_date',\n",
       " 'last_update_date',\n",
       " 'certified_date',\n",
       " 'site_expl_id',\n",
       " 'conflict_batch_id',\n",
       " 'sa_member_id',\n",
       " 'parent_sa_member_id',\n",
       " 'party_level',\n",
       " 'link_party_id',\n",
       " 'link_party_type',\n",
       " 'split_pct',\n",
       " 'sales_acct_id',\n",
       " 'operation_type',\n",
       " 'account_type',\n",
       " 'account_sub_type']"
      ]
     },
     "execution_count": 39,
     "metadata": {},
     "output_type": "execute_result"
    }
   ],
   "source": [
    "sqlContext.sql(\"select * from edso_ignite.contest_savm\").columns"
   ]
  },
  {
   "cell_type": "code",
   "execution_count": 2,
   "metadata": {
    "collapsed": false
   },
   "outputs": [
    {
     "data": {
      "text/plain": [
       "28702408"
      ]
     },
     "execution_count": 2,
     "metadata": {},
     "output_type": "execute_result"
    }
   ],
   "source": [
    "sol_end_customer = sqlContext.sql(\"select * from edso_ignite.contest_cr\")\n",
    "sol_end_customer.count()"
   ]
  },
  {
   "cell_type": "code",
   "execution_count": 20,
   "metadata": {
    "collapsed": false
   },
   "outputs": [
    {
     "data": {
      "text/plain": [
       "[Row(sales_order_line_key=209802816, end_customer_key=57348041, end_customer_type_code=u'ACCOUNT_LOCATION', ss_code=u'CG      ', end_customer_assgn_level=u'LINE      ', dd_parent_sales_order_line_key=209802816)]"
      ]
     },
     "execution_count": 20,
     "metadata": {},
     "output_type": "execute_result"
    }
   ],
   "source": [
    "sol_end_customer.where(F.col('sales_order_line_key') ==  209802816).take(1)"
   ]
  },
  {
   "cell_type": "code",
   "execution_count": 3,
   "metadata": {
    "collapsed": false
   },
   "outputs": [],
   "source": [
    "sol_end_customer = sol_end_customer.select([c for c in sol_end_customer.columns if c not in ['province']])"
   ]
  },
  {
   "cell_type": "code",
   "execution_count": 4,
   "metadata": {
    "collapsed": false
   },
   "outputs": [],
   "source": [
    "def apply_function(df, fields, function):\n",
    "    column_objects = []\n",
    "    for column in df.columns:\n",
    "        if column in fields:\n",
    "            column_objects.append(function(column).alias(column))\n",
    "        else:\n",
    "            column_objects.append(column)\n",
    "    return df.select(column_objects)\n",
    "\n",
    "sol_end_customer = apply_function(sol_end_customer, [\n",
    "        'created_by', 'last_updated_by', 'party_id'\n",
    "    ], lambda column : F.col(column).astype(IntegerType()).alias(column))\n",
    "\n",
    "#sol_end_customer = apply_function(sol_end_customer, [\n",
    "#        'party_id', 'parent_party_id', 'parent_sa_member_id', 'conflict_batch_id', 'sales_acct_id', 'link_party_id',\n",
    "#        'site_expl_id', 'party_level', 'last_updated_by', 'created_by', 'sa_member_id', 'request_id'], lambda column : F.col(column).astype(IntegerType()).alias(column))"
   ]
  },
  {
   "cell_type": "code",
   "execution_count": 41,
   "metadata": {
    "collapsed": false
   },
   "outputs": [
    {
     "data": {
      "text/plain": [
       "[Row(party_id=10041, parent_party_id=38808, party_name=u'BARRY WRIGHT CORPORATION', node_type=u'HQ', address1=u'82 SOUTH ST', address2=None, address3=None, address4=None, city=u'HOPKINTON', county=u'MIDDLESEX', state=u'MA', postal_code=u'01748', postal_code_extn=u'2028', country_code=u'US', street_name=u'SOUTH', street_number=u'82', street_direction=None, street_type=u'ST', geo_valid_status=u'GEO_VALID', completenes_status=u'COMPLETE', cleansed_status=u'CLEANSED', start_date=u'2002-11-11 22:05:58.0', end_date=u'4712-12-31 00:00:00.0', program_id=None, request_id=None, created_by=1116, last_updated_by=332355, creation_date=u'2002-11-11 22:05:58.0', last_update_date=u'2014-11-16 13:02:39.0', certified_date=u'2014-05-04 19:28:26.0', site_expl_id=457208916, conflict_batch_id=84975006, sa_member_id=3605967, parent_sa_member_id=187857, party_level=2, link_party_id=203674083, link_party_type=u'TEMPLATE', split_pct=100.0, sales_acct_id=255522265, operation_type=u'INSERT', account_type=u'NAMED_ACCOUNT', account_sub_type=u'DR')]"
      ]
     },
     "execution_count": 41,
     "metadata": {},
     "output_type": "execute_result"
    }
   ],
   "source": [
    "sol_end_customer.take(1)"
   ]
  },
  {
   "cell_type": "code",
   "execution_count": 31,
   "metadata": {
    "collapsed": false,
    "scrolled": true
   },
   "outputs": [
    {
     "name": "stdout",
     "output_type": "stream",
     "text": [
      "('party_id', 0)\n",
      "('parent_party_id', 13871850)\n",
      "('party_name', 0)\n",
      "('node_type', 0)\n",
      "('address1', 0)\n",
      "('address2', 20728123)\n",
      "('address3', 27905064)\n",
      "('address4', 28506267)\n",
      "('city', 219017)\n",
      "('county', 17910747)\n",
      "('state', 4005036)\n",
      "('postal_code', 2076830)\n",
      "('postal_code_extn', 25822172)\n",
      "('country_code', 0)\n",
      "('street_name', 2440325)\n",
      "('street_number', 8165325)\n",
      "('street_direction', 25410052)\n",
      "('street_type', 14932007)\n",
      "('geo_valid_status', 124906)\n",
      "('completenes_status', 123984)\n",
      "('cleansed_status', 292847)\n",
      "('start_date', 0)\n",
      "('end_date', 13978577)\n",
      "('program_id', 24140516)\n",
      "('request_id', 24140516)\n",
      "('created_by', 0)\n",
      "('last_updated_by', 0)\n",
      "('creation_date', 0)\n",
      "('last_update_date', 0)\n",
      "('certified_date', 0)\n"
     ]
    }
   ],
   "source": [
    "for col in sol_end_customer.columns:\n",
    "    print(col, sol_end_customer.where(F.col(col).isNull()).count())"
   ]
  },
  {
   "cell_type": "code",
   "execution_count": 5,
   "metadata": {
    "collapsed": false
   },
   "outputs": [
    {
     "data": {
      "text/plain": [
       "[['sales_acct_id',\n",
       "  'street_name',\n",
       "  'creation_date',\n",
       "  'completenes_status',\n",
       "  'node_type',\n",
       "  'postal_code',\n",
       "  'account_sub_type',\n",
       "  'country_code',\n",
       "  'link_party_type',\n",
       "  'party_level',\n",
       "  'parent_sa_member_id',\n",
       "  'city',\n",
       "  'conflict_batch_id',\n",
       "  'street_number',\n",
       "  'created_by',\n",
       "  'sa_member_id',\n",
       "  'certified_date',\n",
       "  'state',\n",
       "  'cleansed_status',\n",
       "  'start_date',\n",
       "  'parent_party_id',\n",
       "  'account_type',\n",
       "  'geo_valid_status',\n",
       "  'end_date',\n",
       "  'split_pct',\n",
       "  'address1',\n",
       "  'address2',\n",
       "  'address3',\n",
       "  'address4',\n",
       "  'site_expl_id',\n",
       "  'program_id',\n",
       "  'street_type',\n",
       "  'party_name',\n",
       "  'last_update_date',\n",
       "  'county',\n",
       "  'postal_code_extn',\n",
       "  'link_party_id',\n",
       "  'last_updated_by',\n",
       "  'request_id',\n",
       "  'operation_type',\n",
       "  'party_id',\n",
       "  'street_direction']]"
      ]
     },
     "execution_count": 5,
     "metadata": {},
     "output_type": "execute_result"
    }
   ],
   "source": [
    "sol_end_customer.map(lambda x : x.asDict().keys()).take(1)"
   ]
  },
  {
   "cell_type": "code",
   "execution_count": 15,
   "metadata": {
    "collapsed": false
   },
   "outputs": [
    {
     "data": {
      "text/plain": [
       "[[212562695,\n",
       "  u'LINE      ',\n",
       "  12457104,\n",
       "  u'ACCOUNT_LOCATION',\n",
       "  212562695,\n",
       "  u'CG      ']]"
      ]
     },
     "execution_count": 15,
     "metadata": {},
     "output_type": "execute_result"
    }
   ],
   "source": [
    "sol_end_customer.map(lambda x : x.asDict().values()).take(1)"
   ]
  },
  {
   "cell_type": "code",
   "execution_count": 6,
   "metadata": {
    "collapsed": false
   },
   "outputs": [],
   "source": [
    "cr_grouped = sol_end_customer.repartition(200).map(lambda x : (x.party_id % 1000000, x)).groupByKey().mapValues(lambda x : [row.asDict().values() for row in x]).cache()"
   ]
  },
  {
   "cell_type": "code",
   "execution_count": 23,
   "metadata": {
    "collapsed": true
   },
   "outputs": [],
   "source": [
    "import json"
   ]
  },
  {
   "cell_type": "code",
   "execution_count": 7,
   "metadata": {
    "collapsed": false
   },
   "outputs": [],
   "source": [
    "grouped_cache = cr_grouped.mapValues(lambda x : json.dumps(x)).toDF(['key', 'list']).cache()\n",
    "num_blocks = 0\n",
    "for index in range(num_blocks):\n",
    "    grouped_cache.where((F.col('key') / num_blocks) == index).write.saveAsTable(\"ignite.contest_cr_compressed_\"+str(index), mode = 'overwrite')"
   ]
  },
  {
   "cell_type": "code",
   "execution_count": 45,
   "metadata": {
    "collapsed": false
   },
   "outputs": [
    {
     "data": {
      "text/plain": [
       "999755"
      ]
     },
     "execution_count": 45,
     "metadata": {},
     "output_type": "execute_result"
    }
   ],
   "source": [
    "sqlContext.sql('select * from ignite.contest_savm_compressed').count()\n",
    "#.write.saveAsTable(\"ignite.contest_sol_end_customer_compressed\", mode = 'overwrite')"
   ]
  },
  {
   "cell_type": "code",
   "execution_count": null,
   "metadata": {
    "collapsed": true
   },
   "outputs": [],
   "source": []
  }
 ],
 "metadata": {
  "kernelspec": {
   "display_name": "Python 2",
   "language": "python",
   "name": "python2"
  }
 },
 "nbformat": 4,
 "nbformat_minor": 0
}
