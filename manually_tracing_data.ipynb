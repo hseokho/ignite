{
 "cells": [
  {
   "cell_type": "code",
   "execution_count": 62,
   "metadata": {
    "collapsed": true
   },
   "outputs": [],
   "source": [
    "from pyspark.sql import functions as F\n",
    "from pyspark.sql import types\n",
    "from pyspark.sql import Row"
   ]
  },
  {
   "cell_type": "code",
   "execution_count": 63,
   "metadata": {
    "collapsed": true
   },
   "outputs": [],
   "source": [
    "contest_data_sample = sqlContext.sql(\"select * from ignite.contest_data_sample\").repartition(50).cache()\n",
    "\n",
    "contest_cr = sqlContext.sql(\"select * from edso_ignite.contest_cr\").repartition(200).cache()\n",
    "\n",
    "contest_savm = sqlContext.sql(\"select * from edso_ignite.contest_savm\").repartition(200).cache()"
   ]
  },
  {
   "cell_type": "code",
   "execution_count": 64,
   "metadata": {
    "collapsed": false
   },
   "outputs": [
    {
     "data": {
      "text/plain": [
       "Row(end_customer_party_ssot_party_id_int_sav_party_id=26724, sales_acct_id=203715515.0, decision_date_time=u'2014-09-10 13:25:57.0')"
      ]
     },
     "execution_count": 64,
     "metadata": {},
     "output_type": "execute_result"
    }
   ],
   "source": [
    " #Randomly picking an entry\n",
    "test = contest_data_sample.sample(False,0.002).select('end_customer_party_ssot_party_id_int_sav_party_id','sales_acct_id','decision_date_time').take(1)\n",
    "test[0]"
   ]
  },
  {
   "cell_type": "code",
   "execution_count": 65,
   "metadata": {
    "collapsed": false
   },
   "outputs": [
    {
     "data": {
      "text/plain": [
       "Row(party_id=26724.0, parent_party_id=34983.0, party_name=u'SPARTANBURG REGIONAL HEALTH SERVICES DISTRICT INC', node_type=u'HQ', address1=u'101 E WOOD ST', address2=None, address3=None, address4=None, city=u'SPARTANBURG', county=u'SPARTANBURG', state=u'SC', province=None, postal_code=u'29303', postal_code_extn=u'3040', country_code=u'US', street_name=u'WOOD', street_number=u'101', street_direction=u'E', street_type=u'ST', geo_valid_status=u'GEO_VALID', completenes_status=u'COMPLETE', cleansed_status=u'CLEANSED', start_date=u'2002-11-11 22:59:10.0', end_date=u'4712-12-31 00:00:00.0', program_id=None, request_id=None, created_by=1116.0, last_updated_by=332355.0, creation_date=u'2002-11-11 22:59:10.0', last_update_date=u'2014-11-16 13:12:48.0', certified_date=u'2014-03-07 14:44:48.0')"
      ]
     },
     "execution_count": 65,
     "metadata": {},
     "output_type": "execute_result"
    }
   ],
   "source": [
    "test_case = contest_cr.where(F.col('party_id')== test[0][0]).take(1)\n",
    "test_case[0]"
   ]
  },
  {
   "cell_type": "code",
   "execution_count": 66,
   "metadata": {
    "collapsed": false
   },
   "outputs": [
    {
     "name": "stdout",
     "output_type": "stream",
     "text": [
      "36 / 166\n",
      "Distinct sales_acct_ids:  65\n"
     ]
    }
   ],
   "source": [
    "all_acct_ids = contest_savm.where\\\n",
    "((F.col('postal_code').rlike(\"^\"+test_case[0][12]+\"$\"))  & (F.col('start_date')>=test[0][2]))#.take(50)\n",
    "actual_acct_id = all_acct_ids.where(F.col('sales_acct_id')==test[0][1])\n",
    "print actual_acct_id.count(),'/',all_acct_ids.select('sales_acct_id').count()\n",
    "print 'Distinct sales_acct_ids: ',all_acct_ids.select('sales_acct_id').distinct().count()"
   ]
  },
  {
   "cell_type": "code",
   "execution_count": 67,
   "metadata": {
    "collapsed": false
   },
   "outputs": [
    {
     "name": "stdout",
     "output_type": "stream",
     "text": [
      "See correlation with actual:  SPARTANBURG REGIONAL HEALTH SERVICES DISTRICT INC\n",
      "+--------------------------------------+\n",
      "|party_name                            |\n",
      "+--------------------------------------+\n",
      "|SPARTANBURG REGIONAL HEALTHCARE SYSTEM|\n",
      "|SPARTANBURG REGIONAL MEDICAL CENTER   |\n",
      "|ADAMS SPARTANBURG                     |\n",
      "|SRHS                                  |\n",
      "|SPARTANBURG REGIONAL HEALTH SERVICE   |\n",
      "|SPARTANBURG COUNTY GOVERNMENT         |\n",
      "+--------------------------------------+\n",
      "\n"
     ]
    }
   ],
   "source": [
    "print 'See correlation with actual: ',test_case[0][2]\n",
    "actual_acct_id.select('party_name').distinct().show(10,False)"
   ]
  },
  {
   "cell_type": "code",
   "execution_count": 68,
   "metadata": {
    "collapsed": false
   },
   "outputs": [
    {
     "name": "stdout",
     "output_type": "stream",
     "text": [
      "See correlation with actual:  101 E WOOD ST\n",
      "+---------------+\n",
      "|address1       |\n",
      "+---------------+\n",
      "|700 N PINE ST  |\n",
      "|475 SIMUEL RD  |\n",
      "|311 N CHURCH ST|\n",
      "|1001 NORTH PINE|\n",
      "|101 E WOOD ST  |\n",
      "+---------------+\n",
      "\n"
     ]
    }
   ],
   "source": [
    "print 'See correlation with actual: ',test_case[0][4]\n",
    "actual_acct_id.select('address1').distinct().show(10,False)"
   ]
  },
  {
   "cell_type": "code",
   "execution_count": 69,
   "metadata": {
    "collapsed": false
   },
   "outputs": [
    {
     "name": "stdout",
     "output_type": "stream",
     "text": [
      "See correlation with actual:  WOOD\n",
      "+-----------+\n",
      "|street_name|\n",
      "+-----------+\n",
      "|PINE       |\n",
      "|PO BOX     |\n",
      "|NORTH      |\n",
      "|WOOD       |\n",
      "|null       |\n",
      "|CHURCH     |\n",
      "+-----------+\n",
      "\n"
     ]
    }
   ],
   "source": [
    "print 'See correlation with actual: ',test_case[0][15]\n",
    "actual_acct_id.select('street_name').distinct().show(10,False)"
   ]
  },
  {
   "cell_type": "code",
   "execution_count": null,
   "metadata": {
    "collapsed": true
   },
   "outputs": [],
   "source": []
  }
 ],
 "metadata": {
  "kernelspec": {
   "display_name": "Python 2",
   "language": "python",
   "name": "python2"
  },
  "language_info": {
   "codemirror_mode": {
    "name": "ipython",
    "version": 2
   },
   "file_extension": ".py",
   "mimetype": "text/x-python",
   "name": "python",
   "nbconvert_exporter": "python",
   "pygments_lexer": "ipython2",
   "version": "2.7.11"
  }
 },
 "nbformat": 4,
 "nbformat_minor": 0
}
