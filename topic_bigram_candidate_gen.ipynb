{
 "cells": [
  {
   "cell_type": "code",
   "execution_count": 1,
   "metadata": {
    "collapsed": false
   },
   "outputs": [],
   "source": [
    "from pyspark.sql import functions as F\n",
    "from pyspark.sql.types import *\n",
    "from pyspark.sql import Row\n",
    "\n",
    "from pyspark.ml.feature import StringIndexer, OneHotEncoder, VectorIndexer, VectorAssembler\n",
    "from pyspark.ml import Pipeline\n",
    "from pyspark.mllib.regression import LabeledPoint\n",
    "from pyspark.mllib.tree import GradientBoostedTrees\n",
    "from pyspark.mllib.tree import RandomForest\n",
    "from pyspark.mllib.classification import SVMWithSGD\n",
    "from pyspark.mllib.classification import LogisticRegressionWithSGD\n",
    "from pyspark.mllib.linalg.distributed import IndexedRow, IndexedRowMatrix\n",
    "from pyspark.mllib.linalg import Vectors, DenseVector, SparseVector, VectorUDT\n",
    "from pyspark.ml.regression import GBTRegressor\n",
    "from pyspark.ml.tuning import CrossValidator, ParamGridBuilder\n",
    "from pyspark.ml.evaluation import RegressionEvaluator\n",
    "from pyspark.ml.feature import HashingTF, IDF, Tokenizer\n",
    "\n",
    "import pandas as pd\n",
    "import numpy as np\n",
    "from IPython.display import display\n",
    "\n",
    "import operator\n",
    "from collections import defaultdict, Counter\n",
    "from sklearn import metrics"
   ]
  },
  {
   "cell_type": "code",
   "execution_count": 4,
   "metadata": {
    "collapsed": true
   },
   "outputs": [],
   "source": [
    "topic_modeling_words = sqlContext.sql('select * from ignite.topic_modeling_per_word').cache()\n",
    "topic_modeling_savm = sqlContext.sql('select * from ignite.topic_modeling_savm_tfidf').repartition(1000).cache()\n",
    "savm_parsed = sqlContext.sql('select * from ignite.savm_parsed').cache()\n",
    "cr_parsed = sqlContext.sql('select * from ignite.cr_parsed').cache()\n",
    "party_expansion = sqlContext.sql('select * from ignite.party_expansion').cache()"
   ]
  },
  {
   "cell_type": "code",
   "execution_count": 22,
   "metadata": {
    "collapsed": false
   },
   "outputs": [
    {
     "data": {
      "text/plain": [
       "[Row(id=334, candidate_sales_acct_id=253363314.0, truth_sales_acct_id=203688374.0, features=SparseVector(882, {0: 0.0, 1: 0.0, 2: 0.0, 3: 0.0, 4: 0.0, 5: 0.0, 6: 0.0, 7: 0.0, 8: 0.0, 9: 0.0, 10: 0.0, 11: 0.0, 12: 0.0, 13: 0.0, 14: 0.0, 15: 0.0, 16: 0.0, 17: 0.0, 18: 0.0, 19: 1.0, 20: 0.0, 21: 0.0, 22: 0.0, 23: 0.0, 24: 0.0, 25: 0.0, 26: 0.0, 27: 0.0, 28: 0.0, 29: 0.0, 30: 0.0, 31: 0.0, 32: 0.0, 33: 0.0, 34: 0.0, 35: 0.0, 36: 0.0, 37: 0.0, 38: 0.0, 39: 1.0, 40: 0.0, 41: 1.0, 42: 0.4, 43: 0.4, 44: 0.0, 45: 0.4, 46: 0.0, 47: 62.0, 48: 1.891, 49: 147.0, 50: 1319.9525, 51: 0.3794, 52: 0.0, 53: 0.8409, 54: 4.4896, 55: 19782.0, 56: 0.6756, 57: 146.0, 58: 471.5545, 59: 0.0194, 60: 0.0, 61: 0.4532, 62: 1.5447, 127: 0.0, 128: 1.0, 129: 3.0, 877: 0.0, 878: 0.0, 879: 29.0, 880: 1.0, 881: 100.0}), double_label=0.0, prediction=0.0004913800862519566),\n",
       " Row(id=334, candidate_sales_acct_id=254694421.0, truth_sales_acct_id=203688374.0, features=SparseVector(882, {0: 0.0, 1: 0.0, 2: 0.0, 3: 0.0, 4: 0.0, 5: 0.0, 6: 0.0, 7: 0.0, 8: 0.0, 9: 0.0, 10: 0.0, 11: 0.0, 12: 0.0, 13: 0.0, 14: 0.0, 15: 0.0, 16: 0.0, 17: 0.0, 18: 1.0, 19: 0.0, 20: 0.0, 21: 0.0, 22: 0.0, 23: 0.0, 24: 0.0, 25: 0.0, 26: 0.0, 27: 0.0, 28: 0.0, 29: 0.0, 30: 0.0, 31: 0.0, 32: 0.0, 33: 0.0, 34: 0.0, 35: 0.0, 36: 0.0, 37: 0.0, 38: 1.0, 39: 0.0, 40: 0.0, 41: 1.0, 42: 0.2, 43: 0.0, 44: 0.0, 45: 0.0, 46: 0.0, 47: 99521.0, 48: 0.1794, 49: 1.0, 50: 1.6143, 51: 0.0095, 52: 0.0, 53: 0.2548, 54: 0.835, 127: 0.0, 128: 1.0, 129: 2.0, 877: 0.0, 878: 0.0, 879: 2.0, 880: 1.0, 881: 2.0}), double_label=0.0, prediction=3.7632661504522845e-05),\n",
       " Row(id=334, candidate_sales_acct_id=253708997.0, truth_sales_acct_id=203688374.0, features=SparseVector(882, {0: 0.0, 1: 0.0, 2: 0.0, 3: 0.0, 4: 0.0, 5: 0.0, 6: 0.0, 7: 0.0, 8: 0.0, 9: 0.0, 10: 0.0, 11: 0.0, 12: 0.0, 13: 0.0, 14: 0.0, 15: 0.0, 16: 0.0, 17: 0.0, 18: 1.0, 19: 0.0, 20: 0.0, 21: 0.0, 22: 0.0, 23: 0.0, 24: 0.0, 25: 0.0, 26: 0.0, 27: 0.0, 28: 0.0, 29: 0.0, 30: 0.0, 31: 0.0, 32: 0.0, 33: 0.0, 34: 0.0, 35: 0.0, 36: 0.0, 37: 0.0, 38: 1.0, 39: 0.0, 40: 0.0, 41: 1.0, 42: 0.0, 43: 0.0, 44: 0.2, 45: 0.0, 46: 0.0, 47: 99521.0, 48: 0.2018, 49: 1.0, 50: 1.6143, 51: 0.0095, 52: 0.0, 53: 0.2548, 54: 0.835, 127: 0.0, 128: 1.0, 129: 2.0, 877: 0.0, 878: 0.0, 879: 2.0, 880: 1.0, 881: 3.0}), double_label=0.0, prediction=0.0001818055048035716),\n",
       " Row(id=334, candidate_sales_acct_id=203860373.0, truth_sales_acct_id=203688374.0, features=SparseVector(882, {0: 0.0, 1: 0.0, 2: 0.0, 3: 0.0, 4: 0.0, 5: 0.0, 6: 0.0, 7: 0.0, 8: 0.0, 9: 0.0, 10: 0.0, 11: 0.0, 12: 0.0, 13: 0.0, 14: 0.0, 15: 0.0, 16: 0.0, 17: 0.0, 18: 0.0, 19: 0.0, 20: 0.0, 21: 0.0, 22: 0.0, 23: 0.0, 24: 0.0, 25: 0.0, 26: 0.0, 27: 0.0, 28: 0.0, 29: 0.0, 30: 0.0, 31: 0.0, 32: 0.0, 33: 0.0, 34: 0.0, 35: 0.0, 36: 0.0, 37: 0.0, 38: 0.0, 39: 0.0, 40: 1.0, 41: 0.0, 42: 0.0, 43: 1.0, 44: 0.0, 45: 0.2857, 46: 0.0, 47: 63.0, 48: 0.7746, 49: 7.0, 50: 62.7446, 51: 0.2915, 52: 0.0002, 53: 0.7183, 54: 2.561, 55: 70.0, 56: 0.2188, 57: 2.0, 58: 17.7194, 59: 0.3058, 60: 0.0001, 61: 0.6672, 62: 2.8734, 63: 589.0, 64: 0.5827, 65: 7.0, 66: 47.196, 67: 0.1155, 68: 0.0, 69: 0.8564, 70: 3.269, 71: 5478.0, 72: 0.1115, 73: 2.0, 74: 9.0275, 75: 0.0668, 76: 0.0, 77: 0.2163, 78: 1.8055, 79: 47439.0, 80: 0.0872, 81: 3.0, 82: 7.0655, 83: 0.0099, 84: 0.0, 85: 0.3587, 86: 0.8832, 127: 0.0, 128: 0.0, 129: 5.0, 877: 1.0, 878: 1.0, 879: 1.0, 880: 1.0, 881: 23.0}), double_label=0.0, prediction=0.005588048157336307),\n",
       " Row(id=334, candidate_sales_acct_id=277090566.0, truth_sales_acct_id=203688374.0, features=SparseVector(882, {0: 0.0, 1: 0.0, 2: 0.0, 3: 0.0, 4: 0.0, 5: 0.0, 6: 0.0, 7: 0.0, 8: 0.0, 9: 0.0, 10: 0.0, 11: 0.0, 12: 0.0, 13: 0.0, 14: 0.0, 15: 0.0, 16: 0.0, 17: 0.0, 18: 1.0, 19: 0.0, 20: 0.0, 21: 0.0, 22: 0.0, 23: 0.0, 24: 0.0, 25: 0.0, 26: 0.0, 27: 0.0, 28: 0.0, 29: 0.0, 30: 0.0, 31: 0.0, 32: 0.0, 33: 0.0, 34: 0.0, 35: 0.0, 36: 0.0, 37: 0.0, 38: 1.0, 39: 0.0, 40: 0.0, 41: 1.0, 42: 0.0, 43: 0.2, 44: 0.2, 45: 0.1667, 46: 0.1667, 47: 99521.0, 48: 0.3075, 49: 4.0, 50: 6.4571, 51: 0.0095, 52: 0.0, 53: 0.2548, 54: 0.835, 127: 0.0, 128: 1.0, 129: 2.0, 877: 0.0, 878: 0.0, 879: 1.0, 880: 1.0, 881: 5.0}), double_label=0.0, prediction=0.0001818055048035716),\n",
       " Row(id=334, candidate_sales_acct_id=203815491.0, truth_sales_acct_id=203688374.0, features=SparseVector(882, {0: 0.0, 1: 0.0, 2: 0.0, 3: 0.0, 4: 0.0, 5: 0.0, 6: 0.0, 7: 0.0, 8: 0.0, 9: 0.0, 10: 0.0, 11: 0.0, 12: 0.0, 13: 0.0, 14: 0.0, 15: 0.0, 16: 0.0, 17: 0.0, 18: 1.0, 19: 0.0, 20: 0.0, 21: 0.0, 22: 0.0, 23: 0.0, 24: 0.0, 25: 0.0, 26: 0.0, 27: 0.0, 28: 0.0, 29: 0.0, 30: 0.0, 31: 0.0, 32: 0.0, 33: 0.0, 34: 0.0, 35: 0.0, 36: 0.0, 37: 0.0, 38: 1.0, 39: 0.0, 40: 0.0, 41: 1.0, 42: 0.0, 43: 0.0, 44: 0.0, 45: 0.0, 46: 0.0, 47: 0.0, 127: 0.0, 128: 2.0, 129: 2.0, 877: 0.0, 878: 0.0, 879: 3.0, 880: 1.0, 881: 3.0}), double_label=0.0, prediction=0.0002603199773896117),\n",
       " Row(id=334, candidate_sales_acct_id=253837766.0, truth_sales_acct_id=203688374.0, features=SparseVector(882, {0: 0.0, 1: 0.0, 2: 0.0, 3: 0.0, 4: 0.0, 5: 0.0, 6: 0.0, 7: 0.0, 8: 0.0, 9: 0.0, 10: 0.0, 11: 0.0, 12: 0.0, 13: 0.0, 14: 0.0, 15: 0.0, 16: 0.0, 17: 0.0, 18: 1.0, 19: 0.0, 20: 0.0, 21: 0.0, 22: 0.0, 23: 0.0, 24: 0.0, 25: 0.0, 26: 0.0, 27: 0.0, 28: 0.0, 29: 0.0, 30: 0.0, 31: 0.0, 32: 0.0, 33: 0.0, 34: 0.0, 35: 0.0, 36: 0.0, 37: 0.0, 38: 1.0, 39: 0.0, 40: 0.0, 41: 1.0, 42: 0.0, 43: 0.0, 44: 0.0, 45: 0.0, 46: 0.0, 47: 0.0, 127: 0.0, 128: 2.0, 129: 2.0, 877: 0.0, 878: 0.0, 879: 1.0, 880: 1.0, 881: 1.0}), double_label=0.0, prediction=0.0002603199773896117),\n",
       " Row(id=334, candidate_sales_acct_id=203798734.0, truth_sales_acct_id=203688374.0, features=SparseVector(882, {0: 0.0, 1: 0.0, 2: 0.0, 3: 0.0, 4: 0.0, 5: 0.0, 6: 0.0, 7: 0.0, 8: 0.0, 9: 0.0, 10: 0.0, 11: 0.0, 12: 0.0, 13: 0.0, 14: 0.0, 15: 0.0, 16: 0.0, 17: 0.0, 18: 0.0, 19: 0.0, 20: 0.0, 21: 0.0, 22: 0.0, 23: 0.0, 24: 0.0, 25: 0.0, 26: 0.0, 27: 0.0, 28: 0.0, 29: 0.0, 30: 0.0, 31: 0.0, 32: 0.0, 33: 0.0, 34: 0.0, 35: 0.0, 36: 0.0, 37: 0.0, 38: 0.0, 39: 0.0, 40: 0.0, 41: 0.0, 42: 0.0, 43: 0.0, 44: 0.0, 45: 0.0, 46: 0.0, 47: 0.0, 127: 0.0, 128: 6.0, 129: 6.0, 877: 0.0, 878: 0.0, 879: 56.0, 880: 1.0, 881: 100.0}), double_label=0.0, prediction=0.0008144797559111296),\n",
       " Row(id=334, candidate_sales_acct_id=264514208.0, truth_sales_acct_id=203688374.0, features=SparseVector(882, {0: 0.0, 1: 0.0, 2: 0.0, 3: 0.0, 4: 0.0, 5: 0.0, 6: 0.0, 7: 0.0, 8: 0.0, 9: 0.0, 10: 0.0, 11: 0.0, 12: 0.0, 13: 0.0, 14: 0.0, 15: 0.0, 16: 0.0, 17: 0.0, 18: 1.0, 19: 0.0, 20: 0.0, 21: 0.0, 22: 0.0, 23: 0.0, 24: 0.0, 25: 0.0, 26: 0.0, 27: 0.0, 28: 0.0, 29: 0.0, 30: 0.0, 31: 0.0, 32: 0.0, 33: 0.0, 34: 0.0, 35: 0.0, 36: 0.0, 37: 0.0, 38: 1.0, 39: 0.0, 40: 0.0, 41: 1.0, 42: 0.0, 43: 0.0, 44: 0.0, 45: 0.0, 46: 0.0, 47: 0.0, 127: 0.0, 128: 2.0, 129: 2.0, 877: 0.0, 878: 0.0, 879: 1.0, 880: 1.0, 881: 4.0}), double_label=0.0, prediction=0.0002603199773896117),\n",
       " Row(id=334, candidate_sales_acct_id=254331595.0, truth_sales_acct_id=203688374.0, features=SparseVector(882, {0: 0.0, 1: 0.0, 2: 0.0, 3: 0.0, 4: 0.0, 5: 0.0, 6: 0.0, 7: 0.0, 8: 0.0, 9: 0.0, 10: 0.0, 11: 0.0, 12: 0.0, 13: 0.0, 14: 0.0, 15: 0.0, 16: 0.0, 17: 0.0, 18: 1.0, 19: 0.0, 20: 0.0, 21: 0.0, 22: 0.0, 23: 0.0, 24: 0.0, 25: 0.0, 26: 0.0, 27: 0.0, 28: 0.0, 29: 0.0, 30: 0.0, 31: 0.0, 32: 0.0, 33: 0.0, 34: 0.0, 35: 0.0, 36: 0.0, 37: 0.0, 38: 1.0, 39: 0.0, 40: 0.0, 41: 1.0, 42: 0.0, 43: 0.0, 44: 0.0, 45: 0.0, 46: 0.0, 47: 0.0, 127: 0.0, 128: 2.0, 129: 2.0, 877: 0.0, 878: 0.0, 879: 5.0, 880: 1.0, 881: 50.0}), double_label=0.0, prediction=0.0002603199773896117)]"
      ]
     },
     "execution_count": 22,
     "metadata": {},
     "output_type": "execute_result"
    }
   ],
   "source": [
    "sqlContext.sql('select * from ignite.some_predictions').take(10)"
   ]
  },
  {
   "cell_type": "code",
   "execution_count": 68,
   "metadata": {
    "collapsed": false
   },
   "outputs": [
    {
     "data": {
      "text/plain": [
       "DataFrame[id: bigint, party_id_candidate: double, candidate_sales_acct_id: double]"
      ]
     },
     "execution_count": 68,
     "metadata": {},
     "output_type": "execute_result"
    }
   ],
   "source": [
    "sqlContext.sql('select * from ignite.lsh_savm_candidates_2')"
   ]
  },
  {
   "cell_type": "code",
   "execution_count": 3,
   "metadata": {
    "collapsed": false
   },
   "outputs": [],
   "source": [
    "local_topic_modeling_words = topic_modeling_words.collect()\n",
    "topic_modeling_dict = {}\n",
    "topic_modeling_dict_by_index = {}\n",
    "for row in local_topic_modeling_words:\n",
    "    topic_modeling_dict[row.word] = row\n",
    "    topic_modeling_dict_by_index[row['index']] = row\n",
    "    \n",
    "topic_modeling_words_broadcast = sc.broadcast(topic_modeling_dict)\n",
    "topic_modeling_words_by_index_broadcast = sc.broadcast(topic_modeling_dict_by_index)"
   ]
  },
  {
   "cell_type": "code",
   "execution_count": 123,
   "metadata": {
    "collapsed": false
   },
   "outputs": [
    {
     "data": {
      "text/plain": [
       "Row(index=13, norm_max=0.017447402292281856, min_tfidf=2.692710480765196e-05, avg_tfidf=0.2625945258429515, max_tfidf=1.315892991386627, count_docs=64566, word=u'company')"
      ]
     },
     "execution_count": 123,
     "metadata": {},
     "output_type": "execute_result"
    }
   ],
   "source": [
    "topic_modeling_words_broadcast.value['company']"
   ]
  },
  {
   "cell_type": "code",
   "execution_count": 4,
   "metadata": {
    "collapsed": false
   },
   "outputs": [],
   "source": [
    "def term_buckets(row):\n",
    "    bigrams = []\n",
    "    for i in range(len(row.tokenized_name) - 1):\n",
    "        bigrams.append((' '.join(row.tokenized_name[i : i + 2]), row.party_id))\n",
    "        \n",
    "    return bigrams\n",
    "\n",
    "savm_bucketed = savm_parsed.flatMap(term_buckets).toDF(['bigram', 'savm_party_id']).cache()\n",
    "cr_bucketed = cr_parsed.flatMap(term_buckets).toDF(['bigram', 'cr_party_id']).cache()"
   ]
  },
  {
   "cell_type": "code",
   "execution_count": 5,
   "metadata": {
    "collapsed": false
   },
   "outputs": [],
   "source": [
    "frequent_bigrams = savm_bucketed.map(lambda x : (x.bigram, 1)).reduceByKey(lambda x, y : x + y).filter(lambda x : x[1] > 1000).toDF(['bigram', 'frequency']).withColumn('too_frequent', F.lit(1))\n",
    "savm_filtered = savm_bucketed.join(frequent_bigrams, on = 'bigram', how = 'left').where(F.col('too_frequent').isNull()).cache()"
   ]
  },
  {
   "cell_type": "code",
   "execution_count": 6,
   "metadata": {
    "collapsed": false
   },
   "outputs": [],
   "source": [
    "bigram_sales_accts = savm_filtered.join(savm_parsed.select(['party_id', 'sales_acct_id']), on = F.col('party_id') == F.col('savm_party_id')).drop_duplicates(['bigram', 'sales_acct_id']).cache()"
   ]
  },
  {
   "cell_type": "code",
   "execution_count": 24,
   "metadata": {
    "collapsed": false
   },
   "outputs": [],
   "source": [
    "important_bigrams = bigram_sales_accts.groupby('bigram').agg({'sales_acct_id' : 'count'})\n",
    "important_bigrams = important_bigrams.where(F.col('count(sales_acct_id)') < 20).join(bigram_sales_accts, how = 'left', on = 'bigram').cache()"
   ]
  },
  {
   "cell_type": "code",
   "execution_count": 22,
   "metadata": {
    "collapsed": false
   },
   "outputs": [],
   "source": [
    "frequent_cr_bigrams = cr_bucketed.map(lambda x : (x.bigram, 1)).reduceByKey(lambda x, y : x + y).filter(lambda x : x[1] > 1000).toDF(['bigram', 'frequency']).withColumn('too_frequent', F.lit(1))\n",
    "cr_filtered = cr_bucketed.join(frequent_cr_bigrams, on = 'bigram', how = 'left').where(F.col('too_frequent').isNull()).cache()"
   ]
  },
  {
   "cell_type": "code",
   "execution_count": 18,
   "metadata": {
    "collapsed": false
   },
   "outputs": [
    {
     "data": {
      "text/plain": [
       "[Row(bigram=u'#61 greater', savm_party_id=6691078.0, frequency=None, too_frequent=None),\n",
       " Row(bigram=u'& academies', savm_party_id=41534303.0, frequency=None, too_frequent=None),\n",
       " Row(bigram=u'& academies', savm_party_id=165481275.0, frequency=None, too_frequent=None),\n",
       " Row(bigram=u'& academies', savm_party_id=89082249.0, frequency=None, too_frequent=None),\n",
       " Row(bigram=u'& academies', savm_party_id=116331625.0, frequency=None, too_frequent=None),\n",
       " Row(bigram=u'& academies', savm_party_id=41512045.0, frequency=None, too_frequent=None),\n",
       " Row(bigram=u'& academies', savm_party_id=153764040.0, frequency=None, too_frequent=None),\n",
       " Row(bigram=u'& academies', savm_party_id=184345977.0, frequency=None, too_frequent=None),\n",
       " Row(bigram=u'& academies', savm_party_id=41409629.0, frequency=None, too_frequent=None),\n",
       " Row(bigram=u'& assocics', savm_party_id=41616010.0, frequency=None, too_frequent=None)]"
      ]
     },
     "execution_count": 18,
     "metadata": {},
     "output_type": "execute_result"
    }
   ],
   "source": [
    "savm_filtered.take(10)"
   ]
  },
  {
   "cell_type": "code",
   "execution_count": 24,
   "metadata": {
    "collapsed": false
   },
   "outputs": [
    {
     "data": {
      "text/plain": [
       "[Row(bigram=u'\\x08 res', cr_party_id=92266791.0, frequency=None, too_frequent=None),\n",
       " Row(bigram=u'\\x08 res', cr_party_id=92216265.0, frequency=None, too_frequent=None),\n",
       " Row(bigram=u'!\\x1a\\x18\\x19 \\x14', cr_party_id=123390637.0, frequency=None, too_frequent=None),\n",
       " Row(bigram=u'!\\x1a\\x18\\x19 \\x14', cr_party_id=123390816.0, frequency=None, too_frequent=None),\n",
       " Row(bigram=u'\"am berg\"', cr_party_id=39702900.0, frequency=None, too_frequent=None),\n",
       " Row(bigram=u'\"continent express\"', cr_party_id=36399634.0, frequency=None, too_frequent=None),\n",
       " Row(bigram=u'\"expolab\" fortschrittliche', cr_party_id=11211646.0, frequency=None, too_frequent=None),\n",
       " Row(bigram=u'\"imc322reaseed\" units', cr_party_id=32171322.0, frequency=None, too_frequent=None),\n",
       " Row(bigram=u'\"jb pearl', cr_party_id=124943262.0, frequency=None, too_frequent=None),\n",
       " Row(bigram=u'\"kamleitner &', cr_party_id=110358871.0, frequency=None, too_frequent=None)]"
      ]
     },
     "execution_count": 24,
     "metadata": {},
     "output_type": "execute_result"
    }
   ],
   "source": [
    "cr_filtered.take(10)"
   ]
  },
  {
   "cell_type": "code",
   "execution_count": 26,
   "metadata": {
    "collapsed": false
   },
   "outputs": [],
   "source": [
    "cr_filtered.join(savm_filtered, on = 'bigram').select(['cr_party_id', 'savm_party_id']).drop_duplicates().write.saveAsTable('ignite.bigram_candidate_gen')"
   ]
  },
  {
   "cell_type": "code",
   "execution_count": 20,
   "metadata": {
    "collapsed": false
   },
   "outputs": [],
   "source": [
    "#bigram_candidates = sqlContext.sql('select * from ignite.bigram_candidate_gen')\n",
    "party_expansion = sqlContext.sql('select * from ignite.party_expansion')"
   ]
  },
  {
   "cell_type": "code",
   "execution_count": 21,
   "metadata": {
    "collapsed": false
   },
   "outputs": [],
   "source": [
    "def contest_term_buckets(row):\n",
    "    bigrams = []\n",
    "    for name in [row.prior_party_name, row.end_customer_line_fix]:\n",
    "        tokenized = name.split(\" \")\n",
    "        for i in range(len(tokenized) - 1):\n",
    "            bigrams.append((' '.join(tokenized[i : i + 2]), row.id))\n",
    "        \n",
    "    return bigrams\n",
    "\n",
    "party_bigrams = party_expansion.flatMap(contest_term_buckets).toDF(['bigram', 'id']).drop_duplicates().cache()\n",
    "frequent_bigrams = party_bigrams.map(lambda x : (x.bigram, 1)).reduceByKey(lambda x, y : x + y).filter(lambda x : x[1] > 1000).toDF(['bigram', 'frequency']).withColumn('too_frequent', F.lit(1))\n",
    "party_filtered = party_bigrams.join(frequent_bigrams, on = 'bigram', how = 'left').where(F.col('too_frequent').isNull()).cache()"
   ]
  },
  {
   "cell_type": "code",
   "execution_count": 36,
   "metadata": {
    "collapsed": false
   },
   "outputs": [
    {
     "data": {
      "text/plain": [
       "[Row(bigram=u'& finance', id=403726926581, frequency=None, too_frequent=None),\n",
       " Row(bigram=u'& finance', id=171798720404, frequency=None, too_frequent=None),\n",
       " Row(bigram=u'& finance', id=403726926568, frequency=None, too_frequent=None),\n",
       " Row(bigram=u'& finance', id=403726926567, frequency=None, too_frequent=None),\n",
       " Row(bigram=u'& finance', id=403726926551, frequency=None, too_frequent=None)]"
      ]
     },
     "execution_count": 36,
     "metadata": {},
     "output_type": "execute_result"
    }
   ],
   "source": [
    "party_filtered.take(5)"
   ]
  },
  {
   "cell_type": "code",
   "execution_count": 69,
   "metadata": {
    "collapsed": false
   },
   "outputs": [],
   "source": [
    "bigram_parties = party_filtered.join(important_bigrams, on = 'bigram', how = 'left').select(['id', 'bigram', 'savm_party_id']).where(~F.col('savm_party_id').isNull()).cache()"
   ]
  },
  {
   "cell_type": "code",
   "execution_count": 70,
   "metadata": {
    "collapsed": false
   },
   "outputs": [],
   "source": [
    "bigram_candidates = bigram_parties.join(savm_parsed.select(['party_id', F.col('sales_acct_id').alias('candidate_sales_acct_id')]), how = 'left', on = (F.col('savm_party_id') == F.col('party_id'))).drop('party_id')"
   ]
  },
  {
   "cell_type": "code",
   "execution_count": 78,
   "metadata": {
    "collapsed": false
   },
   "outputs": [],
   "source": [
    "bigram_candidates.select(['id', F.col('savm_party_id').alias('candidate_party_id'), 'candidate_sales_acct_id']).drop_duplicates().write.saveAsTable('ignite.bigram_candidates', mode = 'overwrite')"
   ]
  },
  {
   "cell_type": "code",
   "execution_count": 59,
   "metadata": {
    "collapsed": false
   },
   "outputs": [],
   "source": [
    "correct_per_bigram = builder.join(party_expansion.select(['id', F.col('sales_acct_id').alias('truth_sales_acct_id')]), on = 'id', how = 'left').where(F.col('candidate_sales_acct_id') == F.col('truth_sales_acct_id')).cache()"
   ]
  },
  {
   "cell_type": "code",
   "execution_count": 60,
   "metadata": {
    "collapsed": false
   },
   "outputs": [
    {
     "data": {
      "text/plain": [
       "494911"
      ]
     },
     "execution_count": 60,
     "metadata": {},
     "output_type": "execute_result"
    }
   ],
   "source": [
    "correct_per_bigram.drop_duplicates(['id', 'candidate_sales_acct_id']).count()"
   ]
  },
  {
   "cell_type": "code",
   "execution_count": 90,
   "metadata": {
    "collapsed": false
   },
   "outputs": [],
   "source": [
    "lsh_candidates = sqlContext.sql('select * from ignite.lsh_savm_candidates_2').withColumn('candidate_party_id', F.col('party_id_candidate'))\n",
    "direct_candidates = sqlContext.sql('select * from ignite.direct_id_candidates').withColumn('candidate_party_id', F.col('candidate_party'))\n",
    "parent_expansion_candidates = sqlContext.sql('select * from ignite.parent_expansion_candidates').withColumn('candidate_party_id', F.col('candidate_party'))\n",
    "columns = ['id', 'candidate_sales_acct_id', 'candidate_party_id']\n",
    "candidate_gen = lsh_candidates.select(columns).unionAll(direct_candidates.select(columns)).unionAll(sqlContext.sql('select * from ignite.bigram_candidates').select(columns))\n",
    "candidate_gen = candidate_gen.unionAll(parent_expansion_candidates.select(columns)).drop_duplicates().cache()"
   ]
  },
  {
   "cell_type": "code",
   "execution_count": 91,
   "metadata": {
    "collapsed": false
   },
   "outputs": [
    {
     "data": {
      "text/plain": [
       "147515462"
      ]
     },
     "execution_count": 91,
     "metadata": {},
     "output_type": "execute_result"
    }
   ],
   "source": [
    "candidate_gen.count()"
   ]
  },
  {
   "cell_type": "code",
   "execution_count": 92,
   "metadata": {
    "collapsed": false
   },
   "outputs": [
    {
     "data": {
      "text/plain": [
       "DataFrame[id: bigint, candidate_sales_acct_id: double, candidate_party_id: double]"
      ]
     },
     "execution_count": 92,
     "metadata": {},
     "output_type": "execute_result"
    }
   ],
   "source": [
    "candidate_gen"
   ]
  },
  {
   "cell_type": "code",
   "execution_count": 95,
   "metadata": {
    "collapsed": false
   },
   "outputs": [],
   "source": [
    "have_candidate = candidate_gen.select(['id', 'candidate_sales_acct_id']).join(party_expansion.select(['id', F.col('sales_acct_id').alias('truth_sales_acct_id')]), on = 'id').where(F.col('candidate_sales_acct_id') == F.col('truth_sales_acct_id')).drop_duplicates().cache()"
   ]
  },
  {
   "cell_type": "code",
   "execution_count": 97,
   "metadata": {
    "collapsed": false
   },
   "outputs": [
    {
     "data": {
      "text/plain": [
       "[Row(id=231, have_candidate=None),\n",
       " Row(id=3431, have_candidate=None),\n",
       " Row(id=4431, have_candidate=None),\n",
       " Row(id=6231, have_candidate=None),\n",
       " Row(id=6431, have_candidate=None),\n",
       " Row(id=8431, have_candidate=None),\n",
       " Row(id=8589934621, have_candidate=None),\n",
       " Row(id=8589935421, have_candidate=None),\n",
       " Row(id=8589940021, have_candidate=None),\n",
       " Row(id=8589942021, have_candidate=None),\n",
       " Row(id=8589944621, have_candidate=None),\n",
       " Row(id=8589945821, have_candidate=None),\n",
       " Row(id=17179871611, have_candidate=None),\n",
       " Row(id=17179873011, have_candidate=None),\n",
       " Row(id=17179874211, have_candidate=None),\n",
       " Row(id=17179884611, have_candidate=None),\n",
       " Row(id=17179885411, have_candidate=None),\n",
       " Row(id=25769804801, have_candidate=None),\n",
       " Row(id=25769809201, have_candidate=None),\n",
       " Row(id=25769810401, have_candidate=None),\n",
       " Row(id=25769810601, have_candidate=None),\n",
       " Row(id=25769812801, have_candidate=None),\n",
       " Row(id=25769816201, have_candidate=None),\n",
       " Row(id=25769817801, have_candidate=None),\n",
       " Row(id=25769820001, have_candidate=None),\n",
       " Row(id=34359739407, have_candidate=None),\n",
       " Row(id=34359743991, have_candidate=None),\n",
       " Row(id=34359746391, have_candidate=None),\n",
       " Row(id=34359749807, have_candidate=None),\n",
       " Row(id=34359749991, have_candidate=None),\n",
       " Row(id=34359754207, have_candidate=None),\n",
       " Row(id=34359758791, have_candidate=None),\n",
       " Row(id=42949673197, have_candidate=None),\n",
       " Row(id=42949674397, have_candidate=None),\n",
       " Row(id=42949676797, have_candidate=None),\n",
       " Row(id=42949678581, have_candidate=None),\n",
       " Row(id=42949685781, have_candidate=None),\n",
       " Row(id=42949686797, have_candidate=None),\n",
       " Row(id=51539609171, have_candidate=None),\n",
       " Row(id=51539609971, have_candidate=None),\n",
       " Row(id=51539610371, have_candidate=None),\n",
       " Row(id=51539612987, have_candidate=None),\n",
       " Row(id=51539613971, have_candidate=None),\n",
       " Row(id=51539614371, have_candidate=None),\n",
       " Row(id=51539616771, have_candidate=None),\n",
       " Row(id=51539618187, have_candidate=None),\n",
       " Row(id=51539618587, have_candidate=None),\n",
       " Row(id=51539620587, have_candidate=None),\n",
       " Row(id=51539620987, have_candidate=None),\n",
       " Row(id=51539624187, have_candidate=None),\n",
       " Row(id=60129542561, have_candidate=None),\n",
       " Row(id=60129549361, have_candidate=None),\n",
       " Row(id=60129549577, have_candidate=None),\n",
       " Row(id=60129554561, have_candidate=None),\n",
       " Row(id=68719476983, have_candidate=None),\n",
       " Row(id=68719477783, have_candidate=None),\n",
       " Row(id=68719481351, have_candidate=None),\n",
       " Row(id=68719483151, have_candidate=None),\n",
       " Row(id=68719483383, have_candidate=None),\n",
       " Row(id=68719483951, have_candidate=None),\n",
       " Row(id=68719484183, have_candidate=None),\n",
       " Row(id=68719490783, have_candidate=None),\n",
       " Row(id=77309413541, have_candidate=None),\n",
       " Row(id=77309416373, have_candidate=None),\n",
       " Row(id=77309417541, have_candidate=None),\n",
       " Row(id=77309421973, have_candidate=None),\n",
       " Row(id=85899346963, have_candidate=None),\n",
       " Row(id=85899347163, have_candidate=None),\n",
       " Row(id=85899348763, have_candidate=None),\n",
       " Row(id=85899355163, have_candidate=None),\n",
       " Row(id=85899355763, have_candidate=None),\n",
       " Row(id=94489282721, have_candidate=None),\n",
       " Row(id=94489283953, have_candidate=None),\n",
       " Row(id=94489285753, have_candidate=None),\n",
       " Row(id=94489289321, have_candidate=None),\n",
       " Row(id=94489289921, have_candidate=None),\n",
       " Row(id=94489293753, have_candidate=None),\n",
       " Row(id=94489295721, have_candidate=None),\n",
       " Row(id=103079217327, have_candidate=None),\n",
       " Row(id=103079220159, have_candidate=None),\n",
       " Row(id=103079224159, have_candidate=None),\n",
       " Row(id=103079225327, have_candidate=None),\n",
       " Row(id=111669151917, have_candidate=None),\n",
       " Row(id=111669152901, have_candidate=None),\n",
       " Row(id=111669156901, have_candidate=None),\n",
       " Row(id=111669157333, have_candidate=None),\n",
       " Row(id=111669158317, have_candidate=None),\n",
       " Row(id=111669159117, have_candidate=None),\n",
       " Row(id=111669162317, have_candidate=None),\n",
       " Row(id=120259085091, have_candidate=None),\n",
       " Row(id=120259085339, have_candidate=None),\n",
       " Row(id=120259085523, have_candidate=None),\n",
       " Row(id=120259085707, have_candidate=None),\n",
       " Row(id=120259085891, have_candidate=None),\n",
       " Row(id=120259086939, have_candidate=None),\n",
       " Row(id=120259088107, have_candidate=None),\n",
       " Row(id=120259089523, have_candidate=None),\n",
       " Row(id=120259091307, have_candidate=None),\n",
       " Row(id=120259091491, have_candidate=None),\n",
       " Row(id=120259092723, have_candidate=None)]"
      ]
     },
     "execution_count": 97,
     "metadata": {},
     "output_type": "execute_result"
    }
   ],
   "source": [
    "party_expansion.select(['id']).join(have_candidate.select(['id']).withColumn('have_candidate', F.lit(1)), on = 'id', how = 'left').where(F.col('have_candidate').isNull()).take(100)"
   ]
  },
  {
   "cell_type": "code",
   "execution_count": 103,
   "metadata": {
    "collapsed": false
   },
   "outputs": [
    {
     "data": {
      "text/plain": [
       "[Row(sold_to_customer_key=62192337, bill_to_customer_key=62207957, ship_to_customer_key=65955721, end_customer_key_line_level=66000140, end_customer_key_order_level=66000140, sales_order_line_key=234635860, sales_order_key=23778618, endcustomerlinefixed=u'QCC-CPEAAS', pppk=165769531, fppk=157560343, decision_date_time=datetime.date(2015, 7, 3), days_from_create_to_final_decision=37.708333, end_customer_party_ssot_party_id_int_sav_party_id=247695596, prior_party_ssot_party_id_int_sav_party_id=247695596, final_party_ssot_party_id_int_sav_party_id=234729982, type=u'Reviewed_and_modified', priorpartyname=u'QCC-CPEAAS', finalpartyname=u'ADVANCED DISPOSAL', so_number_int=100655340, dd_end_customer_type_order_level=u'ACCOUNT_LOCATION                                  ', purchase_order_type_code=u'Resale', purchase_order_number=u'8262642', order_datetime=u'2015-05-26 12:50:11.0', oracle_book_datetime=u'2015-06-05 15:39:17.0', transactional_currency_code=u'USD            ', customer_service_rep_name=u'null', cust_svc_rep_team_name=u'null', conversion_type_code=u'Corporate', original_system_reference_code=u'64089207', submitted_on_web_by_name=u'null', deal_id=u'15398918', price_list_name=u'Global Price List - US', so_source_name=u'Commerce Workspace', order_type_name=u'Standard Cisco - US', so_src_crt_datetime=u'2015-05-28 13:07:06.0', sales_channel_code=u'Unknown', sales_channel_source_type=u'ERP             ', sales_order_category_type=u'ORDER ', ss_code=u'CG      ', end_ssp_date=u'3500-01-01 00:00:00.0', ru_bk_orig_sales_order_key=-9999, so_created_by_erp_user_name=u'CCWADM', so_modified_by_erp_user_name=u'ASHAMHEG', sk_sales_order_header_id_int=602197153, sales_order_program_type_name=u'Standard', sales_acct_id=203706875.0, id=6231, end_customer_line_fix=u'qcc cpeaas', prior_party_name=u'qcc cpeaas', pppk_party_key=165769531, pppk_party=247695596, end_customer_key_so_party=66000140, so_branch_party=247695596, so_gu_party=26382, so_hq_party=215589842, end_customer_key_sol_party=66000140, sol_branch_party=247695596, sol_gu_party=26382, sol_hq_party=215589842, order_level_branch_party=247695596, order_level_gu_party=26382, order_level_hq_party=215589842, line_level_branch_party=247695596, line_level_gu_party=26382, line_level_hq_party=215589842, ship_to_branch_party=10360332, ship_to_gu_party=10360332, ship_to_hq_party=10360332, bill_to_branch_party=224925062, bill_to_gu_party=26382, bill_to_hq_party=4605518, sold_to_branch_party=50890, sold_to_gu_party=26382, sold_to_hq_party=26382)]"
      ]
     },
     "execution_count": 103,
     "metadata": {},
     "output_type": "execute_result"
    }
   ],
   "source": [
    "party_expansion.where(F.col('id') == 6231).take(10)"
   ]
  },
  {
   "cell_type": "code",
   "execution_count": null,
   "metadata": {
    "collapsed": true
   },
   "outputs": [],
   "source": []
  }
 ],
 "metadata": {
  "kernelspec": {
   "display_name": "Python 2",
   "language": "python",
   "name": "python2"
  },
  "language_info": {
   "codemirror_mode": {
    "name": "ipython",
    "version": 2
   },
   "file_extension": ".py",
   "mimetype": "text/x-python",
   "name": "python",
   "nbconvert_exporter": "python",
   "pygments_lexer": "ipython2",
   "version": "2.7.11"
  }
 },
 "nbformat": 4,
 "nbformat_minor": 0
}
