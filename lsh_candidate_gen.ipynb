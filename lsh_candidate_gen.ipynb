{
 "cells": [
  {
   "cell_type": "code",
   "execution_count": 1,
   "metadata": {
    "collapsed": false
   },
   "outputs": [],
   "source": [
    "from pyspark.sql import functions as F\n",
    "\n",
    "import pandas as pd\n",
    "import numpy as np"
   ]
  },
  {
   "cell_type": "code",
   "execution_count": 2,
   "metadata": {
    "collapsed": false
   },
   "outputs": [
    {
     "data": {
      "text/plain": [
       "DataFrame[key: string, value: string]"
      ]
     },
     "execution_count": 2,
     "metadata": {},
     "output_type": "execute_result"
    }
   ],
   "source": [
    "sqlContext.sql(\"set spark.sql.shuffle.partitions = 300\")"
   ]
  },
  {
   "cell_type": "code",
   "execution_count": 3,
   "metadata": {
    "collapsed": false
   },
   "outputs": [
    {
     "data": {
      "text/plain": [
       "[Row(tableName=u'all_hashed', isTemporary=False),\n",
       " Row(tableName=u'contest_cr_compressed', isTemporary=False),\n",
       " Row(tableName=u'contest_data_sample', isTemporary=False),\n",
       " Row(tableName=u'contest_data_stamped', isTemporary=False),\n",
       " Row(tableName=u'contest_savm_compressed', isTemporary=False),\n",
       " Row(tableName=u'contest_sol_end_customer_compressed', isTemporary=False),\n",
       " Row(tableName=u'cr_hashed', isTemporary=False),\n",
       " Row(tableName=u'lsh_pairs', isTemporary=False),\n",
       " Row(tableName=u'savm_candidate_gen', isTemporary=False),\n",
       " Row(tableName=u'savm_hashed', isTemporary=False),\n",
       " Row(tableName=u'string_to_string', isTemporary=False),\n",
       " Row(tableName=u'test', isTemporary=False)]"
      ]
     },
     "execution_count": 3,
     "metadata": {},
     "output_type": "execute_result"
    }
   ],
   "source": [
    "sqlContext.sql(\"show tables in ignite\").collect()"
   ]
  },
  {
   "cell_type": "code",
   "execution_count": null,
   "metadata": {
    "collapsed": true
   },
   "outputs": [],
   "source": [
    "contest_data = sqlContext.sql(\"select * from ignite.contest_data_stamped\").cache()\n",
    "so_end_customer = sqlContext.sql('select * from edso_ignite.contest_so_end_customer').repartition(200).cache()\n",
    "sol_end_customer = sqlContext.sql('select * from edso_ignite.contest_sol_end_customer').repartition(200).cache()\n",
    "party_info = sqlContext.sql(\"select * from edso_ignite.contest_party_info\").repartition(200).cache()\n",
    "end_customer = sqlContext.sql('select * from edso_ignite.contest_end_customer').repartition(200).cache()\n",
    "cr = sqlContext.sql('select * from edso_ignite.contest_cr').repartition(200).cache()\n",
    "savm = sqlContext.sql(\"select * from edso_ignite.contest_savm\").repartition(200, 'party_id').cache()"
   ]
  },
  {
   "cell_type": "code",
   "execution_count": null,
   "metadata": {
    "collapsed": true
   },
   "outputs": [],
   "source": [
    "def drop_columns(df, columns):\n",
    "    return df.select([c for c in df.columns if c not in columns])"
   ]
  },
  {
   "cell_type": "code",
   "execution_count": null,
   "metadata": {
    "collapsed": true
   },
   "outputs": [],
   "source": [
    "party_values = [\n",
    "    'end_customer_party_ssot_party_id_int_sav_party_id',\n",
    "    'prior_party_ssot_party_id_int_sav_party_id',\n",
    "    'sol_branch_party',\n",
    "    'sol_gu_party',\n",
    "    'sol_hq_party',\n",
    "    'order_level_branch_party',\n",
    "    'order_level_gu_party',\n",
    "    'order_level_hq_party',\n",
    "    'line_level_branch_party',\n",
    "    'line_level_gu_party',\n",
    "    'line_level_hq_party',\n",
    "    'ship_to_branch_party',\n",
    "    'ship_to_gu_party',\n",
    "    'ship_to_hq_party',\n",
    "    'bill_to_branch_party',\n",
    "    'bill_to_gu_party',\n",
    "    'bill_to_hq_party',\n",
    "    'sold_to_branch_party',\n",
    "    'sold_to_gu_party',\n",
    "    'sold_to_hq_party'\n",
    "]"
   ]
  },
  {
   "cell_type": "code",
   "execution_count": null,
   "metadata": {
    "collapsed": false
   },
   "outputs": [],
   "source": [
    "party_joined = sqlContext.sql('select * from ignite.party_expansion')"
   ]
  },
  {
   "cell_type": "code",
   "execution_count": null,
   "metadata": {
    "collapsed": false
   },
   "outputs": [],
   "source": [
    "all_parties = party_joined.map(lambda x : (x.id, list(set([\n",
    "            x.end_customer_party_ssot_party_id_int_sav_party_id,\n",
    "            x.prior_party_ssot_party_id_int_sav_party_id,\n",
    "            x.pppk_party,\n",
    "            x.sol_branch_party,\n",
    "            x.sol_gu_party,\n",
    "            x.sol_hq_party,\n",
    "            x.order_level_branch_party,\n",
    "            x.order_level_gu_party,\n",
    "            x.order_level_hq_party,\n",
    "            x.line_level_branch_party,\n",
    "            x.line_level_gu_party,\n",
    "            x.line_level_hq_party,\n",
    "            x.ship_to_branch_party,\n",
    "            x.ship_to_gu_party,\n",
    "            x.ship_to_hq_party,\n",
    "            x.bill_to_branch_party,\n",
    "            x.bill_to_gu_party,\n",
    "            x.bill_to_hq_party,\n",
    "            x.sold_to_branch_party,\n",
    "            x.sold_to_gu_party,\n",
    "            x.sold_to_hq_party\n",
    "        ])))).flatMapValues(lambda x : x).toDF(['id', 'party_id']).repartition(1000, 'id').cache()"
   ]
  },
  {
   "cell_type": "code",
   "execution_count": 26,
   "metadata": {
    "collapsed": false
   },
   "outputs": [],
   "source": [
    "# really should make this only 1 -> 2 not have 2 -> 1 as well....\n",
    "lsh = sqlContext.sql(\"select * from ignite.lsh_pairs_2\")"
   ]
  },
  {
   "cell_type": "code",
   "execution_count": 6,
   "metadata": {
    "collapsed": false
   },
   "outputs": [
    {
     "data": {
      "text/plain": [
       "37959240"
      ]
     },
     "execution_count": 6,
     "metadata": {},
     "output_type": "execute_result"
    }
   ],
   "source": [
    "lsh.count()"
   ]
  },
  {
   "cell_type": "code",
   "execution_count": 5,
   "metadata": {
    "collapsed": false
   },
   "outputs": [
    {
     "data": {
      "text/plain": [
       "21611027"
      ]
     },
     "execution_count": 5,
     "metadata": {},
     "output_type": "execute_result"
    }
   ],
   "source": [
    "lsh.select(['party_id_1']).distinct().count()"
   ]
  },
  {
   "cell_type": "code",
   "execution_count": 9,
   "metadata": {
    "collapsed": false
   },
   "outputs": [
    {
     "data": {
      "text/plain": [
       "[Row(party_id_1=37578708.0, party_id_2=44150932.0)]"
      ]
     },
     "execution_count": 9,
     "metadata": {},
     "output_type": "execute_result"
    }
   ],
   "source": [
    "lsh.where(F.col('party_id_1') == 37578708).collect()"
   ]
  },
  {
   "cell_type": "code",
   "execution_count": 13,
   "metadata": {
    "collapsed": false
   },
   "outputs": [
    {
     "data": {
      "text/plain": [
       "5110563"
      ]
     },
     "execution_count": 13,
     "metadata": {},
     "output_type": "execute_result"
    }
   ],
   "source": [
    "all_parties.count()"
   ]
  },
  {
   "cell_type": "code",
   "execution_count": 27,
   "metadata": {
    "collapsed": false
   },
   "outputs": [],
   "source": [
    "lsh_1 = lsh.select([\n",
    "        F.col('party_id_1').alias('party_id'),\n",
    "        F.col('party_id_2').alias('party_id_candidate')\n",
    "    ])\n",
    "\n",
    "lsh_2 = lsh.select([\n",
    "        F.col('party_id_2').alias('party_id'),\n",
    "        F.col('party_id_1').alias('party_id_candidate')\n",
    "    ])\n",
    "\n",
    "builder1 = all_parties.join(lsh_1, 'party_id').drop_duplicates().repartition(1000, 'party_id')\n",
    "builder2 = all_parties.join(lsh_2, 'party_id').drop_duplicates().repartition(1000, 'party_id')\n",
    "expanded = builder1.unionAll(builder2).cache()"
   ]
  },
  {
   "cell_type": "code",
   "execution_count": 21,
   "metadata": {
    "collapsed": false
   },
   "outputs": [
    {
     "data": {
      "text/plain": [
       "824932724"
      ]
     },
     "execution_count": 21,
     "metadata": {},
     "output_type": "execute_result"
    }
   ],
   "source": [
    "expanded.count()"
   ]
  },
  {
   "cell_type": "code",
   "execution_count": 9,
   "metadata": {
    "collapsed": false
   },
   "outputs": [
    {
     "data": {
      "text/plain": [
       "[Row(party_id=8500631, id=8589946146, party_id_candidate=222780809.0),\n",
       " Row(party_id=273717631, id=266287980750, party_id_candidate=225000924.0),\n",
       " Row(party_id=273717631, id=266287980730, party_id_candidate=194758032.0),\n",
       " Row(party_id=38631, id=377957131730, party_id_candidate=89023837.0),\n",
       " Row(party_id=253556631, id=377957130401, party_id_candidate=257772343.0),\n",
       " Row(party_id=3946631, id=180388628685, party_id_candidate=162191.0),\n",
       " Row(party_id=3946631, id=137438962083, party_id_candidate=162191.0),\n",
       " Row(party_id=34631, id=223338313338, party_id_candidate=5935717.0),\n",
       " Row(party_id=114777631, id=214748371657, party_id_candidate=277549274.0),\n",
       " Row(party_id=133631, id=137438959311, party_id_candidate=206279.0),\n",
       " Row(party_id=133631, id=137438963575, party_id_candidate=206279.0),\n",
       " Row(party_id=133631, id=137438971911, party_id_candidate=206279.0),\n",
       " Row(party_id=133631, id=137438972275, party_id_candidate=206279.0),\n",
       " Row(party_id=133631, id=137438964775, party_id_candidate=206279.0),\n",
       " Row(party_id=133631, id=137438958411, party_id_candidate=206279.0),\n",
       " Row(party_id=5579631, id=60129545599, party_id_candidate=256534787.0),\n",
       " Row(party_id=5579631, id=60129550422, party_id_candidate=249714597.0),\n",
       " Row(party_id=5579631, id=335007454446, party_id_candidate=249714597.0),\n",
       " Row(party_id=5579631, id=94489288782, party_id_candidate=249714597.0),\n",
       " Row(party_id=253556631, id=377957130402, party_id_candidate=267937006.0),\n",
       " Row(party_id=273717631, id=266287980745, party_id_candidate=252925502.0),\n",
       " Row(party_id=133631, id=137438963759, party_id_candidate=206279.0),\n",
       " Row(party_id=133631, id=137438963995, party_id_candidate=206279.0),\n",
       " Row(party_id=133631, id=137438959195, party_id_candidate=206279.0),\n",
       " Row(party_id=133631, id=137438964659, party_id_candidate=206279.0),\n",
       " Row(party_id=257348631, id=188978575368, party_id_candidate=280864700.0),\n",
       " Row(party_id=257348631, id=188978578724, party_id_candidate=280864700.0),\n",
       " Row(party_id=38631, id=292057785927, party_id_candidate=171490.0),\n",
       " Row(party_id=38631, id=146028891905, party_id_candidate=250107934.0),\n",
       " Row(party_id=38631, id=146028891911, party_id_candidate=217565483.0),\n",
       " Row(party_id=38631, id=171798716731, party_id_candidate=237524087.0),\n",
       " Row(party_id=3946631, id=180388628673, party_id_candidate=11035361.0),\n",
       " Row(party_id=3946631, id=137438962087, party_id_candidate=11035361.0),\n",
       " Row(party_id=1046631, id=240518168943, party_id_candidate=229634.0),\n",
       " Row(party_id=114777631, id=214748371676, party_id_candidate=265144042.0),\n",
       " Row(party_id=69631, id=171798713527, party_id_candidate=108832.0),\n",
       " Row(party_id=133631, id=137438963585, party_id_candidate=206279.0),\n",
       " Row(party_id=133631, id=137438963949, party_id_candidate=206279.0),\n",
       " Row(party_id=133631, id=137438964185, party_id_candidate=206279.0),\n",
       " Row(party_id=133631, id=137438958485, party_id_candidate=206279.0),\n",
       " Row(party_id=133631, id=137438959149, party_id_candidate=206279.0),\n",
       " Row(party_id=194282631, id=111669154523, party_id_candidate=164060701.0),\n",
       " Row(party_id=273717631, id=266287980727, party_id_candidate=252925502.0),\n",
       " Row(party_id=38631, id=292057785929, party_id_candidate=237524087.0),\n",
       " Row(party_id=38631, id=128849031987, party_id_candidate=218493013.0),\n",
       " Row(party_id=38631, id=171798716733, party_id_candidate=3402161.0),\n",
       " Row(party_id=173182631, id=326417529855, party_id_candidate=277807796.0),\n",
       " Row(party_id=114777631, id=274877912961, party_id_candidate=277549274.0),\n",
       " Row(party_id=46196631, id=223338306897, party_id_candidate=217837056.0),\n",
       " Row(party_id=5579631, id=85899358126, party_id_candidate=248691667.0)]"
      ]
     },
     "execution_count": 9,
     "metadata": {},
     "output_type": "execute_result"
    }
   ],
   "source": [
    "expanded.take(50)"
   ]
  },
  {
   "cell_type": "code",
   "execution_count": 28,
   "metadata": {
    "collapsed": false
   },
   "outputs": [],
   "source": [
    "to_merge_savm = savm.select([\n",
    "        F.col('party_id').alias('party_id_candidate'),\n",
    "        F.col('sales_acct_id').alias('candidate_sales_acct_id')\n",
    "    ])\n",
    "\n",
    "lsh_savm_candidates = expanded.join(to_merge_savm, 'party_id_candidate').select(['id', 'party_id_candidate', 'candidate_sales_acct_id']).drop_duplicates()"
   ]
  },
  {
   "cell_type": "code",
   "execution_count": 29,
   "metadata": {
    "collapsed": false
   },
   "outputs": [],
   "source": [
    "lsh_savm_candidates.write.saveAsTable('ignite.lsh_savm_candidates_2', mode = 'overwrite')"
   ]
  },
  {
   "cell_type": "code",
   "execution_count": null,
   "metadata": {
    "collapsed": false
   },
   "outputs": [],
   "source": [
    "lsh_savm_candidates = sqlContext.sql(\"select * from ignite.lsh_savm_candidates_\")"
   ]
  },
  {
   "cell_type": "code",
   "execution_count": 25,
   "metadata": {
    "collapsed": false
   },
   "outputs": [
    {
     "data": {
      "text/plain": [
       "577738815"
      ]
     },
     "execution_count": 25,
     "metadata": {},
     "output_type": "execute_result"
    }
   ],
   "source": [
    "lsh_savm_candidates.count()"
   ]
  },
  {
   "cell_type": "code",
   "execution_count": 16,
   "metadata": {
    "collapsed": false
   },
   "outputs": [
    {
     "data": {
      "text/plain": [
       "[Row(id=111669160840, party_id_candidate=659341.0, candidate_sales_acct_id=203809296.0)]"
      ]
     },
     "execution_count": 16,
     "metadata": {},
     "output_type": "execute_result"
    }
   ],
   "source": [
    "lsh_savm_candidates.take(1)"
   ]
  },
  {
   "cell_type": "code",
   "execution_count": 17,
   "metadata": {
    "collapsed": false
   },
   "outputs": [],
   "source": [
    "all_parties_truth = all_parties.join(contest_data.select(['id', F.col('sales_acct_id').alias('truth_sales_acct_id')]), on = 'id')\n",
    "lsh_matching = all_parties_truth.join(lsh_savm_candidates, on = 'id').where(F.col('truth_sales_acct_id') == F.col('candidate_sales_acct_id')).drop_duplicates().cache()"
   ]
  },
  {
   "cell_type": "code",
   "execution_count": 11,
   "metadata": {
    "collapsed": false
   },
   "outputs": [
    {
     "data": {
      "text/plain": [
       "203204385"
      ]
     },
     "execution_count": 11,
     "metadata": {},
     "output_type": "execute_result"
    }
   ],
   "source": [
    "lsh_matching.count()"
   ]
  },
  {
   "cell_type": "code",
   "execution_count": 16,
   "metadata": {
    "collapsed": false
   },
   "outputs": [],
   "source": [
    "builder = lsh_savm_candidates.join(contest_data.select(['id', F.col('sales_acct_id').alias('truth_sales_acct_id')]), on = 'id')\n",
    "name_candidates = drop_columns(builder.where(F.col('candidate_sales_acct_id') == F.col('truth_sales_acct_id')), ['party_id']).cache()"
   ]
  },
  {
   "cell_type": "code",
   "execution_count": 69,
   "metadata": {
    "collapsed": false
   },
   "outputs": [
    {
     "data": {
      "text/plain": [
       "479164"
      ]
     },
     "execution_count": 69,
     "metadata": {},
     "output_type": "execute_result"
    }
   ],
   "source": [
    "name_candidates.select(['id']).distinct().count()"
   ]
  },
  {
   "cell_type": "code",
   "execution_count": 18,
   "metadata": {
    "collapsed": false
   },
   "outputs": [
    {
     "data": {
      "text/plain": [
       "588537"
      ]
     },
     "execution_count": 18,
     "metadata": {},
     "output_type": "execute_result"
    }
   ],
   "source": [
    "lsh_matching.select(['id']).distinct().count()"
   ]
  },
  {
   "cell_type": "code",
   "execution_count": 17,
   "metadata": {
    "collapsed": true
   },
   "outputs": [],
   "source": [
    "id_candidate_gen = sqlContext.sql(\"select * from ignite.savm_candidate_gen\")"
   ]
  },
  {
   "cell_type": "code",
   "execution_count": 18,
   "metadata": {
    "collapsed": false
   },
   "outputs": [],
   "source": [
    "builder = id_candidate_gen.join(contest_data.select(['id', F.col('sales_acct_id').alias('truth_sales_acct_id')]), on = 'id')\n",
    "id_candidates = builder.where(F.col('candidate_sales_acct_id') == F.col('truth_sales_acct_id')).cache()"
   ]
  },
  {
   "cell_type": "code",
   "execution_count": 19,
   "metadata": {
    "collapsed": false
   },
   "outputs": [
    {
     "data": {
      "text/plain": [
       "[Row(endcustomerlinefixed=u'CALPINE', pppk=113405770, fppk=677259, decision_date_time=u'2015-07-03 05:48:05.0', days_from_create_to_final_decision=20.208333, end_customer_party_ssot_party_id_int_sav_party_id=184948898, prior_party_ssot_party_id_int_sav_party_id=184948898, final_party_ssot_party_id_int_sav_party_id=2649467, type=u'Reviewed_and_modified', priorpartyname=u'CALPINE', finalpartyname=u'CALPINE CORPORATION', sales_order_key=23867682, sales_order_line_key=235827955, so_number_int=100729935, end_customer_key_line_level=52302581, end_customer_key_order_level=14654135, dd_end_customer_type_order_level=u'ACCOUNT_LOCATION                                  ', purchase_order_type_code=u'Resale', purchase_order_number=u'38504904-01', order_datetime=u'2015-06-13 00:05:58.0', oracle_book_datetime=u'2015-06-12 17:38:00.0', transactional_currency_code=u'USD            ', customer_service_rep_name=u'null', cust_svc_rep_team_name=u'null', conversion_type_code=u'Corporate', original_system_reference_code=u'CSCC8535637', submitted_on_web_by_name=u'-1', deal_id=u'15060471', price_list_name=u'Global Price List', so_source_name=u'SCCEXT', order_type_name=u'Invoice Only Cisco - US', so_src_crt_datetime=u'2015-06-12 17:09:38.0', sales_channel_code=u'Value Added Resellers', sales_channel_source_type=u'ERP             ', sales_order_category_type=u'ORDER ', ship_to_customer_key=14654135, bill_to_customer_key=11852166, sold_to_customer_key=8750647, ss_code=u'CG      ', end_ssp_date=u'3500-01-01 00:00:00.0', ru_bk_orig_sales_order_key=-9999, so_created_by_erp_user_name=u'CCWADM', so_modified_by_erp_user_name=u'ASHAMHEG', sk_sales_order_header_id_int=602307242, sales_order_program_type_name=u'Invoice Only', sales_acct_id=203684886.0, id=335007449088)]"
      ]
     },
     "execution_count": 19,
     "metadata": {},
     "output_type": "execute_result"
    }
   ],
   "source": [
    "contest_data.take(1)"
   ]
  },
  {
   "cell_type": "code",
   "execution_count": 20,
   "metadata": {
    "collapsed": false
   },
   "outputs": [],
   "source": [
    "exact_match = contest_data.select(['id', 'priorpartyname', F.col('sales_acct_id').alias('truth_sales_acct_id')]).join(savm.select(['party_name', F.col('sales_acct_id').alias('candidate_sales_acct_id')]), F.col('priorpartyname') == F.col('party_name'))\n",
    "exact_match_candidates = exact_match.where(F.col('candidate_sales_acct_id') == F.col('truth_sales_acct_id')).cache()"
   ]
  },
  {
   "cell_type": "code",
   "execution_count": 21,
   "metadata": {
    "collapsed": false
   },
   "outputs": [
    {
     "data": {
      "text/plain": [
       "584740"
      ]
     },
     "execution_count": 21,
     "metadata": {},
     "output_type": "execute_result"
    }
   ],
   "source": [
    "exact_match_candidates.select(['id']).distinct().count()"
   ]
  },
  {
   "cell_type": "code",
   "execution_count": 136,
   "metadata": {
    "collapsed": false
   },
   "outputs": [
    {
     "data": {
      "text/plain": [
       "0"
      ]
     },
     "execution_count": 136,
     "metadata": {},
     "output_type": "execute_result"
    }
   ],
   "source": [
    "exact_match_candidates.count()"
   ]
  },
  {
   "cell_type": "code",
   "execution_count": 22,
   "metadata": {
    "collapsed": false
   },
   "outputs": [],
   "source": [
    "all_candidates = id_candidates.select(['id']).unionAll(lsh_matching.select(['id'])).unionAll(exact_match_candidates.select(['id'])) \\\n",
    "                    .distinct().withColumn(\"matching\", F.lit(1))"
   ]
  },
  {
   "cell_type": "code",
   "execution_count": 28,
   "metadata": {
    "collapsed": false
   },
   "outputs": [
    {
     "data": {
      "text/plain": [
       "DataFrame[id: bigint, candidate_sales_acct_id: double, truth_sales_acct_id: double]"
      ]
     },
     "execution_count": 28,
     "metadata": {},
     "output_type": "execute_result"
    }
   ],
   "source": [
    "id_candidates"
   ]
  },
  {
   "cell_type": "code",
   "execution_count": 23,
   "metadata": {
    "collapsed": false
   },
   "outputs": [
    {
     "data": {
      "text/plain": [
       "783466"
      ]
     },
     "execution_count": 23,
     "metadata": {},
     "output_type": "execute_result"
    }
   ],
   "source": [
    "all_candidates.count()"
   ]
  },
  {
   "cell_type": "code",
   "execution_count": 147,
   "metadata": {
    "collapsed": false
   },
   "outputs": [
    {
     "data": {
      "text/plain": [
       "783466"
      ]
     },
     "execution_count": 147,
     "metadata": {},
     "output_type": "execute_result"
    }
   ],
   "source": [
    "all_candidates.count()"
   ]
  },
  {
   "cell_type": "code",
   "execution_count": 24,
   "metadata": {
    "collapsed": false
   },
   "outputs": [],
   "source": [
    "joined_status = all_parties.join(all_candidates, on = 'id', how = 'left').write.saveAsTable(\"ignite.candidate_match_status\")"
   ]
  },
  {
   "cell_type": "code",
   "execution_count": 121,
   "metadata": {
    "collapsed": false
   },
   "outputs": [
    {
     "data": {
      "text/plain": [
       "[Row(id=34359743991, party_id=156785794, matching=None),\n",
       " Row(id=34359743991, party_id=258022883, matching=None),\n",
       " Row(id=34359743991, party_id=12228, matching=None),\n",
       " Row(id=34359743991, party_id=173869477, matching=None),\n",
       " Row(id=34359743991, party_id=6145705, matching=None),\n",
       " Row(id=34359743991, party_id=147183, matching=None),\n",
       " Row(id=34359743991, party_id=6320533, matching=None),\n",
       " Row(id=34359743991, party_id=29115, matching=None),\n",
       " Row(id=34359749991, party_id=211370296, matching=None),\n",
       " Row(id=34359749991, party_id=137264, matching=None),\n",
       " Row(id=34359749991, party_id=180734435, matching=None),\n",
       " Row(id=34359749991, party_id=9219126, matching=None),\n",
       " Row(id=34359749991, party_id=145942526, matching=None),\n",
       " Row(id=51539609171, party_id=184813954, matching=None),\n",
       " Row(id=51539609171, party_id=221424901, matching=None),\n",
       " Row(id=51539609171, party_id=148557874, matching=None),\n",
       " Row(id=51539609171, party_id=38265556, matching=None),\n",
       " Row(id=51539609171, party_id=157246237, matching=None),\n",
       " Row(id=51539609171, party_id=256886462, matching=None),\n",
       " Row(id=51539618187, party_id=13347, matching=None),\n",
       " Row(id=51539618187, party_id=113418, matching=None),\n",
       " Row(id=51539618187, party_id=216739308, matching=None),\n",
       " Row(id=51539618187, party_id=2141133, matching=None),\n",
       " Row(id=51539618187, party_id=53685, matching=None),\n",
       " Row(id=51539618187, party_id=448310, matching=None),\n",
       " Row(id=51539618187, party_id=112764, matching=None),\n",
       " Row(id=51539618187, party_id=45471, matching=None),\n",
       " Row(id=68719481351, party_id=62691584, matching=None),\n",
       " Row(id=68719481351, party_id=232645475, matching=None),\n",
       " Row(id=68719481351, party_id=62492, matching=None),\n",
       " Row(id=68719481351, party_id=4534602, matching=None),\n",
       " Row(id=68719481351, party_id=171116206, matching=None),\n",
       " Row(id=68719481351, party_id=232647988, matching=None),\n",
       " Row(id=68719481351, party_id=70601, matching=None),\n",
       " Row(id=68719481351, party_id=10492, matching=None),\n",
       " Row(id=68719483383, party_id=255293824, matching=None),\n",
       " Row(id=68719483383, party_id=258479969, matching=None),\n",
       " Row(id=68719483383, party_id=10821154, matching=None),\n",
       " Row(id=68719483383, party_id=174622920, matching=None),\n",
       " Row(id=68719483383, party_id=11813675, matching=None),\n",
       " Row(id=68719483383, party_id=None, matching=None),\n",
       " Row(id=68719483383, party_id=257535567, matching=None),\n",
       " Row(id=68719483383, party_id=40733224, matching=None),\n",
       " Row(id=68719483383, party_id=264985204, matching=None),\n",
       " Row(id=68719483383, party_id=2679967, matching=None),\n",
       " Row(id=111669157333, party_id=32234784, matching=None),\n",
       " Row(id=111669157333, party_id=52428, matching=None),\n",
       " Row(id=111669157333, party_id=9163091, matching=None),\n",
       " Row(id=111669157333, party_id=224921004, matching=None),\n",
       " Row(id=111669158317, party_id=32234784, matching=None),\n",
       " Row(id=111669158317, party_id=52428, matching=None),\n",
       " Row(id=111669158317, party_id=9163091, matching=None),\n",
       " Row(id=111669158317, party_id=224921004, matching=None),\n",
       " Row(id=111669162317, party_id=32234784, matching=None),\n",
       " Row(id=111669162317, party_id=52428, matching=None),\n",
       " Row(id=111669162317, party_id=9163091, matching=None),\n",
       " Row(id=111669162317, party_id=224921004, matching=None),\n",
       " Row(id=120259086939, party_id=9094601, matching=None),\n",
       " Row(id=120259086939, party_id=45379, matching=None),\n",
       " Row(id=120259086939, party_id=245040261, matching=None),\n",
       " Row(id=120259086939, party_id=171165710, matching=None),\n",
       " Row(id=120259086939, party_id=177123397, matching=None),\n",
       " Row(id=128849024481, party_id=15501, matching=None),\n",
       " Row(id=128849024481, party_id=89515073, matching=None),\n",
       " Row(id=128849024481, party_id=45471, matching=None),\n",
       " Row(id=128849024481, party_id=232026965, matching=None),\n",
       " Row(id=128849024481, party_id=229396551, matching=None),\n",
       " Row(id=128849026513, party_id=224925062, matching=None),\n",
       " Row(id=128849026513, party_id=50890, matching=None),\n",
       " Row(id=128849026513, party_id=37958251, matching=None),\n",
       " Row(id=128849026513, party_id=4605518, matching=None),\n",
       " Row(id=128849026513, party_id=220250353, matching=None),\n",
       " Row(id=128849026513, party_id=26382, matching=None),\n",
       " Row(id=128849026513, party_id=160734456, matching=None),\n",
       " Row(id=137438965071, party_id=222207504, matching=None),\n",
       " Row(id=137438965071, party_id=300752360, matching=None),\n",
       " Row(id=137438965071, party_id=247335852, matching=None),\n",
       " Row(id=137438965071, party_id=89308798, matching=None),\n",
       " Row(id=137438965071, party_id=52503, matching=None),\n",
       " Row(id=154618837251, party_id=276972034, matching=None),\n",
       " Row(id=154618837251, party_id=157014471, matching=None),\n",
       " Row(id=154618837251, party_id=97073, matching=None),\n",
       " Row(id=154618837251, party_id=129554, matching=None),\n",
       " Row(id=154618837251, party_id=139723356, matching=None),\n",
       " Row(id=154618837251, party_id=91935, matching=None),\n",
       " Row(id=163208757841, party_id=247695620, matching=None),\n",
       " Row(id=163208757841, party_id=224925062, matching=None),\n",
       " Row(id=163208757841, party_id=50890, matching=None),\n",
       " Row(id=163208757841, party_id=4605518, matching=None),\n",
       " Row(id=163208757841, party_id=215589842, matching=None),\n",
       " Row(id=163208757841, party_id=26382, matching=None),\n",
       " Row(id=163208757841, party_id=160734456, matching=None),\n",
       " Row(id=163208760841, party_id=32234784, matching=None),\n",
       " Row(id=163208760841, party_id=236040449, matching=None),\n",
       " Row(id=163208760841, party_id=52428, matching=None),\n",
       " Row(id=163208760841, party_id=15501, matching=None),\n",
       " Row(id=163208760841, party_id=9163091, matching=None),\n",
       " Row(id=163208760841, party_id=45471, matching=None),\n",
       " Row(id=163208766905, party_id=78855000, matching=None),\n",
       " Row(id=163208766905, party_id=137264, matching=None)]"
      ]
     },
     "execution_count": 121,
     "metadata": {},
     "output_type": "execute_result"
    }
   ],
   "source": [
    "joined_status.take(100)"
   ]
  },
  {
   "cell_type": "code",
   "execution_count": null,
   "metadata": {
    "collapsed": true
   },
   "outputs": [],
   "source": [
    "savm.where(F.col('party_id') == 37578708).take(1)"
   ]
  },
  {
   "cell_type": "code",
   "execution_count": 130,
   "metadata": {
    "collapsed": false
   },
   "outputs": [
    {
     "data": {
      "text/plain": [
       "[Row(endcustomerlinefixed=u'KLOCKNER PENTAPLAST GMBH', pppk=76882999, fppk=3640090, decision_date_time=u'2016-03-18 10:09:53.0', days_from_create_to_final_decision=1.208333, end_customer_party_ssot_party_id_int_sav_party_id=139723356, prior_party_ssot_party_id_int_sav_party_id=139723356, final_party_ssot_party_id_int_sav_party_id=2918281, type=u'Reviewed_and_modified', priorpartyname=u'KLOCKNER PENTAPLAST GMBH', finalpartyname=u'KIRKBI AS', sales_order_key=25434223, sales_order_line_key=256363324, so_number_int=102111415, end_customer_key_line_level=71002271, end_customer_key_order_level=71002271, dd_end_customer_type_order_level=u'ACCOUNT_LOCATION                                  ', purchase_order_type_code=u'Managed Service', purchase_order_number=u'8110259096', order_datetime=u'2016-03-17 05:24:46.0', oracle_book_datetime=u'2016-03-17 05:25:28.0', transactional_currency_code=u'USD            ', customer_service_rep_name=u'null', cust_svc_rep_team_name=u'null', conversion_type_code=u'Corporate', original_system_reference_code=u'66904047', submitted_on_web_by_name=u'sscciscospain', deal_id=u'22563105', price_list_name=u'Global Price List - EMEA', so_source_name=u'Commerce Workspace', order_type_name=u'Standard Cisco - UKH', so_src_crt_datetime=u'2016-03-17 05:25:16.0', sales_channel_code=u'Unknown', sales_channel_source_type=u'ERP             ', sales_order_category_type=u'ORDER ', ship_to_customer_key=71002271, bill_to_customer_key=42378860, sold_to_customer_key=9202693, ss_code=u'CG      ', end_ssp_date=u'3500-01-01 00:00:00.0', ru_bk_orig_sales_order_key=-9999, so_created_by_erp_user_name=u'CCWADM', so_modified_by_erp_user_name=u'BISMOHAN', sk_sales_order_header_id_int=606847772, sales_order_program_type_name=u'Standard', sales_acct_id=203899636.0, id=154618837251)]"
      ]
     },
     "execution_count": 130,
     "metadata": {},
     "output_type": "execute_result"
    }
   ],
   "source": [
    "contest_data.where(F.col('id') == 154618837251).take(1)"
   ]
  },
  {
   "cell_type": "code",
   "execution_count": null,
   "metadata": {
    "collapsed": true
   },
   "outputs": [],
   "source": []
  }
 ],
 "metadata": {
  "kernelspec": {
   "display_name": "Python 2",
   "language": "python",
   "name": "python2"
  },
  "language_info": {
   "codemirror_mode": {
    "name": "ipython",
    "version": 2
   },
   "file_extension": ".py",
   "mimetype": "text/x-python",
   "name": "python",
   "nbconvert_exporter": "python",
   "pygments_lexer": "ipython2",
   "version": "2.7.11"
  }
 },
 "nbformat": 4,
 "nbformat_minor": 0
}
