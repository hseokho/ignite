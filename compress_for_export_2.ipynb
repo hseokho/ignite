{
 "cells": [
  {
   "cell_type": "code",
   "execution_count": 1,
   "metadata": {
    "collapsed": true
   },
   "outputs": [],
   "source": [
    "from pyspark.sql import functions as F\n",
    "from pyspark.sql.types import *\n",
    "\n",
    "from pyspark.sql import Row"
   ]
  },
  {
   "cell_type": "code",
   "execution_count": 21,
   "metadata": {
    "collapsed": true
   },
   "outputs": [],
   "source": [
    "contest_sol_end_customer = sqlContext.sql('select * from edso_ignite.contest_savm').repartition(100).cache()"
   ]
  },
  {
   "cell_type": "code",
   "execution_count": 33,
   "metadata": {
    "collapsed": true
   },
   "outputs": [],
   "source": [
    "contest_sol_end_customer = contest_sol_end_customer.select([c for c in contest_sol_end_customer.columns if c != 'province'])"
   ]
  },
  {
   "cell_type": "code",
   "execution_count": 31,
   "metadata": {
    "collapsed": false
   },
   "outputs": [
    {
     "data": {
      "text/plain": [
       "[Row(party_id=1052727.0, parent_party_id=42499.0, party_name=u'PIZZA HUT, INC.', node_type=u'BR', address1=u'616 N 15TH ST', address2=None, address3=None, address4=None, city=u'FORT DODGE', county=u'WEBSTER', state=u'IA', province=None, postal_code=u'50501', postal_code_extn=u'3322', country_code=u'US', street_name=u'15TH', street_number=u'616', street_direction=u'N', street_type=u'ST', geo_valid_status=u'GEO_VALID', completenes_status=u'COMPLETE', cleansed_status=u'CLEANSED', start_date=u'2002-11-12 04:57:20.0', end_date=u'4712-12-31 00:00:00.0', program_id=None, request_id=None, created_by=1116.0, last_updated_by=332355.0, creation_date=u'2002-11-12 04:57:20.0', last_update_date=u'2014-11-16 13:31:33.0', certified_date=u'2009-04-13 03:54:19.0', site_expl_id=479696471.0, conflict_batch_id=87615798.0, sa_member_id=3755080.0, parent_sa_member_id=-1.0, party_level=2.0, link_party_id=42499.0, link_party_type=u'ORGANIZATION', split_pct=50.0, sales_acct_id=252629163.0, operation_type=u'INSERT', account_type=u'NAMED_ACCOUNT', account_sub_type=u'DR'),\n",
       " Row(party_id=1062433.0, parent_party_id=181690.0, party_name=u'OKLAHOMA OFFICE OF MANAGEMENT AND ENTERPRISE SERVICES', node_type=u'BR', address1=u'2501 N LINCOLN BLVD', address2=None, address3=None, address4=None, city=u'OKLAHOMA CITY', county=u'OKLAHOMA', state=u'OK', province=None, postal_code=u'73194', postal_code_extn=u'4301', country_code=u'US', street_name=u'LINCOLN', street_number=u'2501', street_direction=u'N', street_type=u'BLVD', geo_valid_status=u'GEO_VALID', completenes_status=u'COMPLETE', cleansed_status=u'CLEANSED', start_date=u'2002-11-12 04:09:37.0', end_date=u'4712-12-31 00:00:00.0', program_id=None, request_id=None, created_by=1116.0, last_updated_by=332355.0, creation_date=u'2002-11-12 04:09:37.0', last_update_date=u'2014-11-16 13:29:48.0', certified_date=u'2014-02-15 08:42:04.0', site_expl_id=438883253.0, conflict_batch_id=82205593.0, sa_member_id=3355673.0, parent_sa_member_id=-1.0, party_level=4.0, link_party_id=24182.0, link_party_type=u'ORGANIZATION', split_pct=100.0, sales_acct_id=203756976.0, operation_type=u'INSERT', account_type=u'NAMED_ACCOUNT', account_sub_type=u'DR'),\n",
       " Row(party_id=1071265.0, parent_party_id=10016.0, party_name=u'CUMBERLAND FARMS, INC.', node_type=u'BR', address1=u'4887 STATE ROUTE 81', address2=None, address3=None, address4=None, city=u'GREENVILLE', county=u'GREENE', state=u'NY', province=None, postal_code=u'12083', postal_code_extn=None, country_code=u'US', street_name=u'STATE ROUTE 81', street_number=u'4887', street_direction=None, street_type=None, geo_valid_status=u'GEO_VALID', completenes_status=u'COMPLETE', cleansed_status=u'CLEANSED', start_date=u'2002-11-12 04:26:27.0', end_date=u'4712-12-31 00:00:00.0', program_id=None, request_id=None, created_by=1116.0, last_updated_by=332355.0, creation_date=u'2002-11-12 04:26:27.0', last_update_date=u'2014-11-16 13:29:54.0', certified_date=u'2011-06-17 19:34:04.0', site_expl_id=393340898.0, conflict_batch_id=56405909.0, sa_member_id=943585.0, parent_sa_member_id=-1.0, party_level=2.0, link_party_id=10016.0, link_party_type=u'ORGANIZATION', split_pct=100.0, sales_acct_id=203889384.0, operation_type=u'INSERT', account_type=u'NAMED_ACCOUNT', account_sub_type=u'DR'),\n",
       " Row(party_id=2107006.0, parent_party_id=15501.0, party_name=u'AT&T CORP', node_type=u'BR', address1=u'11501 EAST FINLEY DRIVE', address2=None, address3=None, address4=None, city=u'MAYER', county=u'YAVAPAI', state=u'AZ', province=None, postal_code=u'86333', postal_code_extn=None, country_code=u'US', street_name=u'FINLEY', street_number=u'11501', street_direction=u'EAST', street_type=u'DR', geo_valid_status=u'GEO_VALID', completenes_status=u'COMPLETE', cleansed_status=u'NOT_CLEANSED', start_date=u'2002-11-12 05:08:24.0', end_date=u'4712-12-31 00:00:00.0', program_id=44953.0, request_id=12460907.0, created_by=1116.0, last_updated_by=307954.0, creation_date=u'2002-11-12 05:08:24.0', last_update_date=u'2006-12-03 21:56:54.0', certified_date=u'2004-06-08 17:11:33.0', site_expl_id=424875675.0, conflict_batch_id=75350838.0, sa_member_id=3348913.0, parent_sa_member_id=-1.0, party_level=3.0, link_party_id=45471.0, link_party_type=u'ORGANIZATION', split_pct=100.0, sales_acct_id=215394434.0, operation_type=u'INSERT', account_type=u'NAMED_ACCOUNT', account_sub_type=u'DR'),\n",
       " Row(party_id=2116114.0, parent_party_id=16667.0, party_name=u'GTE SOUTHWEST INCORPORATED', node_type=u'BR', address1=u'402 SCOTT DR', address2=u'UNIT 1L8', address3=None, address4=None, city=u'SCOTT AIR FORCE BASE', county=u'SAINT CLAIR', state=u'IL', province=None, postal_code=u'62225', postal_code_extn=u'5300', country_code=u'US', street_name=u'SCOTT', street_number=u'402', street_direction=None, street_type=u'DR', geo_valid_status=u'GEO_VALID', completenes_status=u'COMPLETE', cleansed_status=u'CLEANSED', start_date=u'2002-11-12 05:13:44.0', end_date=u'4712-12-31 00:00:00.0', program_id=44953.0, request_id=12382655.0, created_by=1116.0, last_updated_by=305158.0, creation_date=u'2002-11-12 05:13:44.0', last_update_date=u'2006-11-29 14:22:05.0', certified_date=u'2004-06-08 17:15:37.0', site_expl_id=410270102.0, conflict_batch_id=68993703.0, sa_member_id=3282918.0, parent_sa_member_id=-1.0, party_level=4.0, link_party_id=45267.0, link_party_type=u'ORGANIZATION', split_pct=100.0, sales_acct_id=203700701.0, operation_type=u'INSERT', account_type=u'NAMED_ACCOUNT', account_sub_type=u'DR')]"
      ]
     },
     "execution_count": 31,
     "metadata": {},
     "output_type": "execute_result"
    }
   ],
   "source": [
    "contest_sol_end_customer.take(5)"
   ]
  },
  {
   "cell_type": "code",
   "execution_count": 27,
   "metadata": {
    "collapsed": false
   },
   "outputs": [
    {
     "data": {
      "text/plain": [
       "12197836"
      ]
     },
     "execution_count": 27,
     "metadata": {},
     "output_type": "execute_result"
    }
   ],
   "source": [
    "contest_sol_end_customer.count()"
   ]
  },
  {
   "cell_type": "code",
   "execution_count": 32,
   "metadata": {
    "collapsed": false
   },
   "outputs": [
    {
     "data": {
      "text/plain": [
       "12197836"
      ]
     },
     "execution_count": 32,
     "metadata": {},
     "output_type": "execute_result"
    }
   ],
   "source": [
    "contest_sol_end_customer.where(F.col('province').isNull()).count()"
   ]
  },
  {
   "cell_type": "code",
   "execution_count": 34,
   "metadata": {
    "collapsed": false
   },
   "outputs": [],
   "source": [
    "\n",
    "grouped = contest_sol_end_customer.map(lambda x : (x.party_id / 100, x)).groupByKey().mapValues(lambda x : [row.asDict().values() for row in x]).cache()\n"
   ]
  },
  {
   "cell_type": "code",
   "execution_count": 35,
   "metadata": {
    "collapsed": false
   },
   "outputs": [],
   "source": [
    "grouped.toDF(['key', 'list'], sampleRatio = 1).select(['list']).write.saveAsTable(\"ignite.contest_savm_compressed\", mode = 'overwrite')"
   ]
  },
  {
   "cell_type": "code",
   "execution_count": null,
   "metadata": {
    "collapsed": true
   },
   "outputs": [],
   "source": []
  }
 ],
 "metadata": {
  "kernelspec": {
   "display_name": "Python 2",
   "language": "python",
   "name": "python2"
  },
  "language_info": {
   "codemirror_mode": {
    "name": "ipython",
    "version": 2
   },
   "file_extension": ".py",
   "mimetype": "text/x-python",
   "name": "python",
   "nbconvert_exporter": "python",
   "pygments_lexer": "ipython2",
   "version": "2.7.11"
  }
 },
 "nbformat": 4,
 "nbformat_minor": 0
}
