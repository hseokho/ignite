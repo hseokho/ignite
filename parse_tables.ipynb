{
 "cells": [
  {
   "cell_type": "code",
   "execution_count": 1,
   "metadata": {
    "collapsed": true
   },
   "outputs": [],
   "source": [
    "from pyspark.sql import functions as F\n",
    "from pyspark.sql.types import *\n",
    "from pyspark.sql import Row\n",
    "\n",
    "from pyspark.ml.feature import StringIndexer, OneHotEncoder, VectorIndexer, VectorAssembler\n",
    "from pyspark.ml import Pipeline\n",
    "from pyspark.mllib.regression import LabeledPoint\n",
    "from pyspark.mllib.tree import GradientBoostedTrees\n",
    "from pyspark.mllib.tree import RandomForest\n",
    "from pyspark.mllib.classification import SVMWithSGD\n",
    "from pyspark.mllib.classification import LogisticRegressionWithSGD\n",
    "from pyspark.mllib.linalg.distributed import IndexedRow, IndexedRowMatrix\n",
    "from pyspark.mllib.linalg import Vectors, DenseVector, SparseVector\n",
    "from pyspark.ml.regression import GBTRegressor\n",
    "from pyspark.ml.tuning import CrossValidator, ParamGridBuilder\n",
    "from pyspark.ml.evaluation import RegressionEvaluator\n",
    "from pyspark.ml.feature import HashingTF, IDF, Tokenizer\n",
    "\n",
    "import pandas as pd\n",
    "import numpy as np\n",
    "from IPython.display import display\n",
    "\n",
    "from collections import defaultdict, Counter\n",
    "from sklearn import metrics\n",
    "from datetime import datetime"
   ]
  },
  {
   "cell_type": "code",
   "execution_count": 2,
   "metadata": {
    "collapsed": true
   },
   "outputs": [],
   "source": [
    "# consider consecutive dots, i.e. K.F.C.\n",
    "def clean_name(name):\n",
    "    name = name.replace(\"-\", \" \").replace(\",\", \" \").replace(\"-\", \" \").replace(\"/\", \" \").replace(\"(\", \" \").replace(\")\", \" \")\n",
    "    name = name.replace('. ', \" \").lower()\n",
    "    return ' '.join(name.split())\n",
    "\n",
    "def apply_function(df, fields, function):\n",
    "    column_objects = []\n",
    "    for column in df.columns:\n",
    "        if column in fields:\n",
    "            column_objects.append(function(column))\n",
    "        else:\n",
    "            column_objects.append(column)\n",
    "    return df.select(column_objects)\n",
    "\n",
    "max_date = pd.datetime.today()\n",
    "\n",
    "def parse_datetime(column):\n",
    "    return F.udf(lambda x : datetime.strptime(x, \"%Y-%m-%d %H:%M:%S.0\"), DateType())(F.col(column)).alias(column)"
   ]
  },
  {
   "cell_type": "code",
   "execution_count": 28,
   "metadata": {
    "collapsed": false
   },
   "outputs": [],
   "source": [
    "cr = sqlContext.sql(\"select * from edso_ignite.contest_cr\").repartition(100).cache()\n",
    "builder = cr.withColumn('cleaned_name', F.udf(clean_name, StringType())(F.col('party_name')))\n",
    "builder = Tokenizer(inputCol = 'cleaned_name', outputCol = 'tokenized_name').transform(builder)\n",
    "builder = apply_function(builder, ['creation_date', 'last_update_date'], parse_datetime)\n",
    "builder.write.saveAsTable(\"ignite.cr_parsed\", mode = 'overwrite')"
   ]
  },
  {
   "cell_type": "code",
   "execution_count": 4,
   "metadata": {
    "collapsed": false
   },
   "outputs": [
    {
     "data": {
      "text/plain": [
       "[Row(party_id=1052351.0, parent_party_id=42499.0, party_name=u'PIZZA HUT, INC.', node_type=u'BR', address1=u'7491 SAINT ANDREWS RD', address2=None, address3=None, address4=None, city=u'IRMO', county=u'RICHLAND', state=u'SC', province=None, postal_code=u'29063', postal_code_extn=u'2857', country_code=u'US', street_name=u'SAINT ANDREWS', street_number=u'7491', street_direction=None, street_type=u'RD', geo_valid_status=u'GEO_VALID', completenes_status=u'COMPLETE', cleansed_status=u'CLEANSED', start_date=u'2002-11-12 04:56:43.0', end_date=u'4712-12-31 00:00:00.0', program_id=None, request_id=None, created_by=1116.0, last_updated_by=-1.0, creation_date=datetime.date(2002, 11, 12), last_update_date=datetime.date(2012, 12, 26), certified_date=u'2012-12-26 04:01:31.0', site_expl_id=479699542.0, conflict_batch_id=87615898.0, sa_member_id=3755144.0, parent_sa_member_id=-1.0, party_level=2.0, link_party_id=42499.0, link_party_type=u'ORGANIZATION', split_pct=50.0, sales_acct_id=276652661.0, operation_type=u'INSERT', account_type=u'NAMED_ACCOUNT', account_sub_type=u'DR'),\n",
       " Row(party_id=1059619.0, parent_party_id=51473.0, party_name=u'STAPLES INC', node_type=u'BR', address1=u'2640 N RESERVE ST', address2=u'STE 2', address3=None, address4=None, city=u'MISSOULA', county=u'MISSOULA', state=u'MT', province=None, postal_code=u'59808', postal_code_extn=u'1397', country_code=u'US', street_name=u'RESERVE', street_number=u'2640', street_direction=u'N', street_type=u'ST', geo_valid_status=u'GEO_VALID', completenes_status=u'COMPLETE', cleansed_status=u'CLEANSED', start_date=u'2002-11-12 04:04:47.0', end_date=u'4712-12-31 00:00:00.0', program_id=None, request_id=None, created_by=1116.0, last_updated_by=332355.0, creation_date=datetime.date(2002, 11, 12), last_update_date=datetime.date(2014, 11, 20), certified_date=u'2014-11-20 21:18:04.0', site_expl_id=440898691.0, conflict_batch_id=83453370.0, sa_member_id=2332393.0, parent_sa_member_id=105653.0, party_level=3.0, link_party_id=203673153.0, link_party_type=u'TEMPLATE', split_pct=100.0, sales_acct_id=203835337.0, operation_type=u'UPDATE', account_type=u'NAMED_ACCOUNT', account_sub_type=u'DR'),\n",
       " Row(party_id=1070429.0, parent_party_id=223125.0, party_name=u'ATRIA SENIOR LIVING GROUP INC', node_type=u'BR', address1=u'3061 DONNELLY DR', address2=u'OFC', address3=None, address4=None, city=u'LAKE WORTH', county=u'PALM BEACH', state=u'FL', province=None, postal_code=u'33462', postal_code_extn=u'6422', country_code=u'US', street_name=u'DONNELLY', street_number=u'3061', street_direction=None, street_type=u'DR', geo_valid_status=u'GEO_VALID', completenes_status=u'COMPLETE', cleansed_status=u'CLEANSED', start_date=u'2002-11-12 04:24:57.0', end_date=u'4712-12-31 00:00:00.0', program_id=None, request_id=None, created_by=1116.0, last_updated_by=332355.0, creation_date=datetime.date(2002, 11, 12), last_update_date=datetime.date(2014, 11, 20), certified_date=u'2014-11-20 21:18:52.0', site_expl_id=457693074.0, conflict_batch_id=85063231.0, sa_member_id=1156921.0, parent_sa_member_id=-1.0, party_level=2.0, link_party_id=223125.0, link_party_type=u'ORGANIZATION', split_pct=100.0, sales_acct_id=203849396.0, operation_type=u'INSERT', account_type=u'NAMED_ACCOUNT', account_sub_type=u'DR'),\n",
       " Row(party_id=2113062.0, parent_party_id=47981.0, party_name=u'BELL ATLANTIC GLOBAL WIRELESS, INC', node_type=u'BR', address1=u'12355 SUNRISE VALLEY DR', address2=None, address3=None, address4=None, city=u'RESTON', county=u'FAIRFAX', state=u'VA', province=None, postal_code=u'20191', postal_code_extn=u'3467', country_code=u'US', street_name=u'SUNRISE VALLEY', street_number=u'12355', street_direction=None, street_type=u'DR', geo_valid_status=u'GEO_VALID', completenes_status=u'COMPLETE', cleansed_status=u'CLEANSED', start_date=u'2002-11-12 05:12:12.0', end_date=u'4712-12-31 00:00:00.0', program_id=44953.0, request_id=12442896.0, created_by=1116.0, last_updated_by=305158.0, creation_date=datetime.date(2002, 11, 12), last_update_date=datetime.date(2006, 12, 2), certified_date=u'2004-06-08 17:12:42.0', site_expl_id=472769525.0, conflict_batch_id=87058432.0, sa_member_id=3283017.0, parent_sa_member_id=-1.0, party_level=3.0, link_party_id=45267.0, link_party_type=u'ORGANIZATION', split_pct=100.0, sales_acct_id=212440004.0, operation_type=u'INSERT', account_type=u'NAMED_ACCOUNT', account_sub_type=u'DR'),\n",
       " Row(party_id=2126127.0, parent_party_id=None, party_name=u'ASTRALTECH INC', node_type=u'HQ', address1=u'2100 STE-CATHERINE O BUR', address2=None, address3=None, address4=None, city=u'MONTREAL', county=None, state=u'QC', province=None, postal_code=u'H3H 2T3', postal_code_extn=None, country_code=u'CA', street_name=u'SAINTE-CATHERINE', street_number=u'2100', street_direction=u'OUEST', street_type=u'RUE', geo_valid_status=u'GEO_VALID', completenes_status=u'COMPLETE', cleansed_status=u'CLEANSED', start_date=u'2002-11-12 04:28:59.0', end_date=None, program_id=44953.0, request_id=12479069.0, created_by=1116.0, last_updated_by=307954.0, creation_date=datetime.date(2002, 11, 12), last_update_date=datetime.date(2006, 12, 4), certified_date=u'2006-12-04 19:12:50.0', site_expl_id=331679155.0, conflict_batch_id=38485664.0, sa_member_id=1282695.0, parent_sa_member_id=-1.0, party_level=1.0, link_party_id=2126127.0, link_party_type=u'ORGANIZATION', split_pct=100.0, sales_acct_id=203844064.0, operation_type=u'INSERT', account_type=u'NAMED_ACCOUNT', account_sub_type=u'DR'),\n",
       " Row(party_id=2146734.0, parent_party_id=2145118.0, party_name=u'NEDSTER BV', node_type=u'HQ', address1=u'DE SCHAKEL 30', address2=None, address3=None, address4=None, city=u'EINDHOVEN', county=None, state=u'NOORD-BRABANT', province=None, postal_code=u'5651GH', postal_code_extn=None, country_code=u'NL', street_name=u'DE SCHAKEL', street_number=u'30', street_direction=None, street_type=None, geo_valid_status=u'GEO_VALID', completenes_status=u'COMPLETE', cleansed_status=u'CLEANSED', start_date=u'2002-11-12 04:02:13.0', end_date=u'4712-12-31 00:00:01.0', program_id=None, request_id=None, created_by=1116.0, last_updated_by=332355.0, creation_date=datetime.date(2002, 11, 12), last_update_date=datetime.date(2015, 3, 23), certified_date=u'2015-03-23 03:23:06.0', site_expl_id=460552098.0, conflict_batch_id=85395895.0, sa_member_id=1853125.0, parent_sa_member_id=-1.0, party_level=1.0, link_party_id=2146734.0, link_party_type=u'ORGANIZATION', split_pct=100.0, sales_acct_id=203897007.0, operation_type=u'INSERT', account_type=u'NAMED_ACCOUNT', account_sub_type=u'DR'),\n",
       " Row(party_id=2167986.0, parent_party_id=2142012.0, party_name=u'CBO', node_type=u'HQ', address1=u'R DES MEUNIERS', address2=None, address3=None, address4=None, city=u'COUERON', county=None, state=None, province=None, postal_code=u'44220', postal_code_extn=None, country_code=u'FR', street_name=u'DES MEUNIERS', street_number=None, street_direction=None, street_type=u'R', geo_valid_status=u'GEO_VALID', completenes_status=u'COMPLETE', cleansed_status=u'CLEANSED', start_date=u'2002-11-12 05:17:32.0', end_date=u'4712-12-31 00:00:01.0', program_id=None, request_id=None, created_by=1116.0, last_updated_by=332355.0, creation_date=datetime.date(2002, 11, 12), last_update_date=datetime.date(2015, 3, 8), certified_date=u'2015-03-08 23:34:36.0', site_expl_id=464444761.0, conflict_batch_id=86344527.0, sa_member_id=1855047.0, parent_sa_member_id=-1.0, party_level=1.0, link_party_id=2167986.0, link_party_type=u'ORGANIZATION', split_pct=100.0, sales_acct_id=203697103.0, operation_type=u'INSERT', account_type=u'NAMED_ACCOUNT', account_sub_type=u'DR'),\n",
       " Row(party_id=2179395.0, parent_party_id=2118829.0, party_name=u'VIDEOTRON LTEE', node_type=u'BR', address1=u'365 RUE SAINT-DESIRE', address2=None, address3=None, address4=None, city=u'THETFORD MINES', county=None, state=u'QC', province=None, postal_code=u'G6H 1M3', postal_code_extn=None, country_code=u'CA', street_name=u'SAINT-DESIRE', street_number=u'365', street_direction=None, street_type=u'R', geo_valid_status=u'GEO_VALID', completenes_status=u'COMPLETE', cleansed_status=u'CLEANSED', start_date=u'2002-11-12 04:30:05.0', end_date=u'4712-12-31 00:00:00.0', program_id=None, request_id=None, created_by=1116.0, last_updated_by=-1.0, creation_date=datetime.date(2002, 11, 12), last_update_date=datetime.date(2013, 8, 23), certified_date=u'2013-08-23 00:47:08.0', site_expl_id=433635116.0, conflict_batch_id=77736880.0, sa_member_id=3404658.0, parent_sa_member_id=-1.0, party_level=2.0, link_party_id=2118829.0, link_party_type=u'ORGANIZATION', split_pct=100.0, sales_acct_id=203772195.0, operation_type=u'INSERT', account_type=u'NAMED_ACCOUNT', account_sub_type=u'DR'),\n",
       " Row(party_id=2189699.0, parent_party_id=2117912.0, party_name=u'INDIGO BOOKS &MUSIC INC', node_type=u'BR', address1=u'10205 101 ST NW EDMONTON', address2=None, address3=None, address4=None, city=u'EDMONTON', county=u'ALBERTA', state=u'AB', province=None, postal_code=u'T5J 2Z2', postal_code_extn=None, country_code=u'CA', street_name=u'102A', street_number=u'10205', street_direction=u'NORTHWEST', street_type=u'AV', geo_valid_status=u'GEO_INVALID', completenes_status=u'COMPLETE', cleansed_status=u'CLEANSED', start_date=u'2002-11-12 06:43:14.0', end_date=u'4712-12-31 00:00:00.0', program_id=44953.0, request_id=12478003.0, created_by=1116.0, last_updated_by=307954.0, creation_date=datetime.date(2002, 11, 12), last_update_date=datetime.date(2006, 12, 4), certified_date=u'2006-01-09 23:07:58.0', site_expl_id=482801263.0, conflict_batch_id=87815514.0, sa_member_id=872961.0, parent_sa_member_id=-1.0, party_level=2.0, link_party_id=2117912.0, link_party_type=u'ORGANIZATION', split_pct=100.0, sales_acct_id=203860786.0, operation_type=u'INSERT', account_type=u'NAMED_ACCOUNT', account_sub_type=u'DR'),\n",
       " Row(party_id=2215642.0, parent_party_id=2128883.0, party_name=u'MUTUELLE ASSUR TRAVAILLEUR MUTUALISTE', node_type=u'BR', address1=u'31 R DES 4 EGLISES', address2=None, address3=None, address4=None, city=u'NANCY', county=None, state=None, province=None, postal_code=u'54000', postal_code_extn=None, country_code=u'FR', street_name=u'DES 4 EGLISES', street_number=u'31', street_direction=None, street_type=u'R', geo_valid_status=u'GEO_VALID', completenes_status=u'COMPLETE', cleansed_status=u'CLEANSED', start_date=u'2002-11-12 07:13:25.0', end_date=u'4712-12-31 00:00:00.0', program_id=None, request_id=None, created_by=1116.0, last_updated_by=332355.0, creation_date=datetime.date(2002, 11, 12), last_update_date=datetime.date(2015, 3, 8), certified_date=u'2015-03-08 23:36:08.0', site_expl_id=483552286.0, conflict_batch_id=87863724.0, sa_member_id=1934629.0, parent_sa_member_id=-1.0, party_level=2.0, link_party_id=2128883.0, link_party_type=u'ORGANIZATION', split_pct=100.0, sales_acct_id=221271848.0, operation_type=u'INSERT', account_type=u'NAMED_ACCOUNT', account_sub_type=u'DR')]"
      ]
     },
     "execution_count": 4,
     "metadata": {},
     "output_type": "execute_result"
    }
   ],
   "source": [
    "builder = sqlContext.sql(\"select * from edso_ignite.contest_savm\").repartition(100).cache()\n",
    "builder = apply_function(builder, ['creation_date', 'last_update_date'], parse_datetime)\n",
    "builder.take(10)"
   ]
  },
  {
   "cell_type": "code",
   "execution_count": 8,
   "metadata": {
    "collapsed": false
   },
   "outputs": [],
   "source": [
    "savm = sqlContext.sql(\"select * from edso_ignite.contest_savm\").repartition(100).cache()\n",
    "builder = savm.withColumn('cleaned_name', F.udf(clean_name, StringType())(F.col('party_name')))\n",
    "builder = Tokenizer(inputCol = 'cleaned_name', outputCol = 'tokenized_name').transform(builder)\n",
    "builder = apply_function(builder, ['creation_date', 'last_update_date'], parse_datetime)\n",
    "builder.write.saveAsTable(\"ignite.savm_parsed\", mode = 'overwrite')"
   ]
  },
  {
   "cell_type": "code",
   "execution_count": 10,
   "metadata": {
    "collapsed": false
   },
   "outputs": [
    {
     "data": {
      "text/plain": [
       "[Row(party_id=1049197.0, parent_party_id=28360.0, party_name=u'K F C NATIONAL MANAGEMENT COMPANY', node_type=u'BR', address1=u'321 E FORDHAM RD', address2=None, address3=None, address4=None, city=u'BRONX', county=u'BRONX', state=u'NY', province=None, postal_code=u'10458', postal_code_extn=u'5051', country_code=u'US', street_name=u'FORDHAM', street_number=u'321', street_direction=u'E', street_type=u'RD', geo_valid_status=u'GEO_VALID', completenes_status=u'COMPLETE', cleansed_status=u'CLEANSED', start_date=u'2002-11-12 04:50:50.0', end_date=u'4712-12-31 00:00:00.0', program_id=None, request_id=None, created_by=1116.0, last_updated_by=332355.0, creation_date=datetime.date(2002, 11, 12), last_update_date=datetime.date(2014, 11, 16), certified_date=u'2011-03-22 16:40:02.0', site_expl_id=479693272.0, conflict_batch_id=87615874.0, sa_member_id=3755141.0, parent_sa_member_id=-1.0, party_level=2.0, link_party_id=28360.0, link_party_type=u'ORGANIZATION', split_pct=50.0, sales_acct_id=276652661.0, operation_type=u'INSERT', account_type=u'NAMED_ACCOUNT', account_sub_type=u'DR', cleaned_name=u'k f c national management company', tokenized_name=[u'k', u'f', u'c', u'national', u'management', u'company'])]"
      ]
     },
     "execution_count": 10,
     "metadata": {},
     "output_type": "execute_result"
    }
   ],
   "source": [
    "sqlContext.sql('select * from ignite.savm_parsed').take(1)"
   ]
  },
  {
   "cell_type": "code",
   "execution_count": null,
   "metadata": {
    "collapsed": true
   },
   "outputs": [],
   "source": []
  }
 ],
 "metadata": {
  "kernelspec": {
   "display_name": "Python 2",
   "language": "python",
   "name": "python2"
  },
  "language_info": {
   "codemirror_mode": {
    "name": "ipython",
    "version": 2
   },
   "file_extension": ".py",
   "mimetype": "text/x-python",
   "name": "python",
   "nbconvert_exporter": "python",
   "pygments_lexer": "ipython2",
   "version": "2.7.11"
  }
 },
 "nbformat": 4,
 "nbformat_minor": 0
}
