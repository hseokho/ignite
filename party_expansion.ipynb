{
 "cells": [
  {
   "cell_type": "code",
   "execution_count": 1,
   "metadata": {
    "collapsed": false
   },
   "outputs": [],
   "source": [
    "from pyspark.sql import functions as F\n",
    "from pyspark.sql.types import *\n",
    "\n",
    "from datetime import datetime\n",
    "import pandas as pd\n",
    "import numpy as np"
   ]
  },
  {
   "cell_type": "code",
   "execution_count": 4,
   "metadata": {
    "collapsed": false
   },
   "outputs": [
    {
     "data": {
      "text/plain": [
       "DataFrame[key: string, value: string]"
      ]
     },
     "execution_count": 4,
     "metadata": {},
     "output_type": "execute_result"
    }
   ],
   "source": [
    "sqlContext.sql(\"set spark.sql.shuffle.partitions = 100\")"
   ]
  },
  {
   "cell_type": "code",
   "execution_count": 3,
   "metadata": {
    "collapsed": false
   },
   "outputs": [
    {
     "data": {
      "text/plain": [
       "[Row(tableName=u'all_hashed', isTemporary=False),\n",
       " Row(tableName=u'contest_cr_compressed', isTemporary=False),\n",
       " Row(tableName=u'contest_data_sample', isTemporary=False),\n",
       " Row(tableName=u'contest_data_stamped', isTemporary=False),\n",
       " Row(tableName=u'contest_savm_compressed', isTemporary=False),\n",
       " Row(tableName=u'contest_sol_end_customer_compressed', isTemporary=False),\n",
       " Row(tableName=u'cr_hashed', isTemporary=False),\n",
       " Row(tableName=u'lsh_pairs', isTemporary=False),\n",
       " Row(tableName=u'lsh_savm_candidates', isTemporary=False),\n",
       " Row(tableName=u'savm_candidate_gen', isTemporary=False),\n",
       " Row(tableName=u'savm_hashed', isTemporary=False),\n",
       " Row(tableName=u'string_to_string', isTemporary=False),\n",
       " Row(tableName=u'test', isTemporary=False)]"
      ]
     },
     "execution_count": 3,
     "metadata": {},
     "output_type": "execute_result"
    }
   ],
   "source": [
    "sqlContext.sql(\"show tables in ignite\").collect()"
   ]
  },
  {
   "cell_type": "code",
   "execution_count": 6,
   "metadata": {
    "collapsed": false
   },
   "outputs": [],
   "source": [
    "contest_data = sqlContext.sql(\"select * from ignite.contest_data_stamped\").cache()\n",
    "so_end_customer = sqlContext.sql('select * from edso_ignite.contest_so_end_customer').repartition(200).cache()\n",
    "sol_end_customer = sqlContext.sql('select * from edso_ignite.contest_sol_end_customer').repartition(200).cache()\n",
    "party_info = sqlContext.sql(\"select * from edso_ignite.contest_party_info\").repartition(200).cache()\n",
    "end_customer = sqlContext.sql('select * from edso_ignite.contest_end_customer').repartition(200).cache()\n",
    "cr_parsed = sqlContext.sql('select * from ignite.cr_parsed').repartition(200).cache()\n",
    "savm_parsed = sqlContext.sql(\"select * from ignite.savm_parsed\").repartition(200, 'party_id').cache()"
   ]
  },
  {
   "cell_type": "code",
   "execution_count": 4,
   "metadata": {
    "collapsed": false
   },
   "outputs": [
    {
     "data": {
      "text/plain": [
       "[Row(endcustomerlinefixed=u'CALPINE', pppk=113405770, fppk=677259, decision_date_time=u'2015-07-03 05:48:05.0', days_from_create_to_final_decision=20.208333, end_customer_party_ssot_party_id_int_sav_party_id=184948898, prior_party_ssot_party_id_int_sav_party_id=184948898, final_party_ssot_party_id_int_sav_party_id=2649467, type=u'Reviewed_and_modified', priorpartyname=u'CALPINE', finalpartyname=u'CALPINE CORPORATION', sales_order_key=23867682, sales_order_line_key=235827955, so_number_int=100729935, end_customer_key_line_level=52302581, end_customer_key_order_level=14654135, dd_end_customer_type_order_level=u'ACCOUNT_LOCATION                                  ', purchase_order_type_code=u'Resale', purchase_order_number=u'38504904-01', order_datetime=u'2015-06-13 00:05:58.0', oracle_book_datetime=u'2015-06-12 17:38:00.0', transactional_currency_code=u'USD            ', customer_service_rep_name=u'null', cust_svc_rep_team_name=u'null', conversion_type_code=u'Corporate', original_system_reference_code=u'CSCC8535637', submitted_on_web_by_name=u'-1', deal_id=u'15060471', price_list_name=u'Global Price List', so_source_name=u'SCCEXT', order_type_name=u'Invoice Only Cisco - US', so_src_crt_datetime=u'2015-06-12 17:09:38.0', sales_channel_code=u'Value Added Resellers', sales_channel_source_type=u'ERP             ', sales_order_category_type=u'ORDER ', ship_to_customer_key=14654135, bill_to_customer_key=11852166, sold_to_customer_key=8750647, ss_code=u'CG      ', end_ssp_date=u'3500-01-01 00:00:00.0', ru_bk_orig_sales_order_key=-9999, so_created_by_erp_user_name=u'CCWADM', so_modified_by_erp_user_name=u'ASHAMHEG', sk_sales_order_header_id_int=602307242, sales_order_program_type_name=u'Invoice Only', sales_acct_id=203684886.0, id=335007449088)]"
      ]
     },
     "execution_count": 4,
     "metadata": {},
     "output_type": "execute_result"
    }
   ],
   "source": [
    "contest_data.take(1)"
   ]
  },
  {
   "cell_type": "code",
   "execution_count": 5,
   "metadata": {
    "collapsed": false
   },
   "outputs": [],
   "source": [
    "pppk_parties = party_info.select([\n",
    "        F.col('party_key').alias('pppk_party_key'), F.col('party_ssot_party_id_int').alias('pppk_party')\n",
    "    ])\n",
    "\n",
    "def drop_columns(df, columns):\n",
    "    return df.select([c for c in df.columns if c not in columns])\n",
    "\n",
    "def alias_end_customer(prefix, key_alias = 'end_customer_key'):\n",
    "    return end_customer.select([\n",
    "            F.col('end_customer_key').alias(key_alias),\n",
    "            F.col('branch_party_ssot_party_id_int').alias(prefix + '_branch_party'),\n",
    "            F.col('gu_party_ssot_party_id_int').alias(prefix + '_gu_party'),\n",
    "            F.col('hq_party_ssot_party_id_int').alias(prefix + '_hq_party')\n",
    "        ])\n",
    "\n",
    "def apply_function(df, fields, function):\n",
    "    column_objects = []\n",
    "    for column in df.columns:\n",
    "        if column in fields:\n",
    "            column_objects.append(function(column))\n",
    "        else:\n",
    "            column_objects.append(column)\n",
    "    return df.select(column_objects)\n",
    "\n",
    "max_date = pd.datetime.today()\n",
    "\n",
    "def parse_datetime(column):\n",
    "    return F.udf(lambda x : datetime.strptime(x, '%Y-%m-%d %H:%M:%S.0'), DateType())(F.col(column)).alias(column)\n",
    "\n",
    "def clean_text(name):\n",
    "    name = name.replace(\"-\", \" \").replace(\",\", \" \").replace(\"-\", \" \").replace(\"/\", \" \").replace(\"(\", \" \").replace(\")\", \" \")\n",
    "    name = name.replace('. ', \" \").lower()\n",
    "    return ' '.join(name.split())\n",
    "\n",
    "def udf_clean_test(column):\n",
    "    return F.udf(lambda x : clean_text(x), StringType())(F.col(column)).alias(column)\n",
    "\n",
    "\n",
    "so_party = so_end_customer.select([\n",
    "        'sales_order_key', F.col('end_customer_key').alias('end_customer_key_so_party')\n",
    "    ]).join(alias_end_customer('so', 'end_customer_key_so_party'), on = 'end_customer_key_so_party')\n",
    "\n",
    "sol_party = sol_end_customer.select([\n",
    "        'sales_order_line_key', F.col('end_customer_key').alias('end_customer_key_sol_party')\n",
    "    ]).join(alias_end_customer('sol', 'end_customer_key_sol_party'), on = 'end_customer_key_sol_party')\n",
    "\n",
    "builder = apply_function(contest_data, ['decision_date_time'], parse_datetime)\n",
    "\n",
    "builder = builder.withColumn('end_customer_line_fix', udf_clean_test('endcustomerlinefixed'))\n",
    "builder = builder.withColumn('prior_party_name', udf_clean_test('priorpartyname'))\n",
    "\n",
    "party_joined = builder.join(pppk_parties, on = F.col('pppk_party_key') == F.col('pppk'), how = 'left') \\\n",
    "                    .join(so_party, on = 'sales_order_key', how = 'left') \\\n",
    "                    .join(sol_party, on = 'sales_order_line_key', how = 'left') \\\n",
    "                    .join(alias_end_customer('order_level', 'end_customer_key_order_level'), on = 'end_customer_key_order_level', how = 'left') \\\n",
    "                    .join(alias_end_customer('line_level', 'end_customer_key_line_level'), on = 'end_customer_key_line_level', how = 'left') \\\n",
    "                    \n",
    "party_joined = party_joined.join(alias_end_customer('ship_to', 'ship_to_customer_key'), on = 'ship_to_customer_key', how = 'left') \\\n",
    "                    .join(alias_end_customer('bill_to', 'bill_to_customer_key'), on = 'bill_to_customer_key', how = 'left') \\\n",
    "                    .join(alias_end_customer('sold_to', 'sold_to_customer_key'), on = 'sold_to_customer_key', how = 'left')"
   ]
  },
  {
   "cell_type": "code",
   "execution_count": 6,
   "metadata": {
    "collapsed": true
   },
   "outputs": [],
   "source": [
    "party_joined = party_joined.cache()"
   ]
  },
  {
   "cell_type": "code",
   "execution_count": 7,
   "metadata": {
    "collapsed": true
   },
   "outputs": [],
   "source": [
    "party_values = [\n",
    "    'end_customer_party_ssot_party_id_int_sav_party_id',\n",
    "    'prior_party_ssot_party_id_int_sav_party_id',\n",
    "    'sol_branch_party',\n",
    "    'sol_gu_party',\n",
    "    'sol_hq_party',\n",
    "    'order_level_branch_party',\n",
    "    'order_level_gu_party',\n",
    "    'order_level_hq_party',\n",
    "    'line_level_branch_party',\n",
    "    'line_level_gu_party',\n",
    "    'line_level_hq_party',\n",
    "    'ship_to_branch_party',\n",
    "    'ship_to_gu_party',\n",
    "    'ship_to_hq_party',\n",
    "    'bill_to_branch_party',\n",
    "    'bill_to_gu_party',\n",
    "    'bill_to_hq_party',\n",
    "    'sold_to_branch_party',\n",
    "    'sold_to_gu_party',\n",
    "    'sold_to_hq_party'\n",
    "]"
   ]
  },
  {
   "cell_type": "code",
   "execution_count": 21,
   "metadata": {
    "collapsed": false
   },
   "outputs": [],
   "source": [
    "party_joined.write.saveAsTable('ignite.party_expansion')"
   ]
  },
  {
   "cell_type": "code",
   "execution_count": 8,
   "metadata": {
    "collapsed": false
   },
   "outputs": [],
   "source": [
    "party_joined = sqlContext.sql('drop table ignite.party_expansion')"
   ]
  },
  {
   "cell_type": "code",
   "execution_count": 4,
   "metadata": {
    "collapsed": false
   },
   "outputs": [],
   "source": [
    "party_expansion = sqlContext.sql('select * from ignite.party_expansion')"
   ]
  },
  {
   "cell_type": "code",
   "execution_count": 5,
   "metadata": {
    "collapsed": false
   },
   "outputs": [
    {
     "data": {
      "text/plain": [
       "[Row(sales_acct_id=203781069.0, count(id)=5),\n",
       " Row(sales_acct_id=203739089.0, count(id)=9),\n",
       " Row(sales_acct_id=203811794.0, count(id)=53),\n",
       " Row(sales_acct_id=203901909.0, count(id)=74),\n",
       " Row(sales_acct_id=203686898.0, count(id)=2),\n",
       " Row(sales_acct_id=207742953.0, count(id)=3),\n",
       " Row(sales_acct_id=203719619.0, count(id)=902),\n",
       " Row(sales_acct_id=203897828.0, count(id)=16),\n",
       " Row(sales_acct_id=203778995.0, count(id)=44),\n",
       " Row(sales_acct_id=203901870.0, count(id)=4),\n",
       " Row(sales_acct_id=203851661.0, count(id)=80),\n",
       " Row(sales_acct_id=203706304.0, count(id)=117),\n",
       " Row(sales_acct_id=203779034.0, count(id)=2),\n",
       " Row(sales_acct_id=203795336.0, count(id)=5),\n",
       " Row(sales_acct_id=264618915.0, count(id)=12),\n",
       " Row(sales_acct_id=203860881.0, count(id)=6),\n",
       " Row(sales_acct_id=203799431.0, count(id)=36),\n",
       " Row(sales_acct_id=203729830.0, count(id)=30),\n",
       " Row(sales_acct_id=208240541.0, count(id)=3),\n",
       " Row(sales_acct_id=203774953.0, count(id)=365),\n",
       " Row(sales_acct_id=203885543.0, count(id)=1),\n",
       " Row(sales_acct_id=258212824.0, count(id)=2),\n",
       " Row(sales_acct_id=254710749.0, count(id)=25),\n",
       " Row(sales_acct_id=203837394.0, count(id)=63),\n",
       " Row(sales_acct_id=203767715.0, count(id)=7),\n",
       " Row(sales_acct_id=277049287.0, count(id)=10),\n",
       " Row(sales_acct_id=271429597.0, count(id)=1),\n",
       " Row(sales_acct_id=231797680.0, count(id)=2),\n",
       " Row(sales_acct_id=203720610.0, count(id)=37),\n",
       " Row(sales_acct_id=203894671.0, count(id)=18),\n",
       " Row(sales_acct_id=253789163.0, count(id)=1),\n",
       " Row(sales_acct_id=203727834.0, count(id)=16),\n",
       " Row(sales_acct_id=203898805.0, count(id)=15),\n",
       " Row(sales_acct_id=203761546.0, count(id)=26),\n",
       " Row(sales_acct_id=221543413.0, count(id)=3),\n",
       " Row(sales_acct_id=203895754.0, count(id)=5),\n",
       " Row(sales_acct_id=203698114.0, count(id)=6),\n",
       " Row(sales_acct_id=203879296.0, count(id)=2),\n",
       " Row(sales_acct_id=278425557.0, count(id)=16),\n",
       " Row(sales_acct_id=254332801.0, count(id)=35),\n",
       " Row(sales_acct_id=203715524.0, count(id)=42),\n",
       " Row(sales_acct_id=205935525.0, count(id)=77),\n",
       " Row(sales_acct_id=203701218.0, count(id)=44),\n",
       " Row(sales_acct_id=265569258.0, count(id)=48),\n",
       " Row(sales_acct_id=253776878.0, count(id)=2),\n",
       " Row(sales_acct_id=222094328.0, count(id)=4),\n",
       " Row(sales_acct_id=203876309.0, count(id)=458),\n",
       " Row(sales_acct_id=203811716.0, count(id)=139),\n",
       " Row(sales_acct_id=203734916.0, count(id)=64),\n",
       " Row(sales_acct_id=203828121.0, count(id)=7),\n",
       " Row(sales_acct_id=222092254.0, count(id)=22),\n",
       " Row(sales_acct_id=221277163.0, count(id)=1),\n",
       " Row(sales_acct_id=203764728.0, count(id)=696),\n",
       " Row(sales_acct_id=233627604.0, count(id)=1),\n",
       " Row(sales_acct_id=253631415.0, count(id)=3),\n",
       " Row(sales_acct_id=203879413.0, count(id)=1),\n",
       " Row(sales_acct_id=203775891.0, count(id)=3),\n",
       " Row(sales_acct_id=270469002.0, count(id)=2),\n",
       " Row(sales_acct_id=276957160.0, count(id)=66),\n",
       " Row(sales_acct_id=203789206.0, count(id)=3),\n",
       " Row(sales_acct_id=203762654.0, count(id)=24),\n",
       " Row(sales_acct_id=229330913.0, count(id)=1),\n",
       " Row(sales_acct_id=253489031.0, count(id)=7),\n",
       " Row(sales_acct_id=253672326.0, count(id)=54),\n",
       " Row(sales_acct_id=203739011.0, count(id)=2),\n",
       " Row(sales_acct_id=216348595.0, count(id)=17),\n",
       " Row(sales_acct_id=203885490.0, count(id)=16),\n",
       " Row(sales_acct_id=203763606.0, count(id)=30),\n",
       " Row(sales_acct_id=203759550.0, count(id)=9),\n",
       " Row(sales_acct_id=203750305.0, count(id)=2),\n",
       " Row(sales_acct_id=203887603.0, count(id)=14),\n",
       " Row(sales_acct_id=276490051.0, count(id)=21),\n",
       " Row(sales_acct_id=203840459.0, count(id)=39),\n",
       " Row(sales_acct_id=203852783.0, count(id)=11),\n",
       " Row(sales_acct_id=208246710.0, count(id)=3),\n",
       " Row(sales_acct_id=272246737.0, count(id)=1),\n",
       " Row(sales_acct_id=203853721.0, count(id)=1),\n",
       " Row(sales_acct_id=203788215.0, count(id)=1),\n",
       " Row(sales_acct_id=220376038.0, count(id)=30),\n",
       " Row(sales_acct_id=203776974.0, count(id)=25),\n",
       " Row(sales_acct_id=203785111.0, count(id)=6),\n",
       " Row(sales_acct_id=277127167.0, count(id)=2),\n",
       " Row(sales_acct_id=203764611.0, count(id)=100),\n",
       " Row(sales_acct_id=270462821.0, count(id)=1),\n",
       " Row(sales_acct_id=203862955.0, count(id)=104),\n",
       " Row(sales_acct_id=203697109.0, count(id)=228),\n",
       " Row(sales_acct_id=203893733.0, count(id)=2),\n",
       " Row(sales_acct_id=203861950.0, count(id)=5),\n",
       " Row(sales_acct_id=253412309.0, count(id)=5),\n",
       " Row(sales_acct_id=203774914.0, count(id)=2),\n",
       " Row(sales_acct_id=203844515.0, count(id)=16),\n",
       " Row(sales_acct_id=203876270.0, count(id)=4),\n",
       " Row(sales_acct_id=203802574.0, count(id)=43),\n",
       " Row(sales_acct_id=213273530.0, count(id)=3),\n",
       " Row(sales_acct_id=203728825.0, count(id)=47),\n",
       " Row(sales_acct_id=203799509.0, count(id)=1),\n",
       " Row(sales_acct_id=203895701.0, count(id)=3),\n",
       " Row(sales_acct_id=253849505.0, count(id)=1),\n",
       " Row(sales_acct_id=203689910.0, count(id)=43),\n",
       " Row(sales_acct_id=203729816.0, count(id)=2)]"
      ]
     },
     "execution_count": 5,
     "metadata": {},
     "output_type": "execute_result"
    }
   ],
   "source": [
    "party_expansion.groupby('sales_acct_id').agg({'id' : 'count'}).take(100)"
   ]
  },
  {
   "cell_type": "code",
   "execution_count": 7,
   "metadata": {
    "collapsed": false
   },
   "outputs": [
    {
     "data": {
      "text/plain": [
       "[Row(party_id=42480121.0, parent_party_id=4235570.0, party_name=u'AGILENT TECHNOLOGIES', node_type=u'BR', address1=u'5301 EL CAMINO REAL', address2=None, address3=None, address4=None, city=u'SANTA CLARA', county=u'SANTA CLARA', state=u'CA', province=None, postal_code=u'95053', postal_code_extn=None, country_code=u'US', street_name=u'EL CAMINO REAL', street_number=u'5301', street_direction=None, street_type=None, geo_valid_status=u'GEO_VALID', completenes_status=u'COMPLETE', cleansed_status=u'CLEANSED', start_date=u'2007-01-16 05:37:20.0', end_date=u'4712-12-31 00:00:01.0', program_id=None, request_id=None, created_by=307954.0, last_updated_by=307954.0, creation_date=datetime.date(2007, 1, 16), last_update_date=datetime.date(2007, 1, 16), certified_date=u'2007-01-16 05:37:20.0', site_expl_id=441380052.0, conflict_batch_id=83453461.0, sa_member_id=470534.0, parent_sa_member_id=6088.0, party_level=3.0, link_party_id=203666453.0, link_party_type=u'TEMPLATE', split_pct=100.0, sales_acct_id=203719619.0, operation_type=u'UPDATE', account_type=u'NAMED_ACCOUNT', account_sub_type=u'DR', cleaned_name=u'agilent technologies', tokenized_name=[u'agilent', u'technologies']),\n",
       " Row(party_id=197696445.0, parent_party_id=4235570.0, party_name=u'AGILENT TECHNOLOGIES', node_type=u'BR', address1=u'402 BROOKWOOD RD', address2=None, address3=None, address4=None, city=u'ROSEVILLE', county=u'PLACER', state=u'CA', province=None, postal_code=u'95678', postal_code_extn=None, country_code=u'US', street_name=u'BROOKWOOD', street_number=u'402', street_direction=None, street_type=u'RD', geo_valid_status=u'GEO_VALID', completenes_status=u'COMPLETE', cleansed_status=u'CLEANSED', start_date=u'2012-12-10 15:04:47.0', end_date=u'4712-12-31 00:00:01.0', program_id=None, request_id=None, created_by=307958.0, last_updated_by=307958.0, creation_date=datetime.date(2012, 12, 10), last_update_date=datetime.date(2012, 12, 10), certified_date=u'2012-12-10 15:04:47.0', site_expl_id=441437619.0, conflict_batch_id=83453506.0, sa_member_id=470534.0, parent_sa_member_id=6088.0, party_level=3.0, link_party_id=203666453.0, link_party_type=u'TEMPLATE', split_pct=100.0, sales_acct_id=203719619.0, operation_type=u'UPDATE', account_type=u'NAMED_ACCOUNT', account_sub_type=u'DR', cleaned_name=u'agilent technologies', tokenized_name=[u'agilent', u'technologies']),\n",
       " Row(party_id=4279548.0, parent_party_id=4235570.0, party_name=u'AGILENT TECHNOLOGIES, INC.', node_type=u'BR', address1=u'900 S TAFT AVE', address2=None, address3=None, address4=None, city=u'LOVELAND', county=u'LARIMER', state=u'CO', province=None, postal_code=u'80537', postal_code_extn=u'6330', country_code=u'US', street_name=u'TAFT', street_number=u'900', street_direction=u'S', street_type=u'AVE', geo_valid_status=u'GEO_VALID', completenes_status=u'COMPLETE', cleansed_status=u'CLEANSED', start_date=u'2002-11-12 16:05:02.0', end_date=u'4712-12-31 00:00:00.0', program_id=None, request_id=None, created_by=1116.0, last_updated_by=332355.0, creation_date=datetime.date(2002, 11, 12), last_update_date=datetime.date(2014, 11, 16), certified_date=u'2011-10-14 08:53:58.0', site_expl_id=440905567.0, conflict_batch_id=83453418.0, sa_member_id=470534.0, parent_sa_member_id=6088.0, party_level=3.0, link_party_id=203666453.0, link_party_type=u'TEMPLATE', split_pct=100.0, sales_acct_id=203719619.0, operation_type=u'UPDATE', account_type=u'NAMED_ACCOUNT', account_sub_type=u'DR', cleaned_name=u'agilent technologies inc.', tokenized_name=[u'agilent', u'technologies', u'inc.']),\n",
       " Row(party_id=40569318.0, parent_party_id=4235570.0, party_name=u'AGILENT', node_type=u'BR', address1=u'111 8TH AVENUE', address2=u'B MAIN F 3RD', address3=u'SUITE 827', address4=u' ', city=u'NEW YORK', county=u'NEW YORK', state=u'NY', province=None, postal_code=u'10011', postal_code_extn=None, country_code=u'US', street_name=None, street_number=None, street_direction=None, street_type=None, geo_valid_status=u'GEO_VALID', completenes_status=u'COMPLETE', cleansed_status=u'NOT_CLEANSED', start_date=u'2006-10-12 09:59:26.0', end_date=u'4712-12-31 00:00:01.0', program_id=44953.0, request_id=12262800.0, created_by=-1.0, last_updated_by=305158.0, creation_date=datetime.date(2006, 10, 12), last_update_date=datetime.date(2006, 11, 24), certified_date=u'2014-09-26 06:52:20.0', site_expl_id=441073478.0, conflict_batch_id=83453378.0, sa_member_id=470534.0, parent_sa_member_id=6088.0, party_level=3.0, link_party_id=203666453.0, link_party_type=u'TEMPLATE', split_pct=100.0, sales_acct_id=203719619.0, operation_type=u'UPDATE', account_type=u'NAMED_ACCOUNT', account_sub_type=u'DR', cleaned_name=u'agilent', tokenized_name=[u'agilent']),\n",
       " Row(party_id=5467039.0, parent_party_id=4235570.0, party_name=u'VELOCITY11', node_type=u'HQ', address1=u'3565 HAVEN AVE', address2=None, address3=None, address4=None, city=u'MENLO PARK', county=u'SAN MATEO', state=u'CA', province=None, postal_code=u'94025', postal_code_extn=u'2203', country_code=u'US', street_name=u'HAVEN', street_number=u'3565', street_direction=None, street_type=u'AVE', geo_valid_status=u'GEO_VALID', completenes_status=u'COMPLETE', cleansed_status=u'CLEANSED', start_date=u'2002-11-12 20:15:57.0', end_date=u'4712-12-31 00:00:01.0', program_id=46063.0, request_id=83202063.0, created_by=1116.0, last_updated_by=316142.0, creation_date=datetime.date(2002, 11, 12), last_update_date=datetime.date(2013, 6, 16), certified_date=u'2013-06-16 22:53:46.0', site_expl_id=441791113.0, conflict_batch_id=83453581.0, sa_member_id=470534.0, parent_sa_member_id=6538.0, party_level=2.0, link_party_id=203666453.0, link_party_type=u'TEMPLATE', split_pct=100.0, sales_acct_id=203719619.0, operation_type=u'UPDATE', account_type=u'NAMED_ACCOUNT', account_sub_type=u'DR', cleaned_name=u'velocity11', tokenized_name=[u'velocity11']),\n",
       " Row(party_id=5915843.0, parent_party_id=4235570.0, party_name=u'AGILENT TECHNOLOGIES, INC', node_type=u'BR', address1=u'3910 BRICKWAY BLVD', address2=None, address3=None, address4=None, city=u'SANTA ROSA', county=u'SONOMA', state=u'CA', province=None, postal_code=u'95403', postal_code_extn=u'1070', country_code=u'US', street_name=u'BRICKWAY', street_number=u'3910', street_direction=None, street_type=u'BLVD', geo_valid_status=u'GEO_VALID', completenes_status=u'COMPLETE', cleansed_status=u'CLEANSED', start_date=u'2002-11-12 20:53:57.0', end_date=u'4712-12-31 00:00:00.0', program_id=44449.0, request_id=24792395.0, created_by=1116.0, last_updated_by=305153.0, creation_date=datetime.date(2002, 11, 12), last_update_date=datetime.date(2008, 11, 25), certified_date=u'2012-09-24 22:00:52.0', site_expl_id=441430554.0, conflict_batch_id=83453493.0, sa_member_id=470534.0, parent_sa_member_id=6088.0, party_level=3.0, link_party_id=203666453.0, link_party_type=u'TEMPLATE', split_pct=100.0, sales_acct_id=203719619.0, operation_type=u'UPDATE', account_type=u'NAMED_ACCOUNT', account_sub_type=u'DR', cleaned_name=u'agilent technologies inc', tokenized_name=[u'agilent', u'technologies', u'inc']),\n",
       " Row(party_id=114936338.0, parent_party_id=4235570.0, party_name=u'AGILENT TECHNOLOGIES, INC.', node_type=u'BR', address1=u'5553 W WATERS AVE - 300A', address2=None, address3=None, address4=None, city=u'TAMPA', county=u'HILLSBOROUGH', state=u'FL', province=None, postal_code=u'33634', postal_code_extn=None, country_code=u'US', street_name=u'WATERS', street_number=u'5553', street_direction=u'WEST', street_type=u'AVE', geo_valid_status=u'GEO_VALID', completenes_status=u'COMPLETE', cleansed_status=u'CLEANSED', start_date=u'2008-06-12 02:17:04.0', end_date=u'4712-12-31 00:00:01.0', program_id=44449.0, request_id=33547799.0, created_by=305153.0, last_updated_by=305153.0, creation_date=datetime.date(2008, 6, 12), last_update_date=datetime.date(2009, 10, 15), certified_date=u'2009-10-15 23:29:58.0', site_expl_id=446970319.0, conflict_batch_id=83453363.0, sa_member_id=470534.0, parent_sa_member_id=6088.0, party_level=3.0, link_party_id=203666453.0, link_party_type=u'TEMPLATE', split_pct=100.0, sales_acct_id=203719619.0, operation_type=u'UPDATE', account_type=u'NAMED_ACCOUNT', account_sub_type=u'DR', cleaned_name=u'agilent technologies inc.', tokenized_name=[u'agilent', u'technologies', u'inc.']),\n",
       " Row(party_id=251244627.0, parent_party_id=217535853.0, party_name=u'AGILENT', node_type=u'BR', address1=u'85 BERRY ST', address2=None, address3=None, address4=None, city=u'SAN FRANCISCO', county=u'SAN FRANCISCO', state=u'CA', province=None, postal_code=u'94107', postal_code_extn=None, country_code=u'US', street_name=u'BERRY', street_number=u'85', street_direction=None, street_type=u'ST', geo_valid_status=u'GEO_VALID', completenes_status=u'COMPLETE', cleansed_status=u'CLEANSED', start_date=u'2015-06-29 10:47:10.0', end_date=u'4712-12-31 00:00:01.0', program_id=None, request_id=None, created_by=307958.0, last_updated_by=307958.0, creation_date=datetime.date(2015, 6, 29), last_update_date=datetime.date(2015, 6, 29), certified_date=u'2015-06-29 10:47:10.0', site_expl_id=508078483.0, conflict_batch_id=90142147.0, sa_member_id=3826719.0, parent_sa_member_id=-1.0, party_level=2.0, link_party_id=217535853.0, link_party_type=u'ORGANIZATION', split_pct=100.0, sales_acct_id=203719619.0, operation_type=u'INSERT', account_type=u'NAMED_ACCOUNT', account_sub_type=u'DR', cleaned_name=u'agilent', tokenized_name=[u'agilent']),\n",
       " Row(party_id=41706506.0, parent_party_id=4235570.0, party_name=u'TECHNOLOGIES AGILENT', node_type=u'BR', address1=u'3663 W BARCELONA DR', address2=None, address3=None, address4=None, city=u'CHANDLER', county=u'MARICOPA', state=u'AZ', province=None, postal_code=u'85226', postal_code_extn=u'1379', country_code=u'US', street_name=u'BARCELONA', street_number=u'3663', street_direction=u'W', street_type=u'DR', geo_valid_status=u'GEO_VALID', completenes_status=u'COMPLETE', cleansed_status=u'CLEANSED', start_date=u'2006-12-21 17:55:18.0', end_date=u'4712-12-31 00:00:01.0', program_id=None, request_id=None, created_by=305151.0, last_updated_by=332355.0, creation_date=datetime.date(2006, 12, 21), last_update_date=datetime.date(2014, 11, 17), certified_date=u'2013-10-04 19:19:39.0', site_expl_id=441090515.0, conflict_batch_id=83453377.0, sa_member_id=470534.0, parent_sa_member_id=6088.0, party_level=3.0, link_party_id=203666453.0, link_party_type=u'TEMPLATE', split_pct=100.0, sales_acct_id=203719619.0, operation_type=u'UPDATE', account_type=u'NAMED_ACCOUNT', account_sub_type=u'DR', cleaned_name=u'technologies agilent', tokenized_name=[u'technologies', u'agilent']),\n",
       " Row(party_id=270723197.0, parent_party_id=3993926.0, party_name=u'KEYSIGHT TECHNOLOGIES', node_type=u'BR', address1=u'1900 GARDEN OF THE GODS RD', address2=u'BLDG 00234', address3=None, address4=None, city=u'COLORADO SPRINGS', county=u'EL PASO', state=u'CO', province=None, postal_code=u'80907', postal_code_extn=None, country_code=u'US', street_name=u'GARDEN OF THE GODS', street_number=u'1900', street_direction=None, street_type=u'RD', geo_valid_status=u'GEO_VALID', completenes_status=u'COMPLETE', cleansed_status=u'CLEANSED', start_date=u'2016-03-28 22:39:09.0', end_date=u'4712-12-31 00:00:01.0', program_id=None, request_id=None, created_by=307958.0, last_updated_by=401876.0, creation_date=datetime.date(2016, 3, 28), last_update_date=datetime.date(2016, 11, 17), certified_date=u'2016-11-17 21:12:47.0', site_expl_id=523273432.0, conflict_batch_id=90731204.0, sa_member_id=3702272.0, parent_sa_member_id=-1.0, party_level=2.0, link_party_id=3993926.0, link_party_type=u'ORGANIZATION', split_pct=100.0, sales_acct_id=203719619.0, operation_type=u'INSERT', account_type=u'NAMED_ACCOUNT', account_sub_type=u'DR', cleaned_name=u'keysight technologies', tokenized_name=[u'keysight', u'technologies'])]"
      ]
     },
     "execution_count": 7,
     "metadata": {},
     "output_type": "execute_result"
    }
   ],
   "source": [
    "savm_parsed.where(F.col('sales_acct_id') == 203719619.0).take(10)"
   ]
  },
  {
   "cell_type": "code",
   "execution_count": null,
   "metadata": {
    "collapsed": true
   },
   "outputs": [],
   "source": []
  }
 ],
 "metadata": {
  "kernelspec": {
   "display_name": "Python 2",
   "language": "python",
   "name": "python2"
  },
  "language_info": {
   "codemirror_mode": {
    "name": "ipython",
    "version": 2
   },
   "file_extension": ".py",
   "mimetype": "text/x-python",
   "name": "python",
   "nbconvert_exporter": "python",
   "pygments_lexer": "ipython2",
   "version": "2.7.11"
  }
 },
 "nbformat": 4,
 "nbformat_minor": 0
}
